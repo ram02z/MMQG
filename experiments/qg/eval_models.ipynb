{
 "cells": [
  {
   "cell_type": "code",
   "execution_count": 169,
   "id": "initial_id",
   "metadata": {
    "collapsed": true,
    "ExecuteTime": {
     "end_time": "2023-12-05T17:38:34.121757300Z",
     "start_time": "2023-12-05T17:38:33.766736800Z"
    }
   },
   "outputs": [],
   "source": [
    "import pickle\n",
    "import evaluate\n",
    "\n",
    "from transformers import (\n",
    "    AutoTokenizer,\n",
    "    AutoModelForSeq2SeqLM,\n",
    "    BartTokenizer,\n",
    "    T5ForConditionalGeneration,\n",
    "    T5Tokenizer,\n",
    ")"
   ]
  },
  {
   "cell_type": "markdown",
   "source": [
    "## Models"
   ],
   "metadata": {
    "collapsed": false
   },
   "id": "1b38df6f44f531e9"
  },
  {
   "cell_type": "markdown",
   "source": [
    "### [t5-small-squad2-question-generation](https://huggingface.co/allenai/t5-small-squad2-question-generation)"
   ],
   "metadata": {
    "collapsed": false
   },
   "id": "bba13ad4827a55fc"
  },
  {
   "cell_type": "code",
   "execution_count": 170,
   "outputs": [],
   "source": [
    "def gen_t5_squad2(chunks):\n",
    "    chunks_questions = {}\n",
    "\n",
    "    model_name = \"allenai/t5-small-squad2-question-generation\"\n",
    "    tokenizer = T5Tokenizer.from_pretrained(model_name)\n",
    "    model = T5ForConditionalGeneration.from_pretrained(model_name)\n",
    "    for chunk in chunks:\n",
    "        encoder_ids = tokenizer.batch_encode_plus(\n",
    "            [chunk[\"text\"]],\n",
    "            add_special_tokens=True,\n",
    "            padding=True,\n",
    "            truncation=True,\n",
    "            return_tensors=\"pt\",\n",
    "        )\n",
    "        decoder_input_ids = tokenizer.batch_encode_plus(\n",
    "            [\"What\"],\n",
    "            add_special_tokens=True,\n",
    "            return_tensors=\"pt\"\n",
    "        )[\"input_ids\"][:, :-1]\n",
    "        model_output = model.generate(\n",
    "            **encoder_ids,\n",
    "            decoder_input_ids=decoder_input_ids\n",
    "        )\n",
    "        generated_questions = tokenizer.batch_decode(\n",
    "            model_output, skip_special_tokens=True\n",
    "        )\n",
    "        \n",
    "        chunks_questions[chunk[\"text\"]] = generated_questions[0]\n",
    "\n",
    "\n",
    "    return chunks_questions"
   ],
   "metadata": {
    "collapsed": false,
    "ExecuteTime": {
     "end_time": "2023-12-05T17:38:34.265895800Z",
     "start_time": "2023-12-05T17:38:33.823436700Z"
    }
   },
   "id": "eaeb576ad0aeca7d"
  },
  {
   "cell_type": "markdown",
   "source": [
    "### [Salesforce/discord_qg](https://huggingface.co/Salesforce/discord_qg)\n",
    "\n",
    "> Uses the start word 'What' for generated questions"
   ],
   "metadata": {
    "collapsed": false
   },
   "id": "a52c8c43f0f3c41b"
  },
  {
   "cell_type": "code",
   "execution_count": 171,
   "outputs": [],
   "source": [
    "def gen_bart_discord(chunks):\n",
    "    chunks_questions = {}\n",
    "\n",
    "    qg_tokenizer = AutoTokenizer.from_pretrained(\"Salesforce/discord_qg\")\n",
    "    qg_model = AutoModelForSeq2SeqLM.from_pretrained(\"Salesforce/discord_qg\")\n",
    "\n",
    "    for chunk in chunks:\n",
    "        encoder_ids = qg_tokenizer.batch_encode_plus(\n",
    "            [chunk[\"text\"]],\n",
    "            add_special_tokens=True,\n",
    "            padding=True,\n",
    "            truncation=True,\n",
    "            return_tensors=\"pt\",\n",
    "        )\n",
    "        decoder_input_ids = qg_tokenizer.batch_encode_plus(\n",
    "            [\"What\"],\n",
    "            add_special_tokens=True,\n",
    "            return_tensors=\"pt\"\n",
    "        )[\"input_ids\"][:, :-1]\n",
    "        model_output = qg_model.generate(\n",
    "            **encoder_ids,\n",
    "            decoder_input_ids=decoder_input_ids\n",
    "        )\n",
    "        generated_questions = qg_tokenizer.batch_decode(\n",
    "            model_output, skip_special_tokens=True\n",
    "        )\n",
    "\n",
    "        chunks_questions[chunk[\"text\"]] = generated_questions[0]\n",
    "\n",
    "    return chunks_questions"
   ],
   "metadata": {
    "collapsed": false,
    "ExecuteTime": {
     "end_time": "2023-12-05T17:38:34.265895800Z",
     "start_time": "2023-12-05T17:38:33.863633300Z"
    }
   },
   "id": "4d74deca44753787"
  },
  {
   "cell_type": "markdown",
   "source": [
    "### [bart-qg-nq-checkpoint](https://huggingface.co/McGill-NLP/bart-qg-nq-checkpoint)"
   ],
   "metadata": {
    "collapsed": false
   },
   "id": "a44ca3f0c9f9a669"
  },
  {
   "cell_type": "code",
   "execution_count": 172,
   "outputs": [],
   "source": [
    "def gen_bart_nq(chunks):\n",
    "    chunks_questions = {}\n",
    "\n",
    "    tokenizer = BartTokenizer.from_pretrained(\"facebook/bart-base\")\n",
    "    model = AutoModelForSeq2SeqLM.from_pretrained(\"McGill-NLP/bart-qg-nq-checkpoint\")\n",
    "\n",
    "    for chunk in chunks:\n",
    "        encoder_ids = tokenizer.batch_encode_plus(\n",
    "            [chunk[\"text\"]],\n",
    "            add_special_tokens=True,\n",
    "            padding=True,\n",
    "            truncation=True,\n",
    "            return_tensors=\"pt\",\n",
    "        )\n",
    "        decoder_input_ids = tokenizer.batch_encode_plus(\n",
    "            [\"What\"],\n",
    "            add_special_tokens=True,\n",
    "            return_tensors=\"pt\"\n",
    "        )[\"input_ids\"][:, :-1]\n",
    "        model_output = model.generate(\n",
    "            **encoder_ids,\n",
    "            decoder_input_ids=decoder_input_ids\n",
    "        )\n",
    "        generated_questions = tokenizer.batch_decode(\n",
    "            model_output, skip_special_tokens=True\n",
    "        )\n",
    "\n",
    "        chunks_questions[chunk[\"text\"]] = generated_questions[0]\n",
    "\n",
    "    return chunks_questions"
   ],
   "metadata": {
    "collapsed": false,
    "ExecuteTime": {
     "end_time": "2023-12-05T17:38:34.265895800Z",
     "start_time": "2023-12-05T17:38:33.896180Z"
    }
   },
   "id": "905c926f40753c0e"
  },
  {
   "cell_type": "markdown",
   "source": [
    "### [bart-eqg-question-generator](https://huggingface.co/voidful/bart-eqg-question-generator)"
   ],
   "metadata": {
    "collapsed": false
   },
   "id": "1965893243012abd"
  },
  {
   "cell_type": "code",
   "execution_count": 173,
   "outputs": [],
   "source": [
    "def gen_bart_eqg(chunks):\n",
    "    chunks_questions = {}\n",
    "\n",
    "    qg_tokenizer = AutoTokenizer.from_pretrained(\"voidful/bart-eqg-question-generator\")\n",
    "    qg_model = AutoModelForSeq2SeqLM.from_pretrained(\n",
    "        \"voidful/bart-eqg-question-generator\"\n",
    "    )\n",
    "\n",
    "    for chunk in chunks:\n",
    "        encoder_ids = qg_tokenizer.batch_encode_plus(\n",
    "            [chunk[\"text\"]],\n",
    "            add_special_tokens=True,\n",
    "            padding=True,\n",
    "            truncation=True,\n",
    "            return_tensors=\"pt\",\n",
    "        )\n",
    "        decoder_input_ids = qg_tokenizer.batch_encode_plus(\n",
    "            [\"What\"],\n",
    "            add_special_tokens=True,\n",
    "            return_tensors=\"pt\"\n",
    "        )[\"input_ids\"][:, :-1]\n",
    "        model_output = qg_model.generate(\n",
    "            **encoder_ids,\n",
    "            decoder_input_ids=decoder_input_ids\n",
    "        )\n",
    "        generated_questions = qg_tokenizer.batch_decode(\n",
    "            model_output, skip_special_tokens=True\n",
    "        )\n",
    "\n",
    "        chunks_questions[chunk[\"text\"]] = generated_questions[0]\n",
    "\n",
    "    return chunks_questions"
   ],
   "metadata": {
    "collapsed": false,
    "ExecuteTime": {
     "end_time": "2023-12-05T17:38:34.265895800Z",
     "start_time": "2023-12-05T17:38:33.907446900Z"
    }
   },
   "id": "3caf3e250182eed4"
  },
  {
   "cell_type": "markdown",
   "source": [
    "### [context-only-question-generator](https://huggingface.co/voidful/context-only-question-generator)\n",
    "\n",
    "> Based on pretrained `bart-base` model"
   ],
   "metadata": {
    "collapsed": false
   },
   "id": "de20dfd2c947ef04"
  },
  {
   "cell_type": "code",
   "execution_count": 174,
   "outputs": [],
   "source": [
    "def gen_bart_unknown(chunks):\n",
    "    chunks_questions = {}\n",
    "\n",
    "    qg_tokenizer = AutoTokenizer.from_pretrained(\n",
    "        \"voidful/context-only-question-generator\"\n",
    "    )\n",
    "    qg_model = AutoModelForSeq2SeqLM.from_pretrained(\n",
    "        \"voidful/context-only-question-generator\"\n",
    "    )\n",
    "\n",
    "    for chunk in chunks:\n",
    "        encoder_ids = qg_tokenizer.batch_encode_plus(\n",
    "            [chunk[\"text\"]],\n",
    "            add_special_tokens=True,\n",
    "            padding=True,\n",
    "            truncation=True,\n",
    "            return_tensors=\"pt\",\n",
    "        )\n",
    "        decoder_input_ids = qg_tokenizer.batch_encode_plus(\n",
    "            [\"What\"],\n",
    "            add_special_tokens=True,\n",
    "            return_tensors=\"pt\"\n",
    "        )[\"input_ids\"][:, :-1]\n",
    "        model_output = qg_model.generate(\n",
    "            **encoder_ids,\n",
    "            decoder_input_ids=decoder_input_ids\n",
    "        )\n",
    "        generated_questions = qg_tokenizer.batch_decode(\n",
    "            model_output, skip_special_tokens=True\n",
    "        )\n",
    "\n",
    "        chunks_questions[chunk[\"text\"]] = generated_questions[0]\n",
    "\n",
    "    return chunks_questions"
   ],
   "metadata": {
    "collapsed": false,
    "ExecuteTime": {
     "end_time": "2023-12-05T17:38:34.313951300Z",
     "start_time": "2023-12-05T17:38:33.928890600Z"
    }
   },
   "id": "15da724d5663dba5"
  },
  {
   "cell_type": "markdown",
   "source": [
    "### Human generated questions\n",
    "\n",
    "> Used as the reference questions for evaluation"
   ],
   "metadata": {
    "collapsed": false
   },
   "id": "34c753eb0143928e"
  },
  {
   "cell_type": "code",
   "execution_count": 175,
   "outputs": [],
   "source": [
    "# Empty questions mean that question could not be generated\n",
    "questions_list = [\n",
    "    [], # 0\n",
    "    [], # 1\n",
    "    [\"What do most smartphones have inside them nowadays?\"], # 2\n",
    "    [\"What is the main method that humans use to interact with technology?\"], # 3\n",
    "    [\"What does natural language mean?\"], # 4\n",
    "    [\"What are the two main goals of natural language processing?\"], # 5\n",
    "    [\"What is the term used to describe how people feel about a movie or product?\"], # 6\n",
    "    [], # 7\n",
    "    [], # 8\n",
    "    [\"What implementation system did early NLP systems use?\"], # 9\n",
    "    [\"Why do classical machine learning algorithms have a good trade-off?\"], # 10\n",
    "    [], # 11\n",
    "    [\"What is textual entailment?\"], # 12\n",
    "    [\"What are the most common uses of summarization?\"], # 13\n",
    "    [\"What common NLP systems do you interact with?\"], # 14\n",
    "    [\"What are usages of NLP?\"], # 15\n",
    "    [\"How does Dali generate images?\"], # 16\n",
    "    [\"What is the general overview of NFP?\"], # 17\n",
    "    [\"What is a document?\"], # 18\n",
    "    [\"What are the key steps in the pre-processing pipeline for natural language processing?\"], # 19\n",
    "    [\"Why is tokenization considered a mandatory step in the NLP pre-processing pipeline?\"], # 20\n",
    "    [\"How does part-of-speech annotation contribute to language understanding?\"], # 21\n",
    "    [\"Why is context important?\"], # 22\n",
    "    [\"Why do we use lemmatization or stemming?\"], # 23\n",
    "    [\"What is the advantage of stemming?\"], # 24\n",
    "    [\"What are stop words?\"], # 25\n",
    "    [\"Why do we filter words by frequency?\"], # 26\n",
    "    [\"Why is the Eliza paper important?\"], # 27\n",
    "    [], # 28\n",
    "    [], # 29\n",
    "    [], # 30\n",
    "    [], # 31\n",
    "    [\"How does stemming work?\"], # 32\n",
    "    [], # 33\n",
    "    [], # 34\n",
    "]\n",
    "\n",
    "def gen_reference_questions(chunks):\n",
    "    chunks_questions = {}\n",
    "\n",
    "    for i, chunk in enumerate(chunks):\n",
    "        chunks_questions[chunk[\"text\"]] = questions_list[i]\n",
    "\n",
    "    return chunks_questions"
   ],
   "metadata": {
    "collapsed": false,
    "ExecuteTime": {
     "end_time": "2023-12-05T17:38:34.313951300Z",
     "start_time": "2023-12-05T17:38:33.945005500Z"
    }
   },
   "id": "b004466e35fc0488"
  },
  {
   "cell_type": "markdown",
   "source": [
    "## Chunking"
   ],
   "metadata": {
    "collapsed": false
   },
   "id": "4bfbf3ef5c29e48c"
  },
  {
   "cell_type": "code",
   "execution_count": 176,
   "outputs": [
    {
     "data": {
      "text/plain": "[{'timestamp': (0.0, 66.0),\n  'text': \"So in this lecture we're going to still be quite general. I'm going to talk about natural language processing and I'm going to talk in the first part I'm going to talk about what it is and in the second part I am going to oh good point in a second part I am going to talk about to introduce the concept of an NLP pipeline which is something that we'll be dealing with in the lab a little bit tomorrow and then from next Friday onwards. So first a quick overview of natural English processing. This is a topic which is usually reserved for like graduate courses in themselves so we're only even scrape really the surface of it. First a quick warm-up question and just take a minute and think can someone give me a quick estimate of how many AIs are in this room? Anyone throws out a guess?\"},\n {'timestamp': (66.0, 128.0),\n  'text': \"I guess. Do you want individual phones or do you want like the types of hands? Well, that's the question, isn't it? Just as I have your best guess was your own assumption and tell me. Yeah. So can you speak? Yeah. So can you speak louder? Yes, sir. Yes, I'll say at least the amount of students' time to to support the health to still on the Okay. Yeah. Yeah. Yeah. Yeah. the amount of series. The amount of series and stuff on each. Oh, yeah. So we have like, you said 40, 50, 80, sorry. Okay, I think you have. 40, 50, 80, sorry. Okay, I think you have a low estimate of number in a room, but I get your point.\"},\n {'timestamp': (128.0, 194.0),\n  'text': \"Basically the number of students. You say a bit more than the number of students. Anybody else? Joe. Right. I mean you're getting to the point that I was trying to get at basically both of you which is that nowadays right most smartphones have actually quite a bit of embedded AI's inside them right and you mentioned Siri that's an excellent point but it's not the only thing. So if you have that one language engine which is like what you consider me Siri but that thing contains its own kind of subsystems to protest speech and then when you take a picture your camera has some AI inside it to correct pictures and then when you store that into your photo gallery app then there is some AI recognizing images right if you go into your photo app you can see like oh I want to search for cats and then he's gonna get you pictures of cats well the phone doesn't know what a cat is right there is some system specialized on that thing to deal with it. If you use things like Google translate then you also have a translation system in embedded in the AI.\"},\n {'timestamp': (194.0, 258.44),\n  'text': \"If you use something like Google Map or Apple Map, then there is a very complex route optimization AI inside it. So basically you can take hardware number of phones and computers and tablets they are and then multiply that by maybe five to ten different subsystems, always running and trying to basically get something for you and does not even counting the thing embedded into your smart watches or like smartly birds or whatever you have. And a certain number of these deal with language, right? You have a translation, special recognition, you have to some extent, image recognition deals with image with text as well, because if you want to search for cats you have to understand what a cat is so there is a step in there. And the reason for this is because language is at the key of interaction. When you interact between people, spoken of sign language or writing, when you interact with machines, I think that's common line interfaces, voice interfaces, interaction between machines, stuff like networking protocols are languages.\"},\n {'timestamp': (258.44, 321.0),\n  'text': \"They're formal languages, but they're still languages. The way you interact with your cats or your dog is also a form of a marriage. So language is really the key of how we interact with almost anything. And now, thanks to the recent advances in machine learning, deep learning and all that, we brought natural language back as a natural way of interacting with computers. So you wouldn't know that because you're all very young, but used to be that you couldn't speak to your phone. You had to type things. It was hard. But nowadays you can talk to it and most tasks can be automated that way. I want a precise one as a natural language that means languages which naturally evolved over time. So this is in contrast to something like PEPFON or C-plus which are not natural language. They're artificial and formal languages designed for specific purpose. The field of natural language processing tries to merge insights from many other fields.\"},\n {'timestamp': (321.0, 381.0),\n  'text': \"So at its core, you know, language, you can think that there's going to be some linguistics. And that is true to some extent, but it's a very shallow part of linguistics. Mostly it is things like computer science for the computational aspect of it. We want to automate things with the machine and AI for the autonomous aspect. We want to be able to extract insights from the text, we want to generate the text. We want the thing to be autonomous. There's two main self-filled in NFP, natural language understanding or NELU focuses more on finding insights and that would be the part we say, hey Siri, what time is it? And the natural language generation would be the part where Siri answers, it's 130. Is it 1.30? It's not 1.30, yes. So those are the two steps, but usually when we talk about NLP, most of the work is done on the understanding part because that is the hard part, so to speak.\"},\n {'timestamp': (381.0, 442.0),\n  'text': \"Okay. Natural language. Understanding focused on analyzing natural language. You might have noticed that we tend to generate a lot of data and a lot of it is text. So this stats were from two years ago. We haven't changed it yet, but I'm assuming they can only go higher, right? Five hundred million tweets sent each day, the size of English Wikipedia is 5 terabytes and something. And as humans we are obsessive hoarders of data, we store store everything we keep it nose may combat any later which is true it is handy you can actually get a lot of insights from that text data you can figure out how people feel about a movie or a product, a thing called sentiment. You can figure out what people are talking about, what are the topics which are in the main public discourse. You can figure out how to translate sentences without having to have someone who speak both languages going and then translate in my way.\"},\n {'timestamp': (442.0, 505.0),\n  'text': \"You can figure out how to make people vote for the candidate you want, the goal of propaganda and which is also using natural language understanding. And it's so much more. It is a rich field, it's used in many places, and we'll talk about that in the coming weeks. Natural language generis and systems, on the other hand, focus on generating that language. So you might have heard things called chatpots, right? Now, every time you go on the website, there is this very annoying pop-up on the bottom right he says, hey can I help you? I'm the chatbot for whatever store. You want to buy something? That's part of it, but there are other part of it when you, I don't know, I think the NHS has chatbots as well, or some counseling websites have chatbots. It's everywhere. You can also generate text from structural data to two main ones of financial reporting and weather prediction.\"},\n {'timestamp': (505.0, 567.84),\n  'text': \"So there are a lot in a lot of newspapers websites, there's a lot of small news items about the stock market, for instance, which are actually written by bots, because you don't really need a human to do that. It's very simple. You get the structured data, which is, oh, how did Apple shares do this day? And then you just turn that into sentences, and then you report that on the website. So it's faster, more systematic, and it works. You can also generate text from media data. A much newer thing, but getting some traction now. So for instance you could have a video or an image and you can have your AI take this as an input and then generate a caption describing what's happening and that's great for things that's accessibility, right? So if you're visually impaired, then you can have a little AI describing what's happening in the picture. And then this way you can access a lot of media that would have been inaccessible before.\"},\n {'timestamp': (571.84, 643.0),\n  'text': \"Right. Okay, so I have a few slides about basically the evolution of NLP. This is not very detailed. about basically the evolution of NLP. This is not very detailed, but just to give you a rough idea. Early NLP systems focused on rule-based systems. And the way rule-based systems work is that you have an expert writing rules and saying you know if you see this word that means someone is happy if you see that word that means someone is sad. If you see that word, that means someone is sad. If you see this word, you need to report to the police and things like that. And then you have programmers coming, taking those rules and then programming an AI, expert system out of those rules and then they will just send the system back to the expert, they will just test it and say this is terrible, is good whatever change this at this and so on and so forth rulebed systems although I'm making front of them right now are actually very useful and they use quite a lot. You can use things to like extracting elements from text, like dates, names with things you must have seen called regular expressions.\"},\n {'timestamp': (643.0, 704.0),\n  'text': \"And then you can do in classify text using stuff we call lexicants, which are just list of terms. And then you can use this and then you're immense programming now-how to kind of build reports or do whatever you want with it. We still use all the systems these days because they are very easy to build. We don't need any data to start with and they're very fast usually. Then we ended up having a lot more data and computational power that we knew what to do with and this is the era of the classical machine learning algorithms. You might have heard things like super vector machines. This is in trees, logistic regression, linear regression and things that that. Those classical machine learning algorithms are still used today. They're very good. They have a good trade-off of like, oh, it takes half an hour to build and it gives you good performance on what you want to do and things like that.\"},\n {'timestamp': (704.0, 792.0),\n  'text': \"And it brought in it an obsession with benchmarking. So, has any of you heard of Kaggle? And raise Kaggle? And raise Kaggle? Let me? Really? I'm surprised. I thought you must more prefer than this. Kaggle is a website basically with machine learning competitions where you just basically submit your algorithm and then it benchmarks it against a lot of other algorithms and the winner gets I don't know ten thousand dollars or something so it builds kind of obsession with benchmarking comparing and then a new obsession with building a very strict and formal evaluation methodology for all systems based on data. And that will make a lot more sense in a few lectures where I'm going to talk about this. And my sharing everybody here has at least heard of deep learning. Who wasn't? No, OK, good. Then there was the deal increase, we have so much data, we have so much computation, you know, and that's it and this is the current state of NLP research. Right. A few common subfield of NLP you might encounter if you open a textbook and I'm going to talk about basically what they focus on and it's just to give you an idea of the range of users that NLP algorithm have.\"},\n {'timestamp': (792.0, 862.0),\n  'text': \"The first one, one of the simplest one, is opening or send my analysis, depending on who you're reading. And for example, that will be reading a movie review and detecting whether someone liked or disliked the movie. Now this is very useful for instance if you're doing product market research and then you're trying to find out, well, should we fund the next avatar? Everybody loved it, fine, makes a lot of money, whatever. Another one, arguments, tense section. So for given sentences A and B, you want to detect whether A is an agreement with B or disagreement with B, also a very common field. Textual entailment is a bit more difficult. Summarization, a very common one as well. So you encounter summarization on a regular basis if you type a question in Google. And then it spits out an answer above all web pages. Google did not figure out that answer. It extracted this from a page which is, you know, in the documents that you're seeing and then it's just showing it to you directly because it thinks that's what you want to see.\"},\n {'timestamp': (862.0, 927.5),\n  'text': \"So this is one of the most common. because it thinks that's what you want to see. So this is one of the most common uses of summarization. Question answering, kind of related, if you ever used Siri or Alexa or or Kratina orartana or whatever. This is what question answering is basically. It has a huge database of facts and things that he can answer and then when he detects a question he just finds out what you want to know and then spits out the answer. That's why if you repeat the same question, it's going to repeat the same answer because you will always map for the same one. In formation retrieval, how much to me everybody here has used Google before, or some equivalent. I don't know if there's any big people here. Usually know, but it can be, it is possible. Comersational user interfaces, so those are the very annoying chatpots I was mentioning before that pop up on all the websites and asking you what they can do to make you buy their stuff. Okay. Now another quick question just as a reflection point.\"},\n {'timestamp': (927.5, 1001.0),\n  'text': \"How, what common NLP systems do you think you interact with? So I cited Google, so that's kind of an obvious one, but I'm a bit curious to see if any of you have used anything else. Hen raised, answers. Don't let me point. Yes. Sorry? Oh yes. Sorry. you're generating the text that is most likely considering the audio that was received. Yeah? Yeah, exactly. That's another one. Anything else? Sorry? Google Maps. That's also another one. That's a very interesting one because it's not mapping text to anything. It's mapping text to anything is mapping text to geographical entities and it is trying to understand what you're referring to when you say I want to find I don't know aspire cafe right considering what's the closest thing, I know, what time of the day it is, is it 12, maybe you want a cafe, then it's pointing to this or something else.\"},\n {'timestamp': (1001.0, 1074.0),\n  'text': \"Yes? So I can repeat that? Photo upscalers. Do they use text? Okay, you would have said that leave for instance. That's absolutely like a usage of NLP. Everybody here is, sorry? I'm not the use of feature when you can Schenectady's photos, so you take a picture and contrast. optical character recognition. That's also part of NOP, sort of. Yeah. Yeah. Apple pay. When you scan, when you scan what? For example, when you scan what? For example, I was thinking in a sense that how you have your kind of details on your forms? Yeah. You would just kind of adjust all those two systems for you just scan your phone over a car driver that I don't think that that counts as NLP. I thought you were gonna say that's NFC not NLP.\"},\n {'timestamp': (1075.0, 1135.72),\n  'text': \"Near field communication. Yeah, near field communication. I thought you were going to refer to because that's something which is true is that in some cases, I know Google Pay does it, Google Wallet does it, where when you receive a bill in your emails it scans it and then kind of remembers it right so it's telling you you have a bill due on Sunday because it can't the PDF which is very boring. Also useful. Yeah. So as anybody heard of Dali, the image generation thing? Yeah, well that's some of the use of NLP, right? Because Dali takes a natural language description of something and then basically tries to map that to a set of images. So anyway, as you can see, there's a lot of NOP thing that we are using on the today basis.\"},\n {'timestamp': (1135.72, 1197.0),\n  'text': \"There's more than that. I don't know how to, I should have made a list, but if you think about it, like you'll find that it's more common than you think. And to a general question, and that's more of a Henry's kind of thing, how happy are you overall, do they understand you? And if they're the one speaking do you understand them? Not completely there, right? I know in my case Google Assistant is a bit hit and miss. But I think we are making a lot of progress compared to previous years and previous decades and we are similarly getting there. Yeah. right. So that was the. So that was the general overview of NFP. If you're a master students and you want to do more work in NFP, you can come see me and I'll point to the right direction but this is just a general history lesson.\"},\n {'timestamp': (1197.0, 1263.0),\n  'text': \"Now we're going to talk about something called the NOP pipeline and that's something that's going to bother you for at least until coursework one. So pay attention. Some primary notions to understand this, when we talk about documents, you might think it's like a physical document, but when we say document, what we mean is a unit of interest. So if you're making an NRP system and you want to analyze tweets, then a document is a tweet. If you want to analyze books, then document is a tweet. If you analyze books, then document is a box. If you want to analyze the content of a book, there may be a document should be a chapter, or it should be a paragraph, or it should be whatever, it doesn't really matter. It's a unit of interest. When we have this document and we put them into a collection, we call that a corpus or a data set. And you might find these two terms, kind of equivalent in the literature, depending on whether an NFP person or a linguistics person wrote it.\"},\n {'timestamp': (1263.0, 1325.0),\n  'text': \"And the main idea is that it's about the framing of what we want to analyze. The corpus could be anything and a document could also be anything. This is an overview of the pre-processing pipeline in NRP, which I actually wrote for my PhD thesis and I've been using it since then because I like it so much. So as you can see right we are starting from an input so in this case a small piece of text from Wikipedia about the Porter-Staining algorithm. Then we are going for a set of steps basically which helps us kind of cut things off and then put it into different words and then analyze each word so that we have something which can be fed into an LOP algorithm at the end. So we start with tokenization, then annotation, limitation or stemming, stop word filtering, and then we're done. Some of those steps can be skipped. Annotation can be sometimes skipped.\"},\n {'timestamp': (1325.0, 1385.0),\n  'text': \"Limatization can be sometimes skipped, and so one can also skip, but tokenization is the only one that's actually mandatory because to beization refers to actually cutting the text into talk onism and if you don't do that then you haven't really done anything. So let's go through each of these steps one by one. A document is made of tokens, hence the name tokenization, and those tokens can be of arbitrary length, and that depends on what we're trying to analyze. So for instance, if we are trying to, if we care about phrases, so like consecutive bits of text, then tokens could be the doggoran and the catche is there. So there's two subphrases in that sentence. If we care about words, then obviously we're going to put that into words, the dog run and the cat chase them. If we care about syllables, let's say for instance we want to analyze syllables to make a poetry generator which exists.\"},\n {'timestamp': (1385.0, 1445.0),\n  'text': 'The DORE and the cat check is the in. If you care about characters because we want to make a spelling correction algorithm, right? characters, the HEGE space, and so on, I think you can them into characters, THE space, DoG space, and so on. I think you get the point. We usually care about words, but sometimes we care about pairs of words, sometimes we care about phrases. It really depends on what we are trying to do. The next step is annotation and by annotation what we mean is that we want to enrich all those tokens with what we know about them. Usually we do it with part of speech, part of speech being the grammatical function of the word in the sentence. So as you may guess, part of speech depends on the language that is used, right? Part of speech in English, French, or Chinese are very different.'},\n {'timestamp': (1446.6, 1508.0),\n  'text': \"Also, even within languages, you will see that there are different kind of of parts of speech classifications. So it's a very complicated thing. Thankfully, you don't have to understand the actual part of speech. You can just use it. Right. What we use about to speech for is that sometimes we won't help to disambigorate meaning using the grammatical context. So for example if I gave this sentence the sailor dogs the hatch, then if you just took dogs separate from anything else, then you would think immediately like this is referring to the animal and you just classify that with the rest of the animals words. Except that is not the case here because here dogs is the verb which means to close the door and secure them in a close position. So you see here context, knowing that it's a verb, help you actually understand the meaning of that word in that context, which helps you down the line in the NFP guideline.\"},\n {'timestamp': (1511.0, 1582.8),\n  'text': \"Next step, we call usually awards analyzation and usually refers to one or two things which is either limitizing or stemming. So as we know, words are inflected during language during usage, sorry. So for example, here, when you have a verb like B right you don't say I be happy I be hungry You inflect that which means is modified based on the rest of the sentence. You say, I am happy, or I am hungry, or he is happy, or whatever. And the goal of standardization is to remove this inflection. We want to know what is the core word, the core now, the core verb that is referred to by the inflected now. So if you have something which is plural, you want it to be mapped to the same word if it's singular. If you have dogs and dog in the same sentence and they're both nouns, you want them to be together. So the way we do this is either lematization or stemming. When we limitize things we are reducing terms to their lemma which is the dictionary form and the way it which is the dictionary form.\"},\n {'timestamp': (1582.8, 1677.0),\n  'text': \"And the way it works is that you have a very complicated algorithm that goes through each word and then based on the part of speech and the word itself. It says, this is referring to the verb dog or this is referring to the non dog or this is referring to whatever. So that's a very complex algorithm and the other one is stemming, which is reducing terms of the word stem and that's just basically a very simple algorithm that just cuts off anything that looks like it's an inflection. So it will give you results which are going to be, we're going to sound terrible, like not like words, but for the sake of the algorithm, it's more than enough. So an example here, leimatization will map dogs as dog, dog as dog, and then dog is dog, right? So upper case, lower case, doesn't matter. It's all mapped the same word. So it produces very consistent conduct, but because it has this big dictionary thing it's always looking at, it's always looking at is very slow and also it requires to be part of speech annotated because it needs the context of the sentence the grammatical context to do its job. On the other hand, stemming would map programming to program, programmer to to program with two M's, which is obviously not great, but there's a bit of noise but overall it works close enough that it's actually good enough for the application so that it's a lot of words that don't exist, but it's a lot faster and sometimes that's what you need.\"},\n {'timestamp': (1677.0, 1737.0),\n  'text': 'And the way it works is just basically run a bunch of transformation on each token in order to get that result. Filtering, I think is the last step, yes. Not all words matter equally, as you might have guessed. Some words like determinants for instance are not really useful for any NFP purpose like the the dog for instance who cares about the. This actually gives you any information. And what we want to do when we build NFP models is that we want to have the smallest model possible that can do the job. And that means removing this kind of noise. So the way we do this is that we have this list of words in every language called the stop list, and the words called the stop words. Not sure why actually. And any word which is in this list usually gets removed from the text during this last step.'},\n {'timestamp': (1737.0, 1798.48),\n  'text': \"We can also filter words by frequency, so words which are too frequent, which means they are in all documents, are not very useful, and the words which only appear once usually are not useful either. So we cut them off. We'll see more about this in the coming weeks. This is just like an introduction to get your coin data with the vocabulary that we're going to use. And finally, and I mentioned this a bit before, sometimes we care about sets of words and not words themselves. So for example, Big Ben or Empire State Building would lose all meaning if we isolated every single word separately, right? Big and Ben, a little of a dumb thing, embarrassed the ability and the same thing. But if we look at the pair or the triple of words, then we know what is referring to. He is referring to the pigtours, referring to the big building, right? And in that case, what we do is that we actually extend our thing.\"},\n {'timestamp': (1798.48, 1865.0),\n  'text': \"And instead of just looking at isolated words, we look at pairs of consecutive words. We call that n-grams, and unigram being single words, bi-grams being pairs of consecutive words, trigrams, tri-grams, tri-igrams, triples, and you get the idea. Right, and I think I blizzed through this lecture much better than I thought. And here I was moving on that. Some reading to do, because I know is one thing, is that students love homework. This is very cool paper. What are very cool paper? What am I saying? This is paper called Eliza. And this is a very important paper because this is one of the first kind of, you know, mainstream NOP systems. And it was in 1966. I mean, you weren't born, I was unborn, Joe was unborn either, right? And the stuff they were doing with computers that are less powerful than your Apple watch is incredible.\"},\n {'timestamp': (1865.0, 1929.92),\n  'text': \"And you don't need to read into details, right? But if you look at a PDF and have a quick look at the way they are using transformation rules to take the input text and then turn that into a very convincing output text to imitate an actual person is very interesting. You don't have to read the details, it's more of a point of interest. And I think that's it for now. I'm going to, yeah, shoot another recording the questions or is there any questions? No question. Please just a few more minutes. You're almost close to the end, don't worry. Any question about the... Oh, sorry. Yes. So I'm just as the internet. The one process for NOP if I'm able to able to distinguish between whatever, obviously it spells something wrong, it's going to say like, if it's a real line, it's not that wrong.\"},\n {'timestamp': (1929.92, 2013.0),\n  'text': \"It is not an LP system, but it does have NOP system so the spelling character in your Microsoft Word is yet another kind of small AI embedded into your computer that's telling you you know this is wrong this is wrong yeah I'm sorry I can't hear that. I'm sorry I can't hear. And I'd be like the main problem that any items in the book I wouldn't see the base. Yeah. Yeah. Quiet, please. Yeah, it's almost the end, just, you know, calm down. I will do though, you say the basis, the word spelling correction in Microsoft Word, for instance, is very complex. The one we used to have, like 10 years ago, was just random dictionary search, but the one now is actually quite a beast comparatively yeah so you went there first I'm sorry I'm sorry I'm sorry I'm sorry this one filter oh it's a box what is my working now okay this one.\"},\n {'timestamp': (2013.0, 2074.16),\n  'text': \"This one? Before that? Oh, this is not part of the process. This is not part of the process. It's just like an additional note that sometimes we don't actually analyze isolated words, we are taking them into pairs and things like that. Yeah. Sorry. You're going to see more about this in the labs because we're gonna deal directly with this. Yeah, sorry? Would you ever do like a position before adaptations to find the meeting of the base of the base members? adaptation before the annotation? No, because when you limitization before the annotation? No, because when you lematize, right, you are actually losing the grammatical effect, because since you remove the inflection, right, then you remove stuff. the conflict because since you remove the inflection, right? Then you remove stuff which helps you know what's the role of that word in the sentence. And you need the part of speech to the delimatization.\"},\n {'timestamp': (2074.16, 2136.0),\n  'text': \"So you can't have it before. Does that make sense? Right, because it is through the part of speech that the lematizer knows that, oh, this is the verb, so it needs to be limatized that way, or this is the noun, limatized that way. That makes sense, yeah. OK. That makes sense. Yeah. Okay. Any other pending questions except. Sorry. Yeah. accept. you mean stemming? Okay, so the limitation. Okay, so theization uses a dictionary. So it's always going to give you the dictionary form of a word. It might be wrong, it might be correct, but the word you get has an output is always an actual word which exists.\"},\n {'timestamp': (2136.0, 2198.0),\n  'text': \"And for that reason, it takes a bit of time because basically there's a lot of process to analyze and find out what is the most likely dictionary form of that word. On the other hand, the way stemming works, right, is that you have a set of rules which says, oh, if this things ends with an S, cut the S, if you end with E S, cut the E S, and then switch to the next step, and then if there is two M's, remove one M, so there's a bunch of rules which acts at a character level so it just looks at a set of characters and applies a set of rules to transform it and get you something which hopefully is the close to the dictionary form. to something of that word. the next question of the process of the process uses the engineering form, well, will be used to the dictionary form. a process users that need to learn well-to-value is something that you can be quiet. Saving time. Sometimes you don't care if you make like, if 5% of your thing making mistake because you can process twice as much data in the same amount of time.\"},\n {'timestamp': (2198.0, 2260.0),\n  'text': \"In the end, a lot of the shortcuts we take in machine learning are about saving time. When we cut off words because they're not frequent enough, we're also trying to save time. You're just trying to make the process as easy as possible for the algorithm at the end because getting doing more in a same amount of time is extremely valuable You know sometimes he takes what maybe not these days, but like sometimes it takes days and weeks to train a model and if you can cut that by five days just very nice Yeah and just very nice. And also sometimes it doesn't matter. If you have a word if it doesn't exist, maybe it's no important. Okay. Any chance. Yeah. Yeah. Yeah. I'm sorry, I didn't hear. Data.\"},\n {'timestamp': (2260.0, 2307.0),\n  'text': \"Oh, we'll be taking data from all around the web. Don't worry, that's going to be part of the lab. Right? So I am still finishing up some details on the lab, so I haven't really yet but don't worry is tomorrow from 4 to 6 best time. Yeah? The lab. Yeah. Yeah. Everything is always on the moodle before the actual time. with the session rather, so everything's always going to be during the time, not for. Right. All right, get out. Oh,\"}]"
     },
     "execution_count": 176,
     "metadata": {},
     "output_type": "execute_result"
    }
   ],
   "source": [
    "with open(\"comp3074_lecture_2.pkl\", \"rb\") as file:\n",
    "    chunks = pickle.load(file)\n",
    "    time_chunks = []\n",
    "    current_sentence = \"\"\n",
    "    start_timestamp = None\n",
    "    min_duration = 60\n",
    "\n",
    "    if not chunks[\"chunks\"][-1][\"timestamp\"][1]:\n",
    "        chunks[\"chunks\"][-1][\"timestamp\"] = (\n",
    "            chunks[\"chunks\"][-1][\"timestamp\"][0],\n",
    "            chunks[\"chunks\"][-1][\"timestamp\"][0],\n",
    "        )\n",
    "\n",
    "    for chunk in chunks[\"chunks\"]:\n",
    "        text = chunk[\"text\"]\n",
    "        timestamp = chunk[\"timestamp\"]\n",
    "\n",
    "        if start_timestamp is None:\n",
    "            # Start a new sentence\n",
    "            start_timestamp = timestamp[0]\n",
    "\n",
    "        current_sentence += text\n",
    "\n",
    "        sentence_completed = text.strip()[-1] in \".!?\" \n",
    "        time_elapsed = (timestamp[1] - start_timestamp) >= min_duration\n",
    "\n",
    "        # TODO: add overlap between chunks\n",
    "        if sentence_completed and time_elapsed:\n",
    "            time_chunks.append(\n",
    "                {\n",
    "                    \"timestamp\": (start_timestamp, timestamp[1]),\n",
    "                    \"text\": current_sentence.strip(),\n",
    "                }\n",
    "            )\n",
    "            current_sentence = \"\"\n",
    "            start_timestamp = None\n",
    "\n",
    "    if current_sentence.strip():\n",
    "        time_chunks.append(\n",
    "            {\n",
    "                \"timestamp\": (start_timestamp, chunks[\"chunks\"][-1][\"timestamp\"][1]),\n",
    "                \"text\": current_sentence.strip(),\n",
    "            }\n",
    "        )\n",
    "        \n",
    "time_chunks"
   ],
   "metadata": {
    "collapsed": false,
    "ExecuteTime": {
     "end_time": "2023-12-05T17:38:34.329987800Z",
     "start_time": "2023-12-05T17:38:33.993198800Z"
    }
   },
   "id": "7d57d217261465fd"
  },
  {
   "cell_type": "code",
   "execution_count": 177,
   "outputs": [
    {
     "data": {
      "text/plain": "{\"So in this lecture we're going to still be quite general. I'm going to talk about natural language processing and I'm going to talk in the first part I'm going to talk about what it is and in the second part I am going to oh good point in a second part I am going to talk about to introduce the concept of an NLP pipeline which is something that we'll be dealing with in the lab a little bit tomorrow and then from next Friday onwards. So first a quick overview of natural English processing. This is a topic which is usually reserved for like graduate courses in themselves so we're only even scrape really the surface of it. First a quick warm-up question and just take a minute and think can someone give me a quick estimate of how many AIs are in this room? Anyone throws out a guess?\": {'bart_unknown': 'What is the main topic of this lecture?',\n  'bart_discord': 'What is natural language processing?',\n  'bart_nq': 'What is the purpose of the natural language processing lecture',\n  'bart_eqg': 'What is the purpose in giving this talk?'},\n \"I guess. Do you want individual phones or do you want like the types of hands? Well, that's the question, isn't it? Just as I have your best guess was your own assumption and tell me. Yeah. So can you speak? Yeah. So can you speak louder? Yes, sir. Yes, I'll say at least the amount of students' time to to support the health to still on the Okay. Yeah. Yeah. Yeah. Yeah. the amount of series. The amount of series and stuff on each. Oh, yeah. So we have like, you said 40, 50, 80, sorry. Okay, I think you have. 40, 50, 80, sorry. Okay, I think you have a low estimate of number in a room, but I get your point.\": {'bart_unknown': 'What do you want in a room?',\n  'bart_discord': 'What do you want to do with the phones?',\n  'bart_nq': 'What is the average number of phones in a room',\n  'bart_eqg': 'What kind of hands does the writer want?'},\n \"Basically the number of students. You say a bit more than the number of students. Anybody else? Joe. Right. I mean you're getting to the point that I was trying to get at basically both of you which is that nowadays right most smartphones have actually quite a bit of embedded AI's inside them right and you mentioned Siri that's an excellent point but it's not the only thing. So if you have that one language engine which is like what you consider me Siri but that thing contains its own kind of subsystems to protest speech and then when you take a picture your camera has some AI inside it to correct pictures and then when you store that into your photo gallery app then there is some AI recognizing images right if you go into your photo app you can see like oh I want to search for cats and then he's gonna get you pictures of cats well the phone doesn't know what a cat is right there is some system specialized on that thing to deal with it. If you use things like Google translate then you also have a translation system in embedded in the AI.\": {'bart_unknown': 'What is the name of the artificial intelligence in the photo gallery app?',\n  'bart_discord': 'What is the number of students?',\n  'bart_nq': 'What is the difference between siri and siri',\n  'bart_eqg': 'What kind of system is embedded in the photo gallery app?'},\n \"If you use something like Google Map or Apple Map, then there is a very complex route optimization AI inside it. So basically you can take hardware number of phones and computers and tablets they are and then multiply that by maybe five to ten different subsystems, always running and trying to basically get something for you and does not even counting the thing embedded into your smart watches or like smartly birds or whatever you have. And a certain number of these deal with language, right? You have a translation, special recognition, you have to some extent, image recognition deals with image with text as well, because if you want to search for cats you have to understand what a cat is so there is a step in there. And the reason for this is because language is at the key of interaction. When you interact between people, spoken of sign language or writing, when you interact with machines, I think that's common line interfaces, voice interfaces, interaction between machines, stuff like networking protocols are languages.\": {'bart_unknown': 'What is at the key of interaction?',\n  'bart_discord': 'What does a language do when you interact with machines?',\n  'bart_nq': 'What is the meaning of language in search engine',\n  'bart_eqg': 'What is the key to interaction between people and machines?'},\n \"They're formal languages, but they're still languages. The way you interact with your cats or your dog is also a form of a marriage. So language is really the key of how we interact with almost anything. And now, thanks to the recent advances in machine learning, deep learning and all that, we brought natural language back as a natural way of interacting with computers. So you wouldn't know that because you're all very young, but used to be that you couldn't speak to your phone. You had to type things. It was hard. But nowadays you can talk to it and most tasks can be automated that way. I want a precise one as a natural language that means languages which naturally evolved over time. So this is in contrast to something like PEPFON or C-plus which are not natural language. They're artificial and formal languages designed for specific purpose. The field of natural language processing tries to merge insights from many other fields.\": {'bart_unknown': 'What is a form of a marriage?',\n  'bart_discord': 'What did the field of natural language processing try to merge insights from?',\n  'bart_nq': 'What is the difference between natural language and artificial language',\n  'bart_eqg': 'What kind of language is a formal language?'},\n \"So at its core, you know, language, you can think that there's going to be some linguistics. And that is true to some extent, but it's a very shallow part of linguistics. Mostly it is things like computer science for the computational aspect of it. We want to automate things with the machine and AI for the autonomous aspect. We want to be able to extract insights from the text, we want to generate the text. We want the thing to be autonomous. There's two main self-filled in NFP, natural language understanding or NELU focuses more on finding insights and that would be the part we say, hey Siri, what time is it? And the natural language generation would be the part where Siri answers, it's 130. Is it 1.30? It's not 1.30, yes. So those are the two steps, but usually when we talk about NLP, most of the work is done on the understanding part because that is the hard part, so to speak.\": {'bart_unknown': 'What are the two main self-filled parts of NFP?',\n  'bart_discord': 'What does NLP do?',\n  'bart_nq': 'What is the meaning of natural language understanding',\n  'bart_eqg': 'What is the hard part in the understanding part?'},\n \"Okay. Natural language. Understanding focused on analyzing natural language. You might have noticed that we tend to generate a lot of data and a lot of it is text. So this stats were from two years ago. We haven't changed it yet, but I'm assuming they can only go higher, right? Five hundred million tweets sent each day, the size of English Wikipedia is 5 terabytes and something. And as humans we are obsessive hoarders of data, we store store everything we keep it nose may combat any later which is true it is handy you can actually get a lot of insights from that text data you can figure out how people feel about a movie or a product, a thing called sentiment. You can figure out what people are talking about, what are the topics which are in the main public discourse. You can figure out how to translate sentences without having to have someone who speak both languages going and then translate in my way.\": {'bart_unknown': 'What is the size of English Wikipedia?',\n  'bart_discord': 'What are the stats from two years ago?',\n  'bart_nq': 'What is the purpose of english wikipedia',\n  'bart_eqg': 'What can we do from the text data?'},\n \"You can figure out how to make people vote for the candidate you want, the goal of propaganda and which is also using natural language understanding. And it's so much more. It is a rich field, it's used in many places, and we'll talk about that in the coming weeks. Natural language generis and systems, on the other hand, focus on generating that language. So you might have heard things called chatpots, right? Now, every time you go on the website, there is this very annoying pop-up on the bottom right he says, hey can I help you? I'm the chatbot for whatever store. You want to buy something? That's part of it, but there are other part of it when you, I don't know, I think the NHS has chatbots as well, or some counseling websites have chatbots. It's everywhere. You can also generate text from structural data to two main ones of financial reporting and weather prediction.\": {'bart_unknown': 'What can you generate from structural data?',\n  'bart_discord': 'What does natural language generis and systems do?',\n  'bart_nq': 'What is the purpose of a chatbot',\n  'bart_eqg': 'What does the pop-up on the bottom right say?'},\n \"So there are a lot in a lot of newspapers websites, there's a lot of small news items about the stock market, for instance, which are actually written by bots, because you don't really need a human to do that. It's very simple. You get the structured data, which is, oh, how did Apple shares do this day? And then you just turn that into sentences, and then you report that on the website. So it's faster, more systematic, and it works. You can also generate text from media data. A much newer thing, but getting some traction now. So for instance you could have a video or an image and you can have your AI take this as an input and then generate a caption describing what's happening and that's great for things that's accessibility, right? So if you're visually impaired, then you can have a little AI describing what's happening in the picture. And then this way you can access a lot of media that would have been inaccessible before.\": {'bart_unknown': 'What is a new thing you can do with a video or image?',\n  'bart_discord': 'What does the AI do with the data?',\n  'bart_nq': 'What is the difference between a bot and a computer',\n  'bart_eqg': 'What can you do with the structured data?'},\n \"Right. Okay, so I have a few slides about basically the evolution of NLP. This is not very detailed. about basically the evolution of NLP. This is not very detailed, but just to give you a rough idea. Early NLP systems focused on rule-based systems. And the way rule-based systems work is that you have an expert writing rules and saying you know if you see this word that means someone is happy if you see that word that means someone is sad. If you see that word, that means someone is sad. If you see this word, you need to report to the police and things like that. And then you have programmers coming, taking those rules and then programming an AI, expert system out of those rules and then they will just send the system back to the expert, they will just test it and say this is terrible, is good whatever change this at this and so on and so forth rulebed systems although I'm making front of them right now are actually very useful and they use quite a lot. You can use things to like extracting elements from text, like dates, names with things you must have seen called regular expressions.\": {'bart_unknown': 'What are some examples of rule-based systems?',\n  'bart_discord': 'What did early NLP systems do?',\n  'bart_nq': 'What is the difference between nLP and lp',\n  'bart_eqg': 'What kind of system is rule-based?'},\n \"And then you can do in classify text using stuff we call lexicants, which are just list of terms. And then you can use this and then you're immense programming now-how to kind of build reports or do whatever you want with it. We still use all the systems these days because they are very easy to build. We don't need any data to start with and they're very fast usually. Then we ended up having a lot more data and computational power that we knew what to do with and this is the era of the classical machine learning algorithms. You might have heard things like super vector machines. This is in trees, logistic regression, linear regression and things that that. Those classical machine learning algorithms are still used today. They're very good. They have a good trade-off of like, oh, it takes half an hour to build and it gives you good performance on what you want to do and things like that.\": {'bart_unknown': 'What are lexicants?',\n  'bart_discord': 'What were the classical machine learning algorithms?',\n  'bart_nq': 'What is the difference between classical and classical machine learning',\n  'bart_eqg': 'What is the disadvantage of the classical machine learning algorithms?'},\n \"And it brought in it an obsession with benchmarking. So, has any of you heard of Kaggle? And raise Kaggle? And raise Kaggle? Let me? Really? I'm surprised. I thought you must more prefer than this. Kaggle is a website basically with machine learning competitions where you just basically submit your algorithm and then it benchmarks it against a lot of other algorithms and the winner gets I don't know ten thousand dollars or something so it builds kind of obsession with benchmarking comparing and then a new obsession with building a very strict and formal evaluation methodology for all systems based on data. And that will make a lot more sense in a few lectures where I'm going to talk about this. And my sharing everybody here has at least heard of deep learning. Who wasn't? No, OK, good. Then there was the deal increase, we have so much data, we have so much computation, you know, and that's it and this is the current state of NLP research. Right. A few common subfield of NLP you might encounter if you open a textbook and I'm going to talk about basically what they focus on and it's just to give you an idea of the range of users that NLP algorithm have.\": {'bart_unknown': 'What is the current state of NLP research?',\n  'bart_discord': 'What did Kaggle do?',\n  'bart_nq': 'What is the difference between kaggle and deep learning',\n  'bart_eqg': 'What does the writer intend to talk about in this talk?'},\n \"The first one, one of the simplest one, is opening or send my analysis, depending on who you're reading. And for example, that will be reading a movie review and detecting whether someone liked or disliked the movie. Now this is very useful for instance if you're doing product market research and then you're trying to find out, well, should we fund the next avatar? Everybody loved it, fine, makes a lot of money, whatever. Another one, arguments, tense section. So for given sentences A and B, you want to detect whether A is an agreement with B or disagreement with B, also a very common field. Textual entailment is a bit more difficult. Summarization, a very common one as well. So you encounter summarization on a regular basis if you type a question in Google. And then it spits out an answer above all web pages. Google did not figure out that answer. It extracted this from a page which is, you know, in the documents that you're seeing and then it's just showing it to you directly because it thinks that's what you want to see.\": {'bart_unknown': 'What is the most common type of entailment?',\n  'bart_discord': 'What does Google do when you type a question?',\n  'bart_nq': 'What do you mean by summarization in google',\n  'bart_eqg': 'What kind of text is this?'},\n \"So this is one of the most common. because it thinks that's what you want to see. So this is one of the most common uses of summarization. Question answering, kind of related, if you ever used Siri or Alexa or or Kratina orartana or whatever. This is what question answering is basically. It has a huge database of facts and things that he can answer and then when he detects a question he just finds out what you want to know and then spits out the answer. That's why if you repeat the same question, it's going to repeat the same answer because you will always map for the same one. In formation retrieval, how much to me everybody here has used Google before, or some equivalent. I don't know if there's any big people here. Usually know, but it can be, it is possible. Comersational user interfaces, so those are the very annoying chatpots I was mentioning before that pop up on all the websites and asking you what they can do to make you buy their stuff. Okay. Now another quick question just as a reflection point.\": {'bart_unknown': 'What is the most common use of summarizeization?',\n  'bart_discord': 'What are the most common uses of summarization?',\n  'bart_nq': 'What is the meaning of question answering in siri',\n  'bart_eqg': 'What does \" question answering \" mean?'},\n \"How, what common NLP systems do you think you interact with? So I cited Google, so that's kind of an obvious one, but I'm a bit curious to see if any of you have used anything else. Hen raised, answers. Don't let me point. Yes. Sorry? Oh yes. Sorry. you're generating the text that is most likely considering the audio that was received. Yeah? Yeah, exactly. That's another one. Anything else? Sorry? Google Maps. That's also another one. That's a very interesting one because it's not mapping text to anything. It's mapping text to anything is mapping text to geographical entities and it is trying to understand what you're referring to when you say I want to find I don't know aspire cafe right considering what's the closest thing, I know, what time of the day it is, is it 12, maybe you want a cafe, then it's pointing to this or something else.\": {'bart_unknown': 'What is a mapping text to anything?',\n  'bart_discord': 'What was the most common NLP system used?',\n  'bart_nq': 'What is the meaning of google maps',\n  'bart_eqg': 'What is the mapping text to?'},\n \"Yes? So I can repeat that? Photo upscalers. Do they use text? Okay, you would have said that leave for instance. That's absolutely like a usage of NLP. Everybody here is, sorry? I'm not the use of feature when you can Schenectady's photos, so you take a picture and contrast. optical character recognition. That's also part of NOP, sort of. Yeah. Yeah. Apple pay. When you scan, when you scan what? For example, when you scan what? For example, I was thinking in a sense that how you have your kind of details on your forms? Yeah. You would just kind of adjust all those two systems for you just scan your phone over a car driver that I don't think that that counts as NLP. I thought you were gonna say that's NFC not NLP.\": {'bart_unknown': 'What does NLP stand for?',\n  'bart_discord': 'What is the use of NLP?',\n  'bart_nq': 'What does nl stand for in apple pay',\n  'bart_eqg': 'What is the use of photo upscalers?'},\n \"Near field communication. Yeah, near field communication. I thought you were going to refer to because that's something which is true is that in some cases, I know Google Pay does it, Google Wallet does it, where when you receive a bill in your emails it scans it and then kind of remembers it right so it's telling you you have a bill due on Sunday because it can't the PDF which is very boring. Also useful. Yeah. So as anybody heard of Dali, the image generation thing? Yeah, well that's some of the use of NLP, right? Because Dali takes a natural language description of something and then basically tries to map that to a set of images. So anyway, as you can see, there's a lot of NOP thing that we are using on the today basis.\": {'bart_unknown': 'What kind of communication is near field communication?',\n  'bart_discord': 'What was the use of NLP?',\n  'bart_nq': 'What is near field communication in google pay',\n  'bart_eqg': 'What is near field communication?'},\n \"There's more than that. I don't know how to, I should have made a list, but if you think about it, like you'll find that it's more common than you think. And to a general question, and that's more of a Henry's kind of thing, how happy are you overall, do they understand you? And if they're the one speaking do you understand them? Not completely there, right? I know in my case Google Assistant is a bit hit and miss. But I think we are making a lot of progress compared to previous years and previous decades and we are similarly getting there. Yeah. right. So that was the. So that was the general overview of NFP. If you're a master students and you want to do more work in NFP, you can come see me and I'll point to the right direction but this is just a general history lesson.\": {'bart_unknown': 'What is a bit hit and miss?',\n  'bart_discord': 'What was the general overview of NFP?',\n  'bart_nq': 'What does nfp stand for in google assistant',\n  'bart_eqg': 'What is the general overview of the NFP?'},\n \"Now we're going to talk about something called the NOP pipeline and that's something that's going to bother you for at least until coursework one. So pay attention. Some primary notions to understand this, when we talk about documents, you might think it's like a physical document, but when we say document, what we mean is a unit of interest. So if you're making an NRP system and you want to analyze tweets, then a document is a tweet. If you want to analyze books, then document is a tweet. If you analyze books, then document is a box. If you want to analyze the content of a book, there may be a document should be a chapter, or it should be a paragraph, or it should be whatever, it doesn't really matter. It's a unit of interest. When we have this document and we put them into a collection, we call that a corpus or a data set. And you might find these two terms, kind of equivalent in the literature, depending on whether an NFP person or a linguistics person wrote it.\": {'bart_unknown': 'What is a unit of interest?',\n  'bart_discord': 'What does a document mean?',\n  'bart_nq': 'What is the difference between document and corpus',\n  'bart_eqg': 'What does the writer mean by \" a unit of interest \"?'},\n \"And the main idea is that it's about the framing of what we want to analyze. The corpus could be anything and a document could also be anything. This is an overview of the pre-processing pipeline in NRP, which I actually wrote for my PhD thesis and I've been using it since then because I like it so much. So as you can see right we are starting from an input so in this case a small piece of text from Wikipedia about the Porter-Staining algorithm. Then we are going for a set of steps basically which helps us kind of cut things off and then put it into different words and then analyze each word so that we have something which can be fed into an LOP algorithm at the end. So we start with tokenization, then annotation, limitation or stemming, stop word filtering, and then we're done. Some of those steps can be skipped. Annotation can be sometimes skipped.\": {'bart_unknown': 'What is the main idea of NRP?',\n  'bart_discord': 'What does the pre-processing pipeline look like?',\n  'bart_nq': 'What is the purpose of the pre-processing pipeline',\n  'bart_eqg': 'What is the purpose in writing this text?'},\n \"Limatization can be sometimes skipped, and so one can also skip, but tokenization is the only one that's actually mandatory because to beization refers to actually cutting the text into talk onism and if you don't do that then you haven't really done anything. So let's go through each of these steps one by one. A document is made of tokens, hence the name tokenization, and those tokens can be of arbitrary length, and that depends on what we're trying to analyze. So for instance, if we are trying to, if we care about phrases, so like consecutive bits of text, then tokens could be the doggoran and the catche is there. So there's two subphrases in that sentence. If we care about words, then obviously we're going to put that into words, the dog run and the cat chase them. If we care about syllables, let's say for instance we want to analyze syllables to make a poetry generator which exists.\": {'bart_unknown': 'What do we need to analyze to make a poetry generator?',\n  'bart_discord': 'What does tokenization do?',\n  'bart_nq': 'What is the meaning of tokenization in poetry',\n  'bart_eqg': 'What is the name tokenization?'},\n 'The DORE and the cat check is the in. If you care about characters because we want to make a spelling correction algorithm, right? characters, the HEGE space, and so on, I think you can them into characters, THE space, DoG space, and so on. I think you get the point. We usually care about words, but sometimes we care about pairs of words, sometimes we care about phrases. It really depends on what we are trying to do. The next step is annotation and by annotation what we mean is that we want to enrich all those tokens with what we know about them. Usually we do it with part of speech, part of speech being the grammatical function of the word in the sentence. So as you may guess, part of speech depends on the language that is used, right? Part of speech in English, French, or Chinese are very different.': {'bart_unknown': 'What do we want to enrich all those token with?',\n  'bart_discord': 'What does part of speech mean?',\n  'bart_nq': 'What is the difference between dore and cat check',\n  'bart_eqg': 'What should we do when we want to make a spelling correction algorithm?'},\n \"Also, even within languages, you will see that there are different kind of of parts of speech classifications. So it's a very complicated thing. Thankfully, you don't have to understand the actual part of speech. You can just use it. Right. What we use about to speech for is that sometimes we won't help to disambigorate meaning using the grammatical context. So for example if I gave this sentence the sailor dogs the hatch, then if you just took dogs separate from anything else, then you would think immediately like this is referring to the animal and you just classify that with the rest of the animals words. Except that is not the case here because here dogs is the verb which means to close the door and secure them in a close position. So you see here context, knowing that it's a verb, help you actually understand the meaning of that word in that context, which helps you down the line in the NFP guideline.\": {'bart_unknown': 'What is the verb that means to close the door and secure them in a close position',\n  'bart_discord': 'What does the grammatical context do?',\n  'bart_nq': 'What is the meaning of dogs in speech',\n  'bart_eqg': 'What should we use about to speech for?'},\n \"Next step, we call usually awards analyzation and usually refers to one or two things which is either limitizing or stemming. So as we know, words are inflected during language during usage, sorry. So for example, here, when you have a verb like B right you don't say I be happy I be hungry You inflect that which means is modified based on the rest of the sentence. You say, I am happy, or I am hungry, or he is happy, or whatever. And the goal of standardization is to remove this inflection. We want to know what is the core word, the core now, the core verb that is referred to by the inflected now. So if you have something which is plural, you want it to be mapped to the same word if it's singular. If you have dogs and dog in the same sentence and they're both nouns, you want them to be together. So the way we do this is either lematization or stemming. When we limitize things we are reducing terms to their lemma which is the dictionary form and the way it which is the dictionary form.\": {'bart_unknown': 'What is it called when we limit things to their lema?',\n  'bart_discord': 'What is the goal of standardization?',\n  'bart_nq': 'What does it mean to add inflection to a sentence',\n  'bart_eqg': 'What is the goal of standardization?'},\n \"And the way it works is that you have a very complicated algorithm that goes through each word and then based on the part of speech and the word itself. It says, this is referring to the verb dog or this is referring to the non dog or this is referring to whatever. So that's a very complex algorithm and the other one is stemming, which is reducing terms of the word stem and that's just basically a very simple algorithm that just cuts off anything that looks like it's an inflection. So it will give you results which are going to be, we're going to sound terrible, like not like words, but for the sake of the algorithm, it's more than enough. So an example here, leimatization will map dogs as dog, dog as dog, and then dog is dog, right? So upper case, lower case, doesn't matter. It's all mapped the same word. So it produces very consistent conduct, but because it has this big dictionary thing it's always looking at, it's always looking at is very slow and also it requires to be part of speech annotated because it needs the context of the sentence the grammatical context to do its job. On the other hand, stemming would map programming to program, programmer to to program with two M's, which is obviously not great, but there's a bit of noise but overall it works close enough that it's actually good enough for the application so that it's a lot of words that don't exist, but it's a lot faster and sometimes that's what you need.\": {'bart_unknown': 'What is a very simple algorithm?',\n  'bart_discord': 'What does leimatization do?',\n  'bart_nq': 'What is the difference between stemming and stemming',\n  'bart_eqg': 'What is the disadvantage of stemming?'},\n 'And the way it works is just basically run a bunch of transformation on each token in order to get that result. Filtering, I think is the last step, yes. Not all words matter equally, as you might have guessed. Some words like determinants for instance are not really useful for any NFP purpose like the the dog for instance who cares about the. This actually gives you any information. And what we want to do when we build NFP models is that we want to have the smallest model possible that can do the job. And that means removing this kind of noise. So the way we do this is that we have this list of words in every language called the stop list, and the words called the stop words. Not sure why actually. And any word which is in this list usually gets removed from the text during this last step.': {'bart_unknown': 'What do we want to do when we build NFP models?',\n  'bart_discord': 'What is the last step?',\n  'bart_nq': 'What are the stop words in nfp model',\n  'bart_eqg': 'What does the word \" determinants \" mean?'},\n \"We can also filter words by frequency, so words which are too frequent, which means they are in all documents, are not very useful, and the words which only appear once usually are not useful either. So we cut them off. We'll see more about this in the coming weeks. This is just like an introduction to get your coin data with the vocabulary that we're going to use. And finally, and I mentioned this a bit before, sometimes we care about sets of words and not words themselves. So for example, Big Ben or Empire State Building would lose all meaning if we isolated every single word separately, right? Big and Ben, a little of a dumb thing, embarrassed the ability and the same thing. But if we look at the pair or the triple of words, then we know what is referring to. He is referring to the pigtours, referring to the big building, right? And in that case, what we do is that we actually extend our thing.\": {'bart_unknown': 'What is an example of a dumb thing?',\n  'bart_discord': 'What do we filter words by?',\n  'bart_nq': 'What is the difference between big ben and empire state building',\n  'bart_eqg': 'What should we do when we find words which are too frequent?'},\n \"And instead of just looking at isolated words, we look at pairs of consecutive words. We call that n-grams, and unigram being single words, bi-grams being pairs of consecutive words, trigrams, tri-grams, tri-igrams, triples, and you get the idea. Right, and I think I blizzed through this lecture much better than I thought. And here I was moving on that. Some reading to do, because I know is one thing, is that students love homework. This is very cool paper. What are very cool paper? What am I saying? This is paper called Eliza. And this is a very important paper because this is one of the first kind of, you know, mainstream NOP systems. And it was in 1966. I mean, you weren't born, I was unborn, Joe was unborn either, right? And the stuff they were doing with computers that are less powerful than your Apple watch is incredible.\": {'bart_unknown': 'What kind of paper is Eliza?',\n  'bart_discord': 'What was the name of the paper?',\n  'bart_nq': 'What is the meaning of unigrams in math',\n  'bart_eqg': 'What kind of paper is this?'},\n \"And you don't need to read into details, right? But if you look at a PDF and have a quick look at the way they are using transformation rules to take the input text and then turn that into a very convincing output text to imitate an actual person is very interesting. You don't have to read the details, it's more of a point of interest. And I think that's it for now. I'm going to, yeah, shoot another recording the questions or is there any questions? No question. Please just a few more minutes. You're almost close to the end, don't worry. Any question about the... Oh, sorry. Yes. So I'm just as the internet. The one process for NOP if I'm able to able to distinguish between whatever, obviously it spells something wrong, it's going to say like, if it's a real line, it's not that wrong.\": {'bart_unknown': 'What does NOP stand for?',\n  'bart_discord': 'What was the process for NOP?',\n  'bart_nq': 'What is the difference between nop and nop',\n  'bart_eqg': 'What will the writer probably say in the end?'},\n \"It is not an LP system, but it does have NOP system so the spelling character in your Microsoft Word is yet another kind of small AI embedded into your computer that's telling you you know this is wrong this is wrong yeah I'm sorry I can't hear that. I'm sorry I can't hear. And I'd be like the main problem that any items in the book I wouldn't see the base. Yeah. Yeah. Quiet, please. Yeah, it's almost the end, just, you know, calm down. I will do though, you say the basis, the word spelling correction in Microsoft Word, for instance, is very complex. The one we used to have, like 10 years ago, was just random dictionary search, but the one now is actually quite a beast comparatively yeah so you went there first I'm sorry I'm sorry I'm sorry I'm sorry this one filter oh it's a box what is my working now okay this one.\": {'bart_unknown': 'What kind of system does Microsoft Word not have?',\n  'bart_discord': 'What was the basis for the word spelling correction in Microsoft Word?',\n  'bart_nq': 'What is the meaning of word spelling in word',\n  'bart_eqg': 'What is the problem with the word spelling character in Microsoft Word?'},\n \"This one? Before that? Oh, this is not part of the process. This is not part of the process. It's just like an additional note that sometimes we don't actually analyze isolated words, we are taking them into pairs and things like that. Yeah. Sorry. You're going to see more about this in the labs because we're gonna deal directly with this. Yeah, sorry? Would you ever do like a position before adaptations to find the meeting of the base of the base members? adaptation before the annotation? No, because when you limitization before the annotation? No, because when you lematize, right, you are actually losing the grammatical effect, because since you remove the inflection, right, then you remove stuff. the conflict because since you remove the inflection, right? Then you remove stuff which helps you know what's the role of that word in the sentence. And you need the part of speech to the delimatization.\": {'bart_unknown': 'What is not part of the process?',\n  'bart_discord': 'What happens when you lematize?',\n  'bart_nq': 'What does it mean to remove the inflection in a sentence',\n  'bart_eqg': 'What is the disadvantage of lematize before the annotation?'},\n \"So you can't have it before. Does that make sense? Right, because it is through the part of speech that the lematizer knows that, oh, this is the verb, so it needs to be limatized that way, or this is the noun, limatized that way. That makes sense, yeah. OK. That makes sense. Yeah. Okay. Any other pending questions except. Sorry. Yeah. accept. you mean stemming? Okay, so the limitation. Okay, so theization uses a dictionary. So it's always going to give you the dictionary form of a word. It might be wrong, it might be correct, but the word you get has an output is always an actual word which exists.\": {'bart_unknown': 'What is always an actual word which exists?',\n  'bart_discord': 'What does the lematizer do?',\n  'bart_nq': 'What is the difference between limatization and stemming',\n  'bart_eqg': 'What does the word \" limatized \" mean?'},\n \"And for that reason, it takes a bit of time because basically there's a lot of process to analyze and find out what is the most likely dictionary form of that word. On the other hand, the way stemming works, right, is that you have a set of rules which says, oh, if this things ends with an S, cut the S, if you end with E S, cut the E S, and then switch to the next step, and then if there is two M's, remove one M, so there's a bunch of rules which acts at a character level so it just looks at a set of characters and applies a set of rules to transform it and get you something which hopefully is the close to the dictionary form. to something of that word. the next question of the process of the process uses the engineering form, well, will be used to the dictionary form. a process users that need to learn well-to-value is something that you can be quiet. Saving time. Sometimes you don't care if you make like, if 5% of your thing making mistake because you can process twice as much data in the same amount of time.\": {'bart_unknown': 'What is saving time?',\n  'bart_discord': 'What will happen when the process uses the engineering form?',\n  'bart_nq': 'What is the purpose of stemming in java',\n  'bart_eqg': 'What is the correct way to transform a word into a dictionary form?'},\n \"In the end, a lot of the shortcuts we take in machine learning are about saving time. When we cut off words because they're not frequent enough, we're also trying to save time. You're just trying to make the process as easy as possible for the algorithm at the end because getting doing more in a same amount of time is extremely valuable You know sometimes he takes what maybe not these days, but like sometimes it takes days and weeks to train a model and if you can cut that by five days just very nice Yeah and just very nice. And also sometimes it doesn't matter. If you have a word if it doesn't exist, maybe it's no important. Okay. Any chance. Yeah. Yeah. Yeah. I'm sorry, I didn't hear. Data.\": {'bart_unknown': 'What is a lot of the shortcuts we take in machine learning?',\n  'bart_discord': 'What did the algorithm do to save time?',\n  'bart_nq': 'What is the purpose of machine learning',\n  'bart_eqg': 'What are we trying to do in machine learning?'},\n \"Oh, we'll be taking data from all around the web. Don't worry, that's going to be part of the lab. Right? So I am still finishing up some details on the lab, so I haven't really yet but don't worry is tomorrow from 4 to 6 best time. Yeah? The lab. Yeah. Yeah. Everything is always on the moodle before the actual time. with the session rather, so everything's always going to be during the time, not for. Right. All right, get out. Oh,\": {'bart_unknown': 'What is always on the moodle before the session?',\n  'bart_discord': 'What time is the lab?',\n  'bart_nq': 'What time do we take data in the lab',\n  'bart_eqg': 'What time is the lab going to start?'}}"
     },
     "execution_count": 177,
     "metadata": {},
     "output_type": "execute_result"
    }
   ],
   "source": [
    "models_questions = {\n",
    "    \"bart_unknown\": gen_bart_unknown(time_chunks),\n",
    "    # \"t5_squad2\": gen_t5_squad2(time_chunks),\n",
    "    \"bart_discord\": gen_bart_discord(time_chunks),\n",
    "    \"bart_nq\": gen_bart_nq(time_chunks),\n",
    "    \"bart_eqg\": gen_bart_eqg(time_chunks),\n",
    "}\n",
    "\n",
    "chunks_by_model = {}\n",
    "\n",
    "for model, chunk_questions in models_questions.items():\n",
    "    for chunk, question in chunk_questions.items():\n",
    "        if chunk in chunks_by_model:\n",
    "            chunks_by_model[chunk].update({model: question})\n",
    "        else:\n",
    "            chunks_by_model[chunk] = {model: question}\n",
    "\n",
    "chunks_by_model"
   ],
   "metadata": {
    "collapsed": false,
    "ExecuteTime": {
     "end_time": "2023-12-05T17:42:24.513931600Z",
     "start_time": "2023-12-05T17:38:34.065711400Z"
    }
   },
   "id": "5fac465de9812d4"
  },
  {
   "cell_type": "markdown",
   "source": [
    "## Evaluation\n",
    "\n",
    "> Using BERTScore"
   ],
   "metadata": {
    "collapsed": false
   },
   "id": "d8639f59e29c0a4c"
  },
  {
   "cell_type": "code",
   "execution_count": 178,
   "outputs": [
    {
     "data": {
      "text/plain": "{\"Basically the number of students. You say a bit more than the number of students. Anybody else? Joe. Right. I mean you're getting to the point that I was trying to get at basically both of you which is that nowadays right most smartphones have actually quite a bit of embedded AI's inside them right and you mentioned Siri that's an excellent point but it's not the only thing. So if you have that one language engine which is like what you consider me Siri but that thing contains its own kind of subsystems to protest speech and then when you take a picture your camera has some AI inside it to correct pictures and then when you store that into your photo gallery app then there is some AI recognizing images right if you go into your photo app you can see like oh I want to search for cats and then he's gonna get you pictures of cats well the phone doesn't know what a cat is right there is some system specialized on that thing to deal with it. If you use things like Google translate then you also have a translation system in embedded in the AI.\": {'bart_unknown': {'precision': [0.6152266263961792],\n   'recall': [0.6438162326812744],\n   'f1': [0.62919682264328],\n   'hashcode': 'microsoft/deberta-xlarge-mnli_L40_no-idf_version=0.3.12(hug_trans=4.35.2)'},\n  'bart_discord': {'precision': [0.6880993247032166],\n   'recall': [0.6237192153930664],\n   'f1': [0.6543294787406921],\n   'hashcode': 'microsoft/deberta-xlarge-mnli_L40_no-idf_version=0.3.12(hug_trans=4.35.2)'},\n  'bart_nq': {'precision': [0.46120673418045044],\n   'recall': [0.5448494553565979],\n   'f1': [0.49955108761787415],\n   'hashcode': 'microsoft/deberta-xlarge-mnli_L40_no-idf_version=0.3.12(hug_trans=4.35.2)'},\n  'bart_eqg': {'precision': [0.6480010747909546],\n   'recall': [0.6838685870170593],\n   'f1': [0.6654518842697144],\n   'hashcode': 'microsoft/deberta-xlarge-mnli_L40_no-idf_version=0.3.12(hug_trans=4.35.2)'}},\n \"If you use something like Google Map or Apple Map, then there is a very complex route optimization AI inside it. So basically you can take hardware number of phones and computers and tablets they are and then multiply that by maybe five to ten different subsystems, always running and trying to basically get something for you and does not even counting the thing embedded into your smart watches or like smartly birds or whatever you have. And a certain number of these deal with language, right? You have a translation, special recognition, you have to some extent, image recognition deals with image with text as well, because if you want to search for cats you have to understand what a cat is so there is a step in there. And the reason for this is because language is at the key of interaction. When you interact between people, spoken of sign language or writing, when you interact with machines, I think that's common line interfaces, voice interfaces, interaction between machines, stuff like networking protocols are languages.\": {'bart_unknown': {'precision': [0.7775141000747681],\n   'recall': [0.7032778859138489],\n   'f1': [0.7385351657867432],\n   'hashcode': 'microsoft/deberta-xlarge-mnli_L40_no-idf_version=0.3.12(hug_trans=4.35.2)'},\n  'bart_discord': {'precision': [0.6657813787460327],\n   'recall': [0.6786575317382812],\n   'f1': [0.6721577644348145],\n   'hashcode': 'microsoft/deberta-xlarge-mnli_L40_no-idf_version=0.3.12(hug_trans=4.35.2)'},\n  'bart_nq': {'precision': [0.6858136057853699],\n   'recall': [0.6505749225616455],\n   'f1': [0.6677296161651611],\n   'hashcode': 'microsoft/deberta-xlarge-mnli_L40_no-idf_version=0.3.12(hug_trans=4.35.2)'},\n  'bart_eqg': {'precision': [0.8252168893814087],\n   'recall': [0.7762174010276794],\n   'f1': [0.7999675273895264],\n   'hashcode': 'microsoft/deberta-xlarge-mnli_L40_no-idf_version=0.3.12(hug_trans=4.35.2)'}},\n \"They're formal languages, but they're still languages. The way you interact with your cats or your dog is also a form of a marriage. So language is really the key of how we interact with almost anything. And now, thanks to the recent advances in machine learning, deep learning and all that, we brought natural language back as a natural way of interacting with computers. So you wouldn't know that because you're all very young, but used to be that you couldn't speak to your phone. You had to type things. It was hard. But nowadays you can talk to it and most tasks can be automated that way. I want a precise one as a natural language that means languages which naturally evolved over time. So this is in contrast to something like PEPFON or C-plus which are not natural language. They're artificial and formal languages designed for specific purpose. The field of natural language processing tries to merge insights from many other fields.\": {'bart_unknown': {'precision': [0.7258014678955078],\n   'recall': [0.6719682216644287],\n   'f1': [0.6978482007980347],\n   'hashcode': 'microsoft/deberta-xlarge-mnli_L40_no-idf_version=0.3.12(hug_trans=4.35.2)'},\n  'bart_discord': {'precision': [0.6127602458000183],\n   'recall': [0.6866525411605835],\n   'f1': [0.6476054787635803],\n   'hashcode': 'microsoft/deberta-xlarge-mnli_L40_no-idf_version=0.3.12(hug_trans=4.35.2)'},\n  'bart_nq': {'precision': [0.6478131413459778],\n   'recall': [0.7198107838630676],\n   'f1': [0.6819168329238892],\n   'hashcode': 'microsoft/deberta-xlarge-mnli_L40_no-idf_version=0.3.12(hug_trans=4.35.2)'},\n  'bart_eqg': {'precision': [0.7004002928733826],\n   'recall': [0.7126045227050781],\n   'f1': [0.7064496278762817],\n   'hashcode': 'microsoft/deberta-xlarge-mnli_L40_no-idf_version=0.3.12(hug_trans=4.35.2)'}},\n \"So at its core, you know, language, you can think that there's going to be some linguistics. And that is true to some extent, but it's a very shallow part of linguistics. Mostly it is things like computer science for the computational aspect of it. We want to automate things with the machine and AI for the autonomous aspect. We want to be able to extract insights from the text, we want to generate the text. We want the thing to be autonomous. There's two main self-filled in NFP, natural language understanding or NELU focuses more on finding insights and that would be the part we say, hey Siri, what time is it? And the natural language generation would be the part where Siri answers, it's 130. Is it 1.30? It's not 1.30, yes. So those are the two steps, but usually when we talk about NLP, most of the work is done on the understanding part because that is the hard part, so to speak.\": {'bart_unknown': {'precision': [0.7513466477394104],\n   'recall': [0.8090255856513977],\n   'f1': [0.7791200876235962],\n   'hashcode': 'microsoft/deberta-xlarge-mnli_L40_no-idf_version=0.3.12(hug_trans=4.35.2)'},\n  'bart_discord': {'precision': [0.6817617416381836],\n   'recall': [0.6459668874740601],\n   'f1': [0.663381814956665],\n   'hashcode': 'microsoft/deberta-xlarge-mnli_L40_no-idf_version=0.3.12(hug_trans=4.35.2)'},\n  'bart_nq': {'precision': [0.7948417663574219],\n   'recall': [0.7308652997016907],\n   'f1': [0.7615122199058533],\n   'hashcode': 'microsoft/deberta-xlarge-mnli_L40_no-idf_version=0.3.12(hug_trans=4.35.2)'},\n  'bart_eqg': {'precision': [0.654111921787262],\n   'recall': [0.6725968718528748],\n   'f1': [0.6632255911827087],\n   'hashcode': 'microsoft/deberta-xlarge-mnli_L40_no-idf_version=0.3.12(hug_trans=4.35.2)'}},\n \"Okay. Natural language. Understanding focused on analyzing natural language. You might have noticed that we tend to generate a lot of data and a lot of it is text. So this stats were from two years ago. We haven't changed it yet, but I'm assuming they can only go higher, right? Five hundred million tweets sent each day, the size of English Wikipedia is 5 terabytes and something. And as humans we are obsessive hoarders of data, we store store everything we keep it nose may combat any later which is true it is handy you can actually get a lot of insights from that text data you can figure out how people feel about a movie or a product, a thing called sentiment. You can figure out what people are talking about, what are the topics which are in the main public discourse. You can figure out how to translate sentences without having to have someone who speak both languages going and then translate in my way.\": {'bart_unknown': {'precision': [0.7049587965011597],\n   'recall': [0.5147910118103027],\n   'f1': [0.5950506329536438],\n   'hashcode': 'microsoft/deberta-xlarge-mnli_L40_no-idf_version=0.3.12(hug_trans=4.35.2)'},\n  'bart_discord': {'precision': [0.5995075702667236],\n   'recall': [0.5750505924224854],\n   'f1': [0.587024450302124],\n   'hashcode': 'microsoft/deberta-xlarge-mnli_L40_no-idf_version=0.3.12(hug_trans=4.35.2)'},\n  'bart_nq': {'precision': [0.6346902251243591],\n   'recall': [0.522441565990448],\n   'f1': [0.5731215476989746],\n   'hashcode': 'microsoft/deberta-xlarge-mnli_L40_no-idf_version=0.3.12(hug_trans=4.35.2)'},\n  'bart_eqg': {'precision': [0.6671897172927856],\n   'recall': [0.576763391494751],\n   'f1': [0.6186898946762085],\n   'hashcode': 'microsoft/deberta-xlarge-mnli_L40_no-idf_version=0.3.12(hug_trans=4.35.2)'}},\n \"Right. Okay, so I have a few slides about basically the evolution of NLP. This is not very detailed. about basically the evolution of NLP. This is not very detailed, but just to give you a rough idea. Early NLP systems focused on rule-based systems. And the way rule-based systems work is that you have an expert writing rules and saying you know if you see this word that means someone is happy if you see that word that means someone is sad. If you see that word, that means someone is sad. If you see this word, you need to report to the police and things like that. And then you have programmers coming, taking those rules and then programming an AI, expert system out of those rules and then they will just send the system back to the expert, they will just test it and say this is terrible, is good whatever change this at this and so on and so forth rulebed systems although I'm making front of them right now are actually very useful and they use quite a lot. You can use things to like extracting elements from text, like dates, names with things you must have seen called regular expressions.\": {'bart_unknown': {'precision': [0.7070513367652893],\n   'recall': [0.6717923879623413],\n   'f1': [0.6889710426330566],\n   'hashcode': 'microsoft/deberta-xlarge-mnli_L40_no-idf_version=0.3.12(hug_trans=4.35.2)'},\n  'bart_discord': {'precision': [0.8962671756744385],\n   'recall': [0.8303645849227905],\n   'f1': [0.8620582222938538],\n   'hashcode': 'microsoft/deberta-xlarge-mnli_L40_no-idf_version=0.3.12(hug_trans=4.35.2)'},\n  'bart_nq': {'precision': [0.5388240814208984],\n   'recall': [0.5703051686286926],\n   'f1': [0.5541178584098816],\n   'hashcode': 'microsoft/deberta-xlarge-mnli_L40_no-idf_version=0.3.12(hug_trans=4.35.2)'},\n  'bart_eqg': {'precision': [0.6423709988594055],\n   'recall': [0.6244590878486633],\n   'f1': [0.6332883834838867],\n   'hashcode': 'microsoft/deberta-xlarge-mnli_L40_no-idf_version=0.3.12(hug_trans=4.35.2)'}},\n \"And then you can do in classify text using stuff we call lexicants, which are just list of terms. And then you can use this and then you're immense programming now-how to kind of build reports or do whatever you want with it. We still use all the systems these days because they are very easy to build. We don't need any data to start with and they're very fast usually. Then we ended up having a lot more data and computational power that we knew what to do with and this is the era of the classical machine learning algorithms. You might have heard things like super vector machines. This is in trees, logistic regression, linear regression and things that that. Those classical machine learning algorithms are still used today. They're very good. They have a good trade-off of like, oh, it takes half an hour to build and it gives you good performance on what you want to do and things like that.\": {'bart_unknown': {'precision': [0.6726711392402649],\n   'recall': [0.550268828868866],\n   'f1': [0.6053444743156433],\n   'hashcode': 'microsoft/deberta-xlarge-mnli_L40_no-idf_version=0.3.12(hug_trans=4.35.2)'},\n  'bart_discord': {'precision': [0.7607516050338745],\n   'recall': [0.6914424300193787],\n   'f1': [0.7244430780410767],\n   'hashcode': 'microsoft/deberta-xlarge-mnli_L40_no-idf_version=0.3.12(hug_trans=4.35.2)'},\n  'bart_nq': {'precision': [0.5954283475875854],\n   'recall': [0.6059425473213196],\n   'f1': [0.6006394028663635],\n   'hashcode': 'microsoft/deberta-xlarge-mnli_L40_no-idf_version=0.3.12(hug_trans=4.35.2)'},\n  'bart_eqg': {'precision': [0.7810447812080383],\n   'recall': [0.7358747720718384],\n   'f1': [0.7577872276306152],\n   'hashcode': 'microsoft/deberta-xlarge-mnli_L40_no-idf_version=0.3.12(hug_trans=4.35.2)'}},\n \"The first one, one of the simplest one, is opening or send my analysis, depending on who you're reading. And for example, that will be reading a movie review and detecting whether someone liked or disliked the movie. Now this is very useful for instance if you're doing product market research and then you're trying to find out, well, should we fund the next avatar? Everybody loved it, fine, makes a lot of money, whatever. Another one, arguments, tense section. So for given sentences A and B, you want to detect whether A is an agreement with B or disagreement with B, also a very common field. Textual entailment is a bit more difficult. Summarization, a very common one as well. So you encounter summarization on a regular basis if you type a question in Google. And then it spits out an answer above all web pages. Google did not figure out that answer. It extracted this from a page which is, you know, in the documents that you're seeing and then it's just showing it to you directly because it thinks that's what you want to see.\": {'bart_unknown': {'precision': [0.704179048538208],\n   'recall': [0.7968066930770874],\n   'f1': [0.747634768486023],\n   'hashcode': 'microsoft/deberta-xlarge-mnli_L40_no-idf_version=0.3.12(hug_trans=4.35.2)'},\n  'bart_discord': {'precision': [0.5929839611053467],\n   'recall': [0.7207379341125488],\n   'f1': [0.6506491899490356],\n   'hashcode': 'microsoft/deberta-xlarge-mnli_L40_no-idf_version=0.3.12(hug_trans=4.35.2)'},\n  'bart_nq': {'precision': [0.6338678002357483],\n   'recall': [0.7400079369544983],\n   'f1': [0.6828379034996033],\n   'hashcode': 'microsoft/deberta-xlarge-mnli_L40_no-idf_version=0.3.12(hug_trans=4.35.2)'},\n  'bart_eqg': {'precision': [0.7407735586166382],\n   'recall': [0.7850093841552734],\n   'f1': [0.7622501850128174],\n   'hashcode': 'microsoft/deberta-xlarge-mnli_L40_no-idf_version=0.3.12(hug_trans=4.35.2)'}},\n \"So this is one of the most common. because it thinks that's what you want to see. So this is one of the most common uses of summarization. Question answering, kind of related, if you ever used Siri or Alexa or or Kratina orartana or whatever. This is what question answering is basically. It has a huge database of facts and things that he can answer and then when he detects a question he just finds out what you want to know and then spits out the answer. That's why if you repeat the same question, it's going to repeat the same answer because you will always map for the same one. In formation retrieval, how much to me everybody here has used Google before, or some equivalent. I don't know if there's any big people here. Usually know, but it can be, it is possible. Comersational user interfaces, so those are the very annoying chatpots I was mentioning before that pop up on all the websites and asking you what they can do to make you buy their stuff. Okay. Now another quick question just as a reflection point.\": {'bart_unknown': {'precision': [0.8794536590576172],\n   'recall': [0.8758701086044312],\n   'f1': [0.8776581883430481],\n   'hashcode': 'microsoft/deberta-xlarge-mnli_L40_no-idf_version=0.3.12(hug_trans=4.35.2)'},\n  'bart_discord': {'precision': [0.9999998807907104],\n   'recall': [0.9999998807907104],\n   'f1': [0.9999998807907104],\n   'hashcode': 'microsoft/deberta-xlarge-mnli_L40_no-idf_version=0.3.12(hug_trans=4.35.2)'},\n  'bart_nq': {'precision': [0.6621090173721313],\n   'recall': [0.6898374557495117],\n   'f1': [0.6756888628005981],\n   'hashcode': 'microsoft/deberta-xlarge-mnli_L40_no-idf_version=0.3.12(hug_trans=4.35.2)'},\n  'bart_eqg': {'precision': [0.6735877990722656],\n   'recall': [0.6277238130569458],\n   'f1': [0.6498475670814514],\n   'hashcode': 'microsoft/deberta-xlarge-mnli_L40_no-idf_version=0.3.12(hug_trans=4.35.2)'}},\n \"How, what common NLP systems do you think you interact with? So I cited Google, so that's kind of an obvious one, but I'm a bit curious to see if any of you have used anything else. Hen raised, answers. Don't let me point. Yes. Sorry? Oh yes. Sorry. you're generating the text that is most likely considering the audio that was received. Yeah? Yeah, exactly. That's another one. Anything else? Sorry? Google Maps. That's also another one. That's a very interesting one because it's not mapping text to anything. It's mapping text to anything is mapping text to geographical entities and it is trying to understand what you're referring to when you say I want to find I don't know aspire cafe right considering what's the closest thing, I know, what time of the day it is, is it 12, maybe you want a cafe, then it's pointing to this or something else.\": {'bart_unknown': {'precision': [0.5900663733482361],\n   'recall': [0.49606820940971375],\n   'f1': [0.5389997959136963],\n   'hashcode': 'microsoft/deberta-xlarge-mnli_L40_no-idf_version=0.3.12(hug_trans=4.35.2)'},\n  'bart_discord': {'precision': [0.8155831098556519],\n   'recall': [0.7702696323394775],\n   'f1': [0.7922789454460144],\n   'hashcode': 'microsoft/deberta-xlarge-mnli_L40_no-idf_version=0.3.12(hug_trans=4.35.2)'},\n  'bart_nq': {'precision': [0.6582662463188171],\n   'recall': [0.5369323492050171],\n   'f1': [0.5914405584335327],\n   'hashcode': 'microsoft/deberta-xlarge-mnli_L40_no-idf_version=0.3.12(hug_trans=4.35.2)'},\n  'bart_eqg': {'precision': [0.6233974695205688],\n   'recall': [0.5684654116630554],\n   'f1': [0.5946655869483948],\n   'hashcode': 'microsoft/deberta-xlarge-mnli_L40_no-idf_version=0.3.12(hug_trans=4.35.2)'}},\n \"Yes? So I can repeat that? Photo upscalers. Do they use text? Okay, you would have said that leave for instance. That's absolutely like a usage of NLP. Everybody here is, sorry? I'm not the use of feature when you can Schenectady's photos, so you take a picture and contrast. optical character recognition. That's also part of NOP, sort of. Yeah. Yeah. Apple pay. When you scan, when you scan what? For example, when you scan what? For example, I was thinking in a sense that how you have your kind of details on your forms? Yeah. You would just kind of adjust all those two systems for you just scan your phone over a car driver that I don't think that that counts as NLP. I thought you were gonna say that's NFC not NLP.\": {'bart_unknown': {'precision': [0.717639684677124],\n   'recall': [0.7415164709091187],\n   'f1': [0.7293826937675476],\n   'hashcode': 'microsoft/deberta-xlarge-mnli_L40_no-idf_version=0.3.12(hug_trans=4.35.2)'},\n  'bart_discord': {'precision': [0.8779457807540894],\n   'recall': [0.8335120677947998],\n   'f1': [0.8551520705223083],\n   'hashcode': 'microsoft/deberta-xlarge-mnli_L40_no-idf_version=0.3.12(hug_trans=4.35.2)'},\n  'bart_nq': {'precision': [0.5365059971809387],\n   'recall': [0.634535014629364],\n   'f1': [0.581417441368103],\n   'hashcode': 'microsoft/deberta-xlarge-mnli_L40_no-idf_version=0.3.12(hug_trans=4.35.2)'},\n  'bart_eqg': {'precision': [0.6882080435752869],\n   'recall': [0.7104371190071106],\n   'f1': [0.6991459131240845],\n   'hashcode': 'microsoft/deberta-xlarge-mnli_L40_no-idf_version=0.3.12(hug_trans=4.35.2)'}},\n \"Near field communication. Yeah, near field communication. I thought you were going to refer to because that's something which is true is that in some cases, I know Google Pay does it, Google Wallet does it, where when you receive a bill in your emails it scans it and then kind of remembers it right so it's telling you you have a bill due on Sunday because it can't the PDF which is very boring. Also useful. Yeah. So as anybody heard of Dali, the image generation thing? Yeah, well that's some of the use of NLP, right? Because Dali takes a natural language description of something and then basically tries to map that to a set of images. So anyway, as you can see, there's a lot of NOP thing that we are using on the today basis.\": {'bart_unknown': {'precision': [0.5920361280441284],\n   'recall': [0.5663232207298279],\n   'f1': [0.578894317150116],\n   'hashcode': 'microsoft/deberta-xlarge-mnli_L40_no-idf_version=0.3.12(hug_trans=4.35.2)'},\n  'bart_discord': {'precision': [0.703791618347168],\n   'recall': [0.6114762425422668],\n   'f1': [0.654394268989563],\n   'hashcode': 'microsoft/deberta-xlarge-mnli_L40_no-idf_version=0.3.12(hug_trans=4.35.2)'},\n  'bart_nq': {'precision': [0.5354005098342896],\n   'recall': [0.5721036791801453],\n   'f1': [0.5531439781188965],\n   'hashcode': 'microsoft/deberta-xlarge-mnli_L40_no-idf_version=0.3.12(hug_trans=4.35.2)'},\n  'bart_eqg': {'precision': [0.6927735805511475],\n   'recall': [0.5988078117370605],\n   'f1': [0.6423725485801697],\n   'hashcode': 'microsoft/deberta-xlarge-mnli_L40_no-idf_version=0.3.12(hug_trans=4.35.2)'}},\n \"There's more than that. I don't know how to, I should have made a list, but if you think about it, like you'll find that it's more common than you think. And to a general question, and that's more of a Henry's kind of thing, how happy are you overall, do they understand you? And if they're the one speaking do you understand them? Not completely there, right? I know in my case Google Assistant is a bit hit and miss. But I think we are making a lot of progress compared to previous years and previous decades and we are similarly getting there. Yeah. right. So that was the. So that was the general overview of NFP. If you're a master students and you want to do more work in NFP, you can come see me and I'll point to the right direction but this is just a general history lesson.\": {'bart_unknown': {'precision': [0.6080453991889954],\n   'recall': [0.6088935732841492],\n   'f1': [0.6084691882133484],\n   'hashcode': 'microsoft/deberta-xlarge-mnli_L40_no-idf_version=0.3.12(hug_trans=4.35.2)'},\n  'bart_discord': {'precision': [0.9666457176208496],\n   'recall': [0.9666457176208496],\n   'f1': [0.9666457176208496],\n   'hashcode': 'microsoft/deberta-xlarge-mnli_L40_no-idf_version=0.3.12(hug_trans=4.35.2)'},\n  'bart_nq': {'precision': [0.5610734820365906],\n   'recall': [0.6491609811782837],\n   'f1': [0.6019115447998047],\n   'hashcode': 'microsoft/deberta-xlarge-mnli_L40_no-idf_version=0.3.12(hug_trans=4.35.2)'},\n  'bart_eqg': {'precision': [0.9616910219192505],\n   'recall': [0.9787164926528931],\n   'f1': [0.9701290726661682],\n   'hashcode': 'microsoft/deberta-xlarge-mnli_L40_no-idf_version=0.3.12(hug_trans=4.35.2)'}},\n \"Now we're going to talk about something called the NOP pipeline and that's something that's going to bother you for at least until coursework one. So pay attention. Some primary notions to understand this, when we talk about documents, you might think it's like a physical document, but when we say document, what we mean is a unit of interest. So if you're making an NRP system and you want to analyze tweets, then a document is a tweet. If you want to analyze books, then document is a tweet. If you analyze books, then document is a box. If you want to analyze the content of a book, there may be a document should be a chapter, or it should be a paragraph, or it should be whatever, it doesn't really matter. It's a unit of interest. When we have this document and we put them into a collection, we call that a corpus or a data set. And you might find these two terms, kind of equivalent in the literature, depending on whether an NFP person or a linguistics person wrote it.\": {'bart_unknown': {'precision': [0.8233034610748291],\n   'recall': [0.8905947208404541],\n   'f1': [0.8556280732154846],\n   'hashcode': 'microsoft/deberta-xlarge-mnli_L40_no-idf_version=0.3.12(hug_trans=4.35.2)'},\n  'bart_discord': {'precision': [0.853063702583313],\n   'recall': [0.9083975553512573],\n   'f1': [0.8798615336418152],\n   'hashcode': 'microsoft/deberta-xlarge-mnli_L40_no-idf_version=0.3.12(hug_trans=4.35.2)'},\n  'bart_nq': {'precision': [0.6821473240852356],\n   'recall': [0.7495948672294617],\n   'f1': [0.7142823934555054],\n   'hashcode': 'microsoft/deberta-xlarge-mnli_L40_no-idf_version=0.3.12(hug_trans=4.35.2)'},\n  'bart_eqg': {'precision': [0.6132950186729431],\n   'recall': [0.749902069568634],\n   'f1': [0.6747537851333618],\n   'hashcode': 'microsoft/deberta-xlarge-mnli_L40_no-idf_version=0.3.12(hug_trans=4.35.2)'}},\n \"And the main idea is that it's about the framing of what we want to analyze. The corpus could be anything and a document could also be anything. This is an overview of the pre-processing pipeline in NRP, which I actually wrote for my PhD thesis and I've been using it since then because I like it so much. So as you can see right we are starting from an input so in this case a small piece of text from Wikipedia about the Porter-Staining algorithm. Then we are going for a set of steps basically which helps us kind of cut things off and then put it into different words and then analyze each word so that we have something which can be fed into an LOP algorithm at the end. So we start with tokenization, then annotation, limitation or stemming, stop word filtering, and then we're done. Some of those steps can be skipped. Annotation can be sometimes skipped.\": {'bart_unknown': {'precision': [0.7483090162277222],\n   'recall': [0.6583064794540405],\n   'f1': [0.7004283666610718],\n   'hashcode': 'microsoft/deberta-xlarge-mnli_L40_no-idf_version=0.3.12(hug_trans=4.35.2)'},\n  'bart_discord': {'precision': [0.8295205235481262],\n   'recall': [0.7440864443778992],\n   'f1': [0.784484326839447],\n   'hashcode': 'microsoft/deberta-xlarge-mnli_L40_no-idf_version=0.3.12(hug_trans=4.35.2)'},\n  'bart_nq': {'precision': [0.8416495323181152],\n   'recall': [0.770595371723175],\n   'f1': [0.8045567870140076],\n   'hashcode': 'microsoft/deberta-xlarge-mnli_L40_no-idf_version=0.3.12(hug_trans=4.35.2)'},\n  'bart_eqg': {'precision': [0.7082111239433289],\n   'recall': [0.6311353445053101],\n   'f1': [0.6674554944038391],\n   'hashcode': 'microsoft/deberta-xlarge-mnli_L40_no-idf_version=0.3.12(hug_trans=4.35.2)'}},\n \"Limatization can be sometimes skipped, and so one can also skip, but tokenization is the only one that's actually mandatory because to beization refers to actually cutting the text into talk onism and if you don't do that then you haven't really done anything. So let's go through each of these steps one by one. A document is made of tokens, hence the name tokenization, and those tokens can be of arbitrary length, and that depends on what we're trying to analyze. So for instance, if we are trying to, if we care about phrases, so like consecutive bits of text, then tokens could be the doggoran and the catche is there. So there's two subphrases in that sentence. If we care about words, then obviously we're going to put that into words, the dog run and the cat chase them. If we care about syllables, let's say for instance we want to analyze syllables to make a poetry generator which exists.\": {'bart_unknown': {'precision': [0.6581733226776123],\n   'recall': [0.6316760182380676],\n   'f1': [0.6446524858474731],\n   'hashcode': 'microsoft/deberta-xlarge-mnli_L40_no-idf_version=0.3.12(hug_trans=4.35.2)'},\n  'bart_discord': {'precision': [0.6287174224853516],\n   'recall': [0.5313822627067566],\n   'f1': [0.575966477394104],\n   'hashcode': 'microsoft/deberta-xlarge-mnli_L40_no-idf_version=0.3.12(hug_trans=4.35.2)'},\n  'bart_nq': {'precision': [0.7234897017478943],\n   'recall': [0.6557137370109558],\n   'f1': [0.6879364252090454],\n   'hashcode': 'microsoft/deberta-xlarge-mnli_L40_no-idf_version=0.3.12(hug_trans=4.35.2)'},\n  'bart_eqg': {'precision': [0.6651992797851562],\n   'recall': [0.5684168934822083],\n   'f1': [0.6130115985870361],\n   'hashcode': 'microsoft/deberta-xlarge-mnli_L40_no-idf_version=0.3.12(hug_trans=4.35.2)'}},\n 'The DORE and the cat check is the in. If you care about characters because we want to make a spelling correction algorithm, right? characters, the HEGE space, and so on, I think you can them into characters, THE space, DoG space, and so on. I think you get the point. We usually care about words, but sometimes we care about pairs of words, sometimes we care about phrases. It really depends on what we are trying to do. The next step is annotation and by annotation what we mean is that we want to enrich all those tokens with what we know about them. Usually we do it with part of speech, part of speech being the grammatical function of the word in the sentence. So as you may guess, part of speech depends on the language that is used, right? Part of speech in English, French, or Chinese are very different.': {'bart_unknown': {'precision': [0.5634636282920837],\n   'recall': [0.5621700882911682],\n   'f1': [0.5628160834312439],\n   'hashcode': 'microsoft/deberta-xlarge-mnli_L40_no-idf_version=0.3.12(hug_trans=4.35.2)'},\n  'bart_discord': {'precision': [0.7828751802444458],\n   'recall': [0.67839115858078],\n   'f1': [0.7268977761268616],\n   'hashcode': 'microsoft/deberta-xlarge-mnli_L40_no-idf_version=0.3.12(hug_trans=4.35.2)'},\n  'bart_nq': {'precision': [0.5294826626777649],\n   'recall': [0.5283817648887634],\n   'f1': [0.5289316177368164],\n   'hashcode': 'microsoft/deberta-xlarge-mnli_L40_no-idf_version=0.3.12(hug_trans=4.35.2)'},\n  'bart_eqg': {'precision': [0.6334519982337952],\n   'recall': [0.6519826650619507],\n   'f1': [0.6425837278366089],\n   'hashcode': 'microsoft/deberta-xlarge-mnli_L40_no-idf_version=0.3.12(hug_trans=4.35.2)'}},\n \"Also, even within languages, you will see that there are different kind of of parts of speech classifications. So it's a very complicated thing. Thankfully, you don't have to understand the actual part of speech. You can just use it. Right. What we use about to speech for is that sometimes we won't help to disambigorate meaning using the grammatical context. So for example if I gave this sentence the sailor dogs the hatch, then if you just took dogs separate from anything else, then you would think immediately like this is referring to the animal and you just classify that with the rest of the animals words. Except that is not the case here because here dogs is the verb which means to close the door and secure them in a close position. So you see here context, knowing that it's a verb, help you actually understand the meaning of that word in that context, which helps you down the line in the NFP guideline.\": {'bart_unknown': {'precision': [0.49495458602905273],\n   'recall': [0.5580235123634338],\n   'f1': [0.5246003270149231],\n   'hashcode': 'microsoft/deberta-xlarge-mnli_L40_no-idf_version=0.3.12(hug_trans=4.35.2)'},\n  'bart_discord': {'precision': [0.6847658753395081],\n   'recall': [0.7174564599990845],\n   'f1': [0.7007300853729248],\n   'hashcode': 'microsoft/deberta-xlarge-mnli_L40_no-idf_version=0.3.12(hug_trans=4.35.2)'},\n  'bart_nq': {'precision': [0.5690374374389648],\n   'recall': [0.6172783970832825],\n   'f1': [0.5921770930290222],\n   'hashcode': 'microsoft/deberta-xlarge-mnli_L40_no-idf_version=0.3.12(hug_trans=4.35.2)'},\n  'bart_eqg': {'precision': [0.5438537001609802],\n   'recall': [0.6362246870994568],\n   'f1': [0.5864240527153015],\n   'hashcode': 'microsoft/deberta-xlarge-mnli_L40_no-idf_version=0.3.12(hug_trans=4.35.2)'}},\n \"Next step, we call usually awards analyzation and usually refers to one or two things which is either limitizing or stemming. So as we know, words are inflected during language during usage, sorry. So for example, here, when you have a verb like B right you don't say I be happy I be hungry You inflect that which means is modified based on the rest of the sentence. You say, I am happy, or I am hungry, or he is happy, or whatever. And the goal of standardization is to remove this inflection. We want to know what is the core word, the core now, the core verb that is referred to by the inflected now. So if you have something which is plural, you want it to be mapped to the same word if it's singular. If you have dogs and dog in the same sentence and they're both nouns, you want them to be together. So the way we do this is either lematization or stemming. When we limitize things we are reducing terms to their lemma which is the dictionary form and the way it which is the dictionary form.\": {'bart_unknown': {'precision': [0.5796634554862976],\n   'recall': [0.6120335459709167],\n   'f1': [0.5954088568687439],\n   'hashcode': 'microsoft/deberta-xlarge-mnli_L40_no-idf_version=0.3.12(hug_trans=4.35.2)'},\n  'bart_discord': {'precision': [0.7362448573112488],\n   'recall': [0.6151018738746643],\n   'f1': [0.6702433824539185],\n   'hashcode': 'microsoft/deberta-xlarge-mnli_L40_no-idf_version=0.3.12(hug_trans=4.35.2)'},\n  'bart_nq': {'precision': [0.6349794864654541],\n   'recall': [0.6492282748222351],\n   'f1': [0.64202481508255],\n   'hashcode': 'microsoft/deberta-xlarge-mnli_L40_no-idf_version=0.3.12(hug_trans=4.35.2)'},\n  'bart_eqg': {'precision': [0.7362448573112488],\n   'recall': [0.6151018738746643],\n   'f1': [0.6702433824539185],\n   'hashcode': 'microsoft/deberta-xlarge-mnli_L40_no-idf_version=0.3.12(hug_trans=4.35.2)'}},\n \"And the way it works is that you have a very complicated algorithm that goes through each word and then based on the part of speech and the word itself. It says, this is referring to the verb dog or this is referring to the non dog or this is referring to whatever. So that's a very complex algorithm and the other one is stemming, which is reducing terms of the word stem and that's just basically a very simple algorithm that just cuts off anything that looks like it's an inflection. So it will give you results which are going to be, we're going to sound terrible, like not like words, but for the sake of the algorithm, it's more than enough. So an example here, leimatization will map dogs as dog, dog as dog, and then dog is dog, right? So upper case, lower case, doesn't matter. It's all mapped the same word. So it produces very consistent conduct, but because it has this big dictionary thing it's always looking at, it's always looking at is very slow and also it requires to be part of speech annotated because it needs the context of the sentence the grammatical context to do its job. On the other hand, stemming would map programming to program, programmer to to program with two M's, which is obviously not great, but there's a bit of noise but overall it works close enough that it's actually good enough for the application so that it's a lot of words that don't exist, but it's a lot faster and sometimes that's what you need.\": {'bart_unknown': {'precision': [0.6798465847969055],\n   'recall': [0.7010565400123596],\n   'f1': [0.6902886629104614],\n   'hashcode': 'microsoft/deberta-xlarge-mnli_L40_no-idf_version=0.3.12(hug_trans=4.35.2)'},\n  'bart_discord': {'precision': [0.6887462139129639],\n   'recall': [0.7161837220191956],\n   'f1': [0.7021970748901367],\n   'hashcode': 'microsoft/deberta-xlarge-mnli_L40_no-idf_version=0.3.12(hug_trans=4.35.2)'},\n  'bart_nq': {'precision': [0.6605223417282104],\n   'recall': [0.7493342757225037],\n   'f1': [0.7021310329437256],\n   'hashcode': 'microsoft/deberta-xlarge-mnli_L40_no-idf_version=0.3.12(hug_trans=4.35.2)'},\n  'bart_eqg': {'precision': [0.9428857564926147],\n   'recall': [0.9428857564926147],\n   'f1': [0.9428857564926147],\n   'hashcode': 'microsoft/deberta-xlarge-mnli_L40_no-idf_version=0.3.12(hug_trans=4.35.2)'}},\n 'And the way it works is just basically run a bunch of transformation on each token in order to get that result. Filtering, I think is the last step, yes. Not all words matter equally, as you might have guessed. Some words like determinants for instance are not really useful for any NFP purpose like the the dog for instance who cares about the. This actually gives you any information. And what we want to do when we build NFP models is that we want to have the smallest model possible that can do the job. And that means removing this kind of noise. So the way we do this is that we have this list of words in every language called the stop list, and the words called the stop words. Not sure why actually. And any word which is in this list usually gets removed from the text during this last step.': {'bart_unknown': {'precision': [0.5347234606742859],\n   'recall': [0.6525489091873169],\n   'f1': [0.5877897143363953],\n   'hashcode': 'microsoft/deberta-xlarge-mnli_L40_no-idf_version=0.3.12(hug_trans=4.35.2)'},\n  'bart_discord': {'precision': [0.7503443956375122],\n   'recall': [0.7286339402198792],\n   'f1': [0.7393298149108887],\n   'hashcode': 'microsoft/deberta-xlarge-mnli_L40_no-idf_version=0.3.12(hug_trans=4.35.2)'},\n  'bart_nq': {'precision': [0.6843944787979126],\n   'recall': [0.8582749366760254],\n   'f1': [0.7615353465080261],\n   'hashcode': 'microsoft/deberta-xlarge-mnli_L40_no-idf_version=0.3.12(hug_trans=4.35.2)'},\n  'bart_eqg': {'precision': [0.7060188055038452],\n   'recall': [0.7377330660820007],\n   'f1': [0.721527636051178],\n   'hashcode': 'microsoft/deberta-xlarge-mnli_L40_no-idf_version=0.3.12(hug_trans=4.35.2)'}},\n \"We can also filter words by frequency, so words which are too frequent, which means they are in all documents, are not very useful, and the words which only appear once usually are not useful either. So we cut them off. We'll see more about this in the coming weeks. This is just like an introduction to get your coin data with the vocabulary that we're going to use. And finally, and I mentioned this a bit before, sometimes we care about sets of words and not words themselves. So for example, Big Ben or Empire State Building would lose all meaning if we isolated every single word separately, right? Big and Ben, a little of a dumb thing, embarrassed the ability and the same thing. But if we look at the pair or the triple of words, then we know what is referring to. He is referring to the pigtours, referring to the big building, right? And in that case, what we do is that we actually extend our thing.\": {'bart_unknown': {'precision': [0.6202372312545776],\n   'recall': [0.5871743559837341],\n   'f1': [0.6032531261444092],\n   'hashcode': 'microsoft/deberta-xlarge-mnli_L40_no-idf_version=0.3.12(hug_trans=4.35.2)'},\n  'bart_discord': {'precision': [0.7914820909500122],\n   'recall': [0.8182264566421509],\n   'f1': [0.8046320676803589],\n   'hashcode': 'microsoft/deberta-xlarge-mnli_L40_no-idf_version=0.3.12(hug_trans=4.35.2)'},\n  'bart_nq': {'precision': [0.5196192264556885],\n   'recall': [0.591341495513916],\n   'f1': [0.5531651973724365],\n   'hashcode': 'microsoft/deberta-xlarge-mnli_L40_no-idf_version=0.3.12(hug_trans=4.35.2)'},\n  'bart_eqg': {'precision': [0.679603636264801],\n   'recall': [0.775986909866333],\n   'f1': [0.7246042490005493],\n   'hashcode': 'microsoft/deberta-xlarge-mnli_L40_no-idf_version=0.3.12(hug_trans=4.35.2)'}},\n \"And instead of just looking at isolated words, we look at pairs of consecutive words. We call that n-grams, and unigram being single words, bi-grams being pairs of consecutive words, trigrams, tri-grams, tri-igrams, triples, and you get the idea. Right, and I think I blizzed through this lecture much better than I thought. And here I was moving on that. Some reading to do, because I know is one thing, is that students love homework. This is very cool paper. What are very cool paper? What am I saying? This is paper called Eliza. And this is a very important paper because this is one of the first kind of, you know, mainstream NOP systems. And it was in 1966. I mean, you weren't born, I was unborn, Joe was unborn either, right? And the stuff they were doing with computers that are less powerful than your Apple watch is incredible.\": {'bart_unknown': {'precision': [0.6784608364105225],\n   'recall': [0.6220959424972534],\n   'f1': [0.6490569710731506],\n   'hashcode': 'microsoft/deberta-xlarge-mnli_L40_no-idf_version=0.3.12(hug_trans=4.35.2)'},\n  'bart_discord': {'precision': [0.6546643376350403],\n   'recall': [0.6090657711029053],\n   'f1': [0.6310424208641052],\n   'hashcode': 'microsoft/deberta-xlarge-mnli_L40_no-idf_version=0.3.12(hug_trans=4.35.2)'},\n  'bart_nq': {'precision': [0.6299306750297546],\n   'recall': [0.6220604777336121],\n   'f1': [0.6259708404541016],\n   'hashcode': 'microsoft/deberta-xlarge-mnli_L40_no-idf_version=0.3.12(hug_trans=4.35.2)'},\n  'bart_eqg': {'precision': [0.6773948669433594],\n   'recall': [0.5773000121116638],\n   'f1': [0.6233547925949097],\n   'hashcode': 'microsoft/deberta-xlarge-mnli_L40_no-idf_version=0.3.12(hug_trans=4.35.2)'}},\n \"And for that reason, it takes a bit of time because basically there's a lot of process to analyze and find out what is the most likely dictionary form of that word. On the other hand, the way stemming works, right, is that you have a set of rules which says, oh, if this things ends with an S, cut the S, if you end with E S, cut the E S, and then switch to the next step, and then if there is two M's, remove one M, so there's a bunch of rules which acts at a character level so it just looks at a set of characters and applies a set of rules to transform it and get you something which hopefully is the close to the dictionary form. to something of that word. the next question of the process of the process uses the engineering form, well, will be used to the dictionary form. a process users that need to learn well-to-value is something that you can be quiet. Saving time. Sometimes you don't care if you make like, if 5% of your thing making mistake because you can process twice as much data in the same amount of time.\": {'bart_unknown': {'precision': [0.662648618221283],\n   'recall': [0.6696527004241943],\n   'f1': [0.6661322116851807],\n   'hashcode': 'microsoft/deberta-xlarge-mnli_L40_no-idf_version=0.3.12(hug_trans=4.35.2)'},\n  'bart_discord': {'precision': [0.6002217531204224],\n   'recall': [0.6675638556480408],\n   'f1': [0.6321043372154236],\n   'hashcode': 'microsoft/deberta-xlarge-mnli_L40_no-idf_version=0.3.12(hug_trans=4.35.2)'},\n  'bart_nq': {'precision': [0.6930662989616394],\n   'recall': [0.7442096471786499],\n   'f1': [0.7177280783653259],\n   'hashcode': 'microsoft/deberta-xlarge-mnli_L40_no-idf_version=0.3.12(hug_trans=4.35.2)'},\n  'bart_eqg': {'precision': [0.5884532928466797],\n   'recall': [0.6457172632217407],\n   'f1': [0.6157568097114563],\n   'hashcode': 'microsoft/deberta-xlarge-mnli_L40_no-idf_version=0.3.12(hug_trans=4.35.2)'}}}"
     },
     "execution_count": 178,
     "metadata": {},
     "output_type": "execute_result"
    }
   ],
   "source": [
    "def evaluate_contexts_all_metrics(chunks):\n",
    "    bertscore = evaluate.load(\"bertscore\")\n",
    "    reference_chunks = gen_reference_questions(time_chunks)\n",
    "    output = {}\n",
    "    \n",
    "    for context in chunks:\n",
    "        references = reference_chunks[context]\n",
    "        if len(references) == 0:\n",
    "            continue\n",
    "    \n",
    "        models = chunks[context]\n",
    "        output[context] = {}\n",
    "\n",
    "        for model in models:\n",
    "            predictions = [models[model]]\n",
    "            results = bertscore.compute(\n",
    "                references=references, \n",
    "                predictions=predictions, \n",
    "                model_type=\"microsoft/deberta-xlarge-mnli\"\n",
    "            )\n",
    "            output[context][model] = results\n",
    "                \n",
    "\n",
    "    return output\n",
    "\n",
    "\n",
    "eval_scores = evaluate_contexts_all_metrics(chunks_by_model)\n",
    "eval_scores"
   ],
   "metadata": {
    "collapsed": false,
    "ExecuteTime": {
     "end_time": "2023-12-05T17:43:59.675356700Z",
     "start_time": "2023-12-05T17:42:24.521954400Z"
    }
   },
   "id": "a06f3d58a331539"
  },
  {
   "cell_type": "code",
   "execution_count": 179,
   "outputs": [
    {
     "data": {
      "text/plain": "defaultdict(dict,\n            {'bart_unknown': {'avg_precision': 0.6704072753588358,\n              'std_precision': 0.09123015142290129,\n              'avg_recall': 0.6581563018262386,\n              'std_recall': 0.10482218957264981,\n              'avg_f1': 0.6622983440756798,\n              'std_f1': 0.09231322315710999},\n             'bart_discord': {'avg_precision': 0.7442718942960104,\n              'std_precision': 0.11588179673883213,\n              'avg_recall': 0.7237076982855797,\n              'std_recall': 0.11921076847362633,\n              'avg_f1': 0.7324004024267197,\n              'std_f1': 0.11381237276421909},\n             'bart_nq': {'avg_precision': 0.6297566716869673,\n              'std_precision': 0.08921470427139838,\n              'avg_recall': 0.6543075169126192,\n              'std_recall': 0.08897197711891967,\n              'avg_f1': 0.6398111867407957,\n              'std_f1': 0.08082166144996884},\n             'bart_eqg': {'avg_precision': 0.6997241452336311,\n              'std_precision': 0.09772949037275948,\n              'avg_recall': 0.6909971336523691,\n              'std_recall': 0.10780790974680098,\n              'avg_f1': 0.6935780122876167,\n              'std_f1': 0.09761241093881748}})"
     },
     "execution_count": 179,
     "metadata": {},
     "output_type": "execute_result"
    }
   ],
   "source": [
    "from collections import defaultdict\n",
    "import statistics\n",
    "\n",
    "def calculate_avg_std_evaluation(chunks):\n",
    "    precision_by_model = defaultdict(list)\n",
    "    f1_by_model = defaultdict(list)\n",
    "    recall_by_model = defaultdict(list)\n",
    "\n",
    "    for context in chunks:\n",
    "        models = chunks[context]\n",
    "        for model in models:\n",
    "            metrics = models[model]\n",
    "            precision_by_model[model].append(metrics['precision'][0])\n",
    "            f1_by_model[model].append(metrics['f1'][0])\n",
    "            recall_by_model[model].append(metrics['recall'][0])\n",
    "    \n",
    "    stats_by_model = defaultdict(dict)\n",
    "    for model in precision_by_model:\n",
    "        precision_avg = sum(precision_by_model[model]) / len(precision_by_model[model])\n",
    "        precision_std = statistics.stdev(precision_by_model[model])\n",
    "        recall_avg = sum(recall_by_model[model]) / len(recall_by_model[model])\n",
    "        recall_std = statistics.stdev(recall_by_model[model])\n",
    "        f1_avg = sum(f1_by_model[model]) / len(f1_by_model[model])\n",
    "        f1_std = statistics.stdev(f1_by_model[model])\n",
    "\n",
    "        stats_by_model[model] = {\n",
    "            'avg_precision': precision_avg,\n",
    "            'std_precision': precision_std,\n",
    "            'avg_recall': recall_avg,\n",
    "            'std_recall': recall_std,\n",
    "            'avg_f1': f1_avg,\n",
    "            'std_f1': f1_std\n",
    "        }\n",
    "        \n",
    "    return stats_by_model\n",
    "\n",
    "average_eval_scores = calculate_avg_std_evaluation(eval_scores)\n",
    "average_eval_scores"
   ],
   "metadata": {
    "collapsed": false,
    "ExecuteTime": {
     "end_time": "2023-12-05T17:43:59.796735900Z",
     "start_time": "2023-12-05T17:43:59.683353600Z"
    }
   },
   "id": "3cb2fd3dca0b432f"
  },
  {
   "cell_type": "code",
   "execution_count": 180,
   "outputs": [
    {
     "name": "stdout",
     "output_type": "stream",
     "text": [
      "Model: bart_discord\n",
      "F1 Score - Average and standard deviation: (0.732 ± 0.114)\n",
      "Precision - Average and standard deviation: (0.744 ± 0.116)\n",
      "Recall - Average and standard deviation: (0.724 ± 0.119)\n",
      "------------------------------------------------------------\n",
      "Model: bart_eqg\n",
      "F1 Score - Average and standard deviation: (0.694 ± 0.098)\n",
      "Precision - Average and standard deviation: (0.700 ± 0.098)\n",
      "Recall - Average and standard deviation: (0.691 ± 0.108)\n",
      "------------------------------------------------------------\n",
      "Model: bart_unknown\n",
      "F1 Score - Average and standard deviation: (0.662 ± 0.092)\n",
      "Precision - Average and standard deviation: (0.670 ± 0.091)\n",
      "Recall - Average and standard deviation: (0.658 ± 0.105)\n",
      "------------------------------------------------------------\n",
      "Model: bart_nq\n",
      "F1 Score - Average and standard deviation: (0.640 ± 0.081)\n",
      "Precision - Average and standard deviation: (0.630 ± 0.089)\n",
      "Recall - Average and standard deviation: (0.654 ± 0.089)\n",
      "------------------------------------------------------------\n"
     ]
    }
   ],
   "source": [
    "sorted_models = sorted(average_eval_scores.items(), key=lambda x: x[1]['avg_f1'], reverse=True)\n",
    "\n",
    "for model, stats in sorted_models:\n",
    "    print(f\"Model: {model}\")\n",
    "    print(f\"F1 Score - Average and standard deviation: ({stats['avg_f1']:.3f} ± {stats['std_f1']:.3f})\")\n",
    "    print(f\"Precision - Average and standard deviation: ({stats['avg_precision']:.3f} ± {stats['std_precision']:.3f})\")\n",
    "    print(f\"Recall - Average and standard deviation: ({stats['avg_recall']:.3f} ± {stats['std_recall']:.3f})\")\n",
    "    print(\"-\" * 60)"
   ],
   "metadata": {
    "collapsed": false,
    "ExecuteTime": {
     "end_time": "2023-12-05T17:43:59.796735900Z",
     "start_time": "2023-12-05T17:43:59.715583300Z"
    }
   },
   "id": "fcfb85a63a840e6b"
  },
  {
   "cell_type": "code",
   "execution_count": 183,
   "outputs": [
    {
     "data": {
      "text/plain": "['What is natural language processing?',\n 'What did the field of natural language processing try to merge insights from?',\n 'What does NLP do?',\n 'What are the stats from two years ago?',\n 'What does natural language generis and systems do?',\n 'What were the classical machine learning algorithms?',\n 'What did Kaggle do?',\n 'What are the most common uses of summarization?',\n 'What does the pre-processing pipeline look like?',\n 'What does tokenization do?',\n 'What does part of speech mean?',\n 'What does the grammatical context do?',\n 'What is the goal of standardization?',\n 'What does leimatization do?',\n 'What is the last step?',\n 'What do we filter words by?',\n 'What was the name of the paper?',\n 'What will happen when the process uses the engineering form?']"
     },
     "execution_count": 183,
     "metadata": {},
     "output_type": "execute_result"
    }
   ],
   "source": [
    "indexes_to_remove = [1, 2, 3, 8, 9, 12, 14, 15, 16, 17, 18, 28, 29, 30, 31, 33, 34]\n",
    "bart_discord_questions = list(models_questions['bart_discord'].values())\n",
    "bart_discord_questions = [element for i, element in enumerate(bart_discord_questions) if i not in indexes_to_remove]\n",
    "bart_discord_questions"
   ],
   "metadata": {
    "collapsed": false,
    "ExecuteTime": {
     "end_time": "2023-12-05T17:52:32.991064700Z",
     "start_time": "2023-12-05T17:52:32.928059900Z"
    }
   },
   "id": "c648f6316875f2ed"
  },
  {
   "cell_type": "code",
   "execution_count": 186,
   "outputs": [
    {
     "data": {
      "text/plain": "['What is the purpose of the natural language processing lecture',\n 'What is the difference between natural language and artificial language',\n 'What is the meaning of natural language understanding',\n 'What is the purpose of english wikipedia',\n 'What is the purpose of a chatbot',\n 'What is the difference between classical and classical machine learning',\n 'What is the difference between kaggle and deep learning',\n 'What is the meaning of question answering in siri',\n 'What is the purpose of the pre-processing pipeline',\n 'What is the meaning of tokenization in poetry',\n 'What is the difference between dore and cat check',\n 'What is the meaning of dogs in speech',\n 'What does it mean to add inflection to a sentence',\n 'What is the difference between stemming and stemming',\n 'What are the stop words in nfp model',\n 'What is the difference between big ben and empire state building',\n 'What is the meaning of unigrams in math',\n 'What is the purpose of stemming in java']"
     },
     "execution_count": 186,
     "metadata": {},
     "output_type": "execute_result"
    }
   ],
   "source": [
    "indexes_to_remove = [1, 2, 3, 8, 9, 12, 14, 15, 16, 17, 18, 28, 29, 30, 31, 33, 34]\n",
    "bart_discord_questions = list(models_questions['bart_nq'].values())\n",
    "bart_discord_questions = [element for i, element in enumerate(bart_discord_questions) if i not in indexes_to_remove]\n",
    "bart_discord_questions"
   ],
   "metadata": {
    "collapsed": false,
    "ExecuteTime": {
     "end_time": "2023-12-05T17:56:17.031913300Z",
     "start_time": "2023-12-05T17:56:16.985260Z"
    }
   },
   "id": "5ed1ad1784e2bbb4"
  },
  {
   "cell_type": "code",
   "execution_count": 182,
   "outputs": [],
   "source": [],
   "metadata": {
    "collapsed": false,
    "ExecuteTime": {
     "end_time": "2023-12-05T17:43:59.796735900Z",
     "start_time": "2023-12-05T17:43:59.788481300Z"
    }
   },
   "id": "c914372bd3dd4a48"
  }
 ],
 "metadata": {
  "kernelspec": {
   "display_name": "Python 3",
   "language": "python",
   "name": "python3"
  },
  "language_info": {
   "codemirror_mode": {
    "name": "ipython",
    "version": 2
   },
   "file_extension": ".py",
   "mimetype": "text/x-python",
   "name": "python",
   "nbconvert_exporter": "python",
   "pygments_lexer": "ipython2",
   "version": "2.7.6"
  }
 },
 "nbformat": 4,
 "nbformat_minor": 5
}
