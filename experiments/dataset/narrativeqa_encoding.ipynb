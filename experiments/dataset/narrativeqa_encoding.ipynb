{
 "cells": [
  {
   "cell_type": "code",
   "execution_count": 32,
   "id": "f956d759-d50d-4028-8b48-609805a52c6d",
   "metadata": {},
   "outputs": [],
   "source": [
    "from datasets import load_dataset, concatenate_datasets"
   ]
  },
  {
   "cell_type": "code",
   "execution_count": 10,
   "id": "1a628e51-99f4-48ff-9754-6a55a51ccb8b",
   "metadata": {},
   "outputs": [],
   "source": [
    "def normalise(data):\n",
    "    # Lowercase the text\n",
    "    data[\"source\"] = data[\"source\"].lower()\n",
    "    data[\"target\"] = data[\"target\"].lower()\n",
    "\n",
    "    # Remove new line characters\n",
    "    data[\"source\"] = data[\"source\"].replace(\"\\n\", \" \")\n",
    "\n",
    "    return data\n"
   ]
  },
  {
   "cell_type": "code",
   "execution_count": 11,
   "id": "89718f8e-6e23-4e12-9791-7f8b0244ffa4",
   "metadata": {},
   "outputs": [
    {
     "data": {
      "application/vnd.jupyter.widget-view+json": {
       "model_id": "332101a7c9424e0493dd266cd794fece",
       "version_major": 2,
       "version_minor": 0
      },
      "text/plain": [
       "Map:   0%|          | 0/32747 [00:00<?, ? examples/s]"
      ]
     },
     "metadata": {},
     "output_type": "display_data"
    },
    {
     "data": {
      "application/vnd.jupyter.widget-view+json": {
       "model_id": "bae0c2704bc649af88bb7d68c20a38fc",
       "version_major": 2,
       "version_minor": 0
      },
      "text/plain": [
       "Map:   0%|          | 0/10557 [00:00<?, ? examples/s]"
      ]
     },
     "metadata": {},
     "output_type": "display_data"
    },
    {
     "data": {
      "application/vnd.jupyter.widget-view+json": {
       "model_id": "b039e782e0754224afa2987d6d251e01",
       "version_major": 2,
       "version_minor": 0
      },
      "text/plain": [
       "Map:   0%|          | 0/3461 [00:00<?, ? examples/s]"
      ]
     },
     "metadata": {},
     "output_type": "display_data"
    }
   ],
   "source": [
    "narrative_data = (\n",
    "    load_dataset(\"narrativeqa\", trust_remote_code=True)\n",
    "    .select_columns([\"document\", \"question\"])\n",
    "    .map(\n",
    "        lambda x: {\n",
    "            \"document\": x[\"document\"][\"summary\"][\"text\"],\n",
    "            \"question\": x[\"question\"][\"text\"],\n",
    "        }\n",
    "    )\n",
    "    .rename_columns({\"document\": \"source\", \"question\": \"target\"})\n",
    "    .map(normalise)\n",
    ")"
   ]
  },
  {
   "cell_type": "markdown",
   "id": "c59b44f1-83af-4111-b1df-9259c0efc1f0",
   "metadata": {},
   "source": [
    "## Observed character encoding issues\n",
    "- â\n",
    "- â â\n",
    "- â\n",
    "- â\n",
    "- â\n",
    "- â\n",
    "- â˛\n",
    "- ă\n",
    "- âł\n",
    "- â\n",
    "- ĺ\n",
    "\n",
    "In total, there are 11 instances of encoding issues in the NarrativeQA summaries."
   ]
  },
  {
   "cell_type": "code",
   "execution_count": 12,
   "id": "e2f9190f-4c0e-4830-ab5d-7fea2bccdf1d",
   "metadata": {},
   "outputs": [
    {
     "data": {
      "application/vnd.jupyter.widget-view+json": {
       "model_id": "454362486caa4732bce9711f47120b4a",
       "version_major": 2,
       "version_minor": 0
      },
      "text/plain": [
       "Filter:   0%|          | 0/32747 [00:00<?, ? examples/s]"
      ]
     },
     "metadata": {},
     "output_type": "display_data"
    },
    {
     "data": {
      "application/vnd.jupyter.widget-view+json": {
       "model_id": "6ca3edc35ca44a399289b0a3b5238468",
       "version_major": 2,
       "version_minor": 0
      },
      "text/plain": [
       "Filter:   0%|          | 0/10557 [00:00<?, ? examples/s]"
      ]
     },
     "metadata": {},
     "output_type": "display_data"
    },
    {
     "data": {
      "application/vnd.jupyter.widget-view+json": {
       "model_id": "cbf15016aabd43cb8f100fcda5455ba5",
       "version_major": 2,
       "version_minor": 0
      },
      "text/plain": [
       "Filter:   0%|          | 0/3461 [00:00<?, ? examples/s]"
      ]
     },
     "metadata": {},
     "output_type": "display_data"
    },
    {
     "data": {
      "text/plain": [
       "DatasetDict({\n",
       "    train: Dataset({\n",
       "        features: ['source', 'target'],\n",
       "        num_rows: 3371\n",
       "    })\n",
       "    test: Dataset({\n",
       "        features: ['source', 'target'],\n",
       "        num_rows: 1085\n",
       "    })\n",
       "    validation: Dataset({\n",
       "        features: ['source', 'target'],\n",
       "        num_rows: 276\n",
       "    })\n",
       "})"
      ]
     },
     "execution_count": 12,
     "metadata": {},
     "output_type": "execute_result"
    }
   ],
   "source": [
    "issue_1 = narrative_data.filter(lambda x: \"â\" in x[\"source\"])\n",
    "issue_1"
   ]
  },
  {
   "cell_type": "code",
   "execution_count": 13,
   "id": "972f91dc-c38e-42f9-83ce-641bf03566af",
   "metadata": {},
   "outputs": [
    {
     "data": {
      "application/vnd.jupyter.widget-view+json": {
       "model_id": "9ebece3b5d3d42f2b059779d92cd54ac",
       "version_major": 2,
       "version_minor": 0
      },
      "text/plain": [
       "Filter:   0%|          | 0/32747 [00:00<?, ? examples/s]"
      ]
     },
     "metadata": {},
     "output_type": "display_data"
    },
    {
     "data": {
      "application/vnd.jupyter.widget-view+json": {
       "model_id": "e20e03435a7f41bea0141f3ed0dc17dc",
       "version_major": 2,
       "version_minor": 0
      },
      "text/plain": [
       "Filter:   0%|          | 0/10557 [00:00<?, ? examples/s]"
      ]
     },
     "metadata": {},
     "output_type": "display_data"
    },
    {
     "data": {
      "application/vnd.jupyter.widget-view+json": {
       "model_id": "a8ee29d05d1d48d48ae1d74bb8178bee",
       "version_major": 2,
       "version_minor": 0
      },
      "text/plain": [
       "Filter:   0%|          | 0/3461 [00:00<?, ? examples/s]"
      ]
     },
     "metadata": {},
     "output_type": "display_data"
    },
    {
     "data": {
      "text/plain": [
       "DatasetDict({\n",
       "    train: Dataset({\n",
       "        features: ['source', 'target'],\n",
       "        num_rows: 89\n",
       "    })\n",
       "    test: Dataset({\n",
       "        features: ['source', 'target'],\n",
       "        num_rows: 58\n",
       "    })\n",
       "    validation: Dataset({\n",
       "        features: ['source', 'target'],\n",
       "        num_rows: 0\n",
       "    })\n",
       "})"
      ]
     },
     "execution_count": 13,
     "metadata": {},
     "output_type": "execute_result"
    }
   ],
   "source": [
    "issue_2 = narrative_data.filter(lambda x: \"â â\" in x[\"source\"])\n",
    "issue_2"
   ]
  },
  {
   "cell_type": "code",
   "execution_count": 29,
   "id": "c57bb3e4-6622-4baf-a9dc-a77f4b435b9a",
   "metadata": {},
   "outputs": [
    {
     "data": {
      "application/vnd.jupyter.widget-view+json": {
       "model_id": "d92fb88368364fdaaaa6e2bbf76d1976",
       "version_major": 2,
       "version_minor": 0
      },
      "text/plain": [
       "Filter:   0%|          | 0/32747 [00:00<?, ? examples/s]"
      ]
     },
     "metadata": {},
     "output_type": "display_data"
    },
    {
     "data": {
      "application/vnd.jupyter.widget-view+json": {
       "model_id": "b8853a2b6d074ad1b734fcc8e6ff6e55",
       "version_major": 2,
       "version_minor": 0
      },
      "text/plain": [
       "Filter:   0%|          | 0/10557 [00:00<?, ? examples/s]"
      ]
     },
     "metadata": {},
     "output_type": "display_data"
    },
    {
     "data": {
      "application/vnd.jupyter.widget-view+json": {
       "model_id": "a0d5a463a5504ffc92c563193f2b9e0e",
       "version_major": 2,
       "version_minor": 0
      },
      "text/plain": [
       "Filter:   0%|          | 0/3461 [00:00<?, ? examples/s]"
      ]
     },
     "metadata": {},
     "output_type": "display_data"
    },
    {
     "data": {
      "text/plain": [
       "DatasetDict({\n",
       "    train: Dataset({\n",
       "        features: ['source', 'target'],\n",
       "        num_rows: 1932\n",
       "    })\n",
       "    test: Dataset({\n",
       "        features: ['source', 'target'],\n",
       "        num_rows: 627\n",
       "    })\n",
       "    validation: Dataset({\n",
       "        features: ['source', 'target'],\n",
       "        num_rows: 235\n",
       "    })\n",
       "})"
      ]
     },
     "execution_count": 29,
     "metadata": {},
     "output_type": "execute_result"
    }
   ],
   "source": [
    "issue_3 = narrative_data.filter(lambda x: \"â\" in x[\"source\"])\n",
    "issue_3"
   ]
  },
  {
   "cell_type": "code",
   "execution_count": 17,
   "id": "5d9748ee-869d-44b9-9b79-5b965572f747",
   "metadata": {},
   "outputs": [
    {
     "data": {
      "application/vnd.jupyter.widget-view+json": {
       "model_id": "3a6c21bd2307424dafdaecbf452326c6",
       "version_major": 2,
       "version_minor": 0
      },
      "text/plain": [
       "Filter:   0%|          | 0/32747 [00:00<?, ? examples/s]"
      ]
     },
     "metadata": {},
     "output_type": "display_data"
    },
    {
     "data": {
      "application/vnd.jupyter.widget-view+json": {
       "model_id": "578d7e08998e460ca056403e84b77826",
       "version_major": 2,
       "version_minor": 0
      },
      "text/plain": [
       "Filter:   0%|          | 0/10557 [00:00<?, ? examples/s]"
      ]
     },
     "metadata": {},
     "output_type": "display_data"
    },
    {
     "data": {
      "application/vnd.jupyter.widget-view+json": {
       "model_id": "81c1a8709e474bb4a5b727bd8c765012",
       "version_major": 2,
       "version_minor": 0
      },
      "text/plain": [
       "Filter:   0%|          | 0/3461 [00:00<?, ? examples/s]"
      ]
     },
     "metadata": {},
     "output_type": "display_data"
    },
    {
     "data": {
      "text/plain": [
       "DatasetDict({\n",
       "    train: Dataset({\n",
       "        features: ['source', 'target'],\n",
       "        num_rows: 1088\n",
       "    })\n",
       "    test: Dataset({\n",
       "        features: ['source', 'target'],\n",
       "        num_rows: 233\n",
       "    })\n",
       "    validation: Dataset({\n",
       "        features: ['source', 'target'],\n",
       "        num_rows: 59\n",
       "    })\n",
       "})"
      ]
     },
     "execution_count": 17,
     "metadata": {},
     "output_type": "execute_result"
    }
   ],
   "source": [
    "issue_4 = narrative_data.filter(lambda x: \"â\" in x[\"source\"])\n",
    "issue_4"
   ]
  },
  {
   "cell_type": "code",
   "execution_count": 19,
   "id": "983fdba3-1747-4e9e-b440-1235cb99bd1c",
   "metadata": {},
   "outputs": [
    {
     "data": {
      "text/plain": [
       "DatasetDict({\n",
       "    train: Dataset({\n",
       "        features: ['source', 'target'],\n",
       "        num_rows: 148\n",
       "    })\n",
       "    test: Dataset({\n",
       "        features: ['source', 'target'],\n",
       "        num_rows: 119\n",
       "    })\n",
       "    validation: Dataset({\n",
       "        features: ['source', 'target'],\n",
       "        num_rows: 0\n",
       "    })\n",
       "})"
      ]
     },
     "execution_count": 19,
     "metadata": {},
     "output_type": "execute_result"
    }
   ],
   "source": [
    "issue_5 = narrative_data.filter(lambda x: \"â\" in x[\"source\"])\n",
    "issue_5"
   ]
  },
  {
   "cell_type": "code",
   "execution_count": 20,
   "id": "75e8da66-0874-46f4-832c-1c9545eaf703",
   "metadata": {},
   "outputs": [
    {
     "data": {
      "application/vnd.jupyter.widget-view+json": {
       "model_id": "a7eb8cea0fbe4b0aa81b030a6e932c61",
       "version_major": 2,
       "version_minor": 0
      },
      "text/plain": [
       "Filter:   0%|          | 0/32747 [00:00<?, ? examples/s]"
      ]
     },
     "metadata": {},
     "output_type": "display_data"
    },
    {
     "data": {
      "application/vnd.jupyter.widget-view+json": {
       "model_id": "b206416dbbcc416aae63bdeb3f91061a",
       "version_major": 2,
       "version_minor": 0
      },
      "text/plain": [
       "Filter:   0%|          | 0/10557 [00:00<?, ? examples/s]"
      ]
     },
     "metadata": {},
     "output_type": "display_data"
    },
    {
     "data": {
      "application/vnd.jupyter.widget-view+json": {
       "model_id": "bf1f8d90136d4f16afed1a7926688ea7",
       "version_major": 2,
       "version_minor": 0
      },
      "text/plain": [
       "Filter:   0%|          | 0/3461 [00:00<?, ? examples/s]"
      ]
     },
     "metadata": {},
     "output_type": "display_data"
    },
    {
     "data": {
      "text/plain": [
       "DatasetDict({\n",
       "    train: Dataset({\n",
       "        features: ['source', 'target'],\n",
       "        num_rows: 145\n",
       "    })\n",
       "    test: Dataset({\n",
       "        features: ['source', 'target'],\n",
       "        num_rows: 90\n",
       "    })\n",
       "    validation: Dataset({\n",
       "        features: ['source', 'target'],\n",
       "        num_rows: 0\n",
       "    })\n",
       "})"
      ]
     },
     "execution_count": 20,
     "metadata": {},
     "output_type": "execute_result"
    }
   ],
   "source": [
    "issue_6 = narrative_data.filter(lambda x: \"â\" in x[\"source\"])\n",
    "issue_6"
   ]
  },
  {
   "cell_type": "code",
   "execution_count": 21,
   "id": "ceac47a7-905b-40a2-a83c-03eacd57f46c",
   "metadata": {},
   "outputs": [
    {
     "data": {
      "application/vnd.jupyter.widget-view+json": {
       "model_id": "3c8550f29f9741ce95be66cb953c5246",
       "version_major": 2,
       "version_minor": 0
      },
      "text/plain": [
       "Filter:   0%|          | 0/32747 [00:00<?, ? examples/s]"
      ]
     },
     "metadata": {},
     "output_type": "display_data"
    },
    {
     "data": {
      "application/vnd.jupyter.widget-view+json": {
       "model_id": "8aad963cf7ee43288d8b1d07d2dc0ef2",
       "version_major": 2,
       "version_minor": 0
      },
      "text/plain": [
       "Filter:   0%|          | 0/10557 [00:00<?, ? examples/s]"
      ]
     },
     "metadata": {},
     "output_type": "display_data"
    },
    {
     "data": {
      "application/vnd.jupyter.widget-view+json": {
       "model_id": "d1832316d23c4726a67072b7246e4c38",
       "version_major": 2,
       "version_minor": 0
      },
      "text/plain": [
       "Filter:   0%|          | 0/3461 [00:00<?, ? examples/s]"
      ]
     },
     "metadata": {},
     "output_type": "display_data"
    },
    {
     "data": {
      "text/plain": [
       "DatasetDict({\n",
       "    train: Dataset({\n",
       "        features: ['source', 'target'],\n",
       "        num_rows: 30\n",
       "    })\n",
       "    test: Dataset({\n",
       "        features: ['source', 'target'],\n",
       "        num_rows: 0\n",
       "    })\n",
       "    validation: Dataset({\n",
       "        features: ['source', 'target'],\n",
       "        num_rows: 0\n",
       "    })\n",
       "})"
      ]
     },
     "execution_count": 21,
     "metadata": {},
     "output_type": "execute_result"
    }
   ],
   "source": [
    "issue_7 = narrative_data.filter(lambda x: \"â˛\" in x[\"source\"])\n",
    "issue_7"
   ]
  },
  {
   "cell_type": "code",
   "execution_count": 22,
   "id": "6dee4974-03cf-4572-8a50-f374f69f3c06",
   "metadata": {},
   "outputs": [
    {
     "data": {
      "application/vnd.jupyter.widget-view+json": {
       "model_id": "866fd1f449e04c95858b092e3b7edaf3",
       "version_major": 2,
       "version_minor": 0
      },
      "text/plain": [
       "Filter:   0%|          | 0/32747 [00:00<?, ? examples/s]"
      ]
     },
     "metadata": {},
     "output_type": "display_data"
    },
    {
     "data": {
      "application/vnd.jupyter.widget-view+json": {
       "model_id": "94b9e0f05152421aa876f9b8d152bbf7",
       "version_major": 2,
       "version_minor": 0
      },
      "text/plain": [
       "Filter:   0%|          | 0/10557 [00:00<?, ? examples/s]"
      ]
     },
     "metadata": {},
     "output_type": "display_data"
    },
    {
     "data": {
      "application/vnd.jupyter.widget-view+json": {
       "model_id": "2c426c43a088460da944ab9b304409e8",
       "version_major": 2,
       "version_minor": 0
      },
      "text/plain": [
       "Filter:   0%|          | 0/3461 [00:00<?, ? examples/s]"
      ]
     },
     "metadata": {},
     "output_type": "display_data"
    },
    {
     "data": {
      "text/plain": [
       "DatasetDict({\n",
       "    train: Dataset({\n",
       "        features: ['source', 'target'],\n",
       "        num_rows: 0\n",
       "    })\n",
       "    test: Dataset({\n",
       "        features: ['source', 'target'],\n",
       "        num_rows: 60\n",
       "    })\n",
       "    validation: Dataset({\n",
       "        features: ['source', 'target'],\n",
       "        num_rows: 0\n",
       "    })\n",
       "})"
      ]
     },
     "execution_count": 22,
     "metadata": {},
     "output_type": "execute_result"
    }
   ],
   "source": [
    "issue_8 = narrative_data.filter(lambda x: \"ă\" in x[\"source\"])\n",
    "issue_8"
   ]
  },
  {
   "cell_type": "code",
   "execution_count": 23,
   "id": "8a68ac68-c445-4c45-8f9d-1786262ff303",
   "metadata": {},
   "outputs": [
    {
     "data": {
      "application/vnd.jupyter.widget-view+json": {
       "model_id": "0dd73ec8c874454e83a32212b657a9d4",
       "version_major": 2,
       "version_minor": 0
      },
      "text/plain": [
       "Filter:   0%|          | 0/32747 [00:00<?, ? examples/s]"
      ]
     },
     "metadata": {},
     "output_type": "display_data"
    },
    {
     "data": {
      "application/vnd.jupyter.widget-view+json": {
       "model_id": "91fa0e3bfc42499a9ce45ef811ad2aa6",
       "version_major": 2,
       "version_minor": 0
      },
      "text/plain": [
       "Filter:   0%|          | 0/10557 [00:00<?, ? examples/s]"
      ]
     },
     "metadata": {},
     "output_type": "display_data"
    },
    {
     "data": {
      "application/vnd.jupyter.widget-view+json": {
       "model_id": "6ff5a4ee73b74b6b8175a28f290de1aa",
       "version_major": 2,
       "version_minor": 0
      },
      "text/plain": [
       "Filter:   0%|          | 0/3461 [00:00<?, ? examples/s]"
      ]
     },
     "metadata": {},
     "output_type": "display_data"
    },
    {
     "data": {
      "text/plain": [
       "DatasetDict({\n",
       "    train: Dataset({\n",
       "        features: ['source', 'target'],\n",
       "        num_rows: 491\n",
       "    })\n",
       "    test: Dataset({\n",
       "        features: ['source', 'target'],\n",
       "        num_rows: 89\n",
       "    })\n",
       "    validation: Dataset({\n",
       "        features: ['source', 'target'],\n",
       "        num_rows: 60\n",
       "    })\n",
       "})"
      ]
     },
     "execution_count": 23,
     "metadata": {},
     "output_type": "execute_result"
    }
   ],
   "source": [
    "issue_9 = narrative_data.filter(lambda x: \"âł\" in x[\"source\"])\n",
    "issue_9"
   ]
  },
  {
   "cell_type": "code",
   "execution_count": 41,
   "id": "67cd5356-8f9e-406e-9ef5-86c4d1cefc1f",
   "metadata": {},
   "outputs": [
    {
     "data": {
      "application/vnd.jupyter.widget-view+json": {
       "model_id": "62303e63a44e4b03984ca252dc80a09b",
       "version_major": 2,
       "version_minor": 0
      },
      "text/plain": [
       "Filter:   0%|          | 0/32747 [00:00<?, ? examples/s]"
      ]
     },
     "metadata": {},
     "output_type": "display_data"
    },
    {
     "data": {
      "application/vnd.jupyter.widget-view+json": {
       "model_id": "73b1c72bc99e483a916608f3f9b8d62d",
       "version_major": 2,
       "version_minor": 0
      },
      "text/plain": [
       "Filter:   0%|          | 0/10557 [00:00<?, ? examples/s]"
      ]
     },
     "metadata": {},
     "output_type": "display_data"
    },
    {
     "data": {
      "application/vnd.jupyter.widget-view+json": {
       "model_id": "c2d6c59a99d64981aca237c7662ed177",
       "version_major": 2,
       "version_minor": 0
      },
      "text/plain": [
       "Filter:   0%|          | 0/3461 [00:00<?, ? examples/s]"
      ]
     },
     "metadata": {},
     "output_type": "display_data"
    },
    {
     "data": {
      "text/plain": [
       "DatasetDict({\n",
       "    train: Dataset({\n",
       "        features: ['source', 'target'],\n",
       "        num_rows: 0\n",
       "    })\n",
       "    test: Dataset({\n",
       "        features: ['source', 'target'],\n",
       "        num_rows: 30\n",
       "    })\n",
       "    validation: Dataset({\n",
       "        features: ['source', 'target'],\n",
       "        num_rows: 0\n",
       "    })\n",
       "})"
      ]
     },
     "execution_count": 41,
     "metadata": {},
     "output_type": "execute_result"
    }
   ],
   "source": [
    "issue_10 = narrative_data.filter(lambda x: \"â\" in x[\"source\"])\n",
    "issue_10"
   ]
  },
  {
   "cell_type": "code",
   "execution_count": 43,
   "id": "bb8f2bd6-d384-4cb4-8a93-e1796b226a5f",
   "metadata": {},
   "outputs": [
    {
     "data": {
      "application/vnd.jupyter.widget-view+json": {
       "model_id": "264252152ace492fbc291cb650f56d79",
       "version_major": 2,
       "version_minor": 0
      },
      "text/plain": [
       "Filter:   0%|          | 0/32747 [00:00<?, ? examples/s]"
      ]
     },
     "metadata": {},
     "output_type": "display_data"
    },
    {
     "data": {
      "application/vnd.jupyter.widget-view+json": {
       "model_id": "70a61bfbf4244da8a8f5e68479aa2061",
       "version_major": 2,
       "version_minor": 0
      },
      "text/plain": [
       "Filter:   0%|          | 0/10557 [00:00<?, ? examples/s]"
      ]
     },
     "metadata": {},
     "output_type": "display_data"
    },
    {
     "data": {
      "application/vnd.jupyter.widget-view+json": {
       "model_id": "2e2542e010b8489db615c7c1a97fefc8",
       "version_major": 2,
       "version_minor": 0
      },
      "text/plain": [
       "Filter:   0%|          | 0/3461 [00:00<?, ? examples/s]"
      ]
     },
     "metadata": {},
     "output_type": "display_data"
    },
    {
     "data": {
      "text/plain": [
       "DatasetDict({\n",
       "    train: Dataset({\n",
       "        features: ['source', 'target'],\n",
       "        num_rows: 60\n",
       "    })\n",
       "    test: Dataset({\n",
       "        features: ['source', 'target'],\n",
       "        num_rows: 29\n",
       "    })\n",
       "    validation: Dataset({\n",
       "        features: ['source', 'target'],\n",
       "        num_rows: 0\n",
       "    })\n",
       "})"
      ]
     },
     "execution_count": 43,
     "metadata": {},
     "output_type": "execute_result"
    }
   ],
   "source": [
    "issue_11 = narrative_data.filter(lambda x: \"ĺ\" in x[\"source\"])\n",
    "issue_11"
   ]
  },
  {
   "cell_type": "code",
   "execution_count": 49,
   "id": "70220243-3de2-4830-8460-794ca39840e3",
   "metadata": {},
   "outputs": [
    {
     "name": "stdout",
     "output_type": "stream",
     "text": [
      "Issue 1:\n",
      "\n",
      " he assembles six men from his companyât/sgt.\n",
      " mason contacts o'malley, who supplies him with weapons and tells him that his son is still aliveâo'malley adopted mason's son and sent him to a private school so that he would be out of danger.\n",
      " working for different companies, the \"tin men\" are prepared to do almost anythingâlegal or illegalâto close a sale.\n",
      "\n",
      "\n",
      "Issue 2:\n",
      "\n",
      " ash eventually finds the real one and attempts to say the magic phrase that will allow him to remove the book safelyâ â \"klaatu barada nikto\".\n",
      " there is still left the consolation that a happy end would come for humanity as a wholeâ â though hundreds of years too late for avis and ernest as individuals; the cruel oligarchy would fall, and the two will be vindicated and respected by posterity as pioneers and martyrs.\n",
      " ash eventually finds the real one and attempts to say the magic phrase that will allow him to remove the book safelyâ â \"klaatu barada nikto\".\n",
      "\n",
      "\n",
      "Issue 3:\n",
      "\n",
      " a group of college friends consisted of harvey, nikki, rob, skip, nan, chaz, kit, and archâgather, celebrate spring break by spending the weekend at the island mansion of their friend and skip's sister muffy st.\n",
      " the weylandâyutani commando team arrives, including a man who looks identical to bishop and explains that he is bishop's creator.\n",
      " the narrator devotes many journal entries to describing the wallpaper in the room â its \"yellow\" smell, its \"breakneck\" pattern, the missing patches, and the way it leaves yellow smears on the skin and clothing of anyone who touches it.\n",
      "\n",
      "\n",
      "Issue 4:\n",
      "\n",
      " in 1883, alfred russel wallace wrote a tribute to darwin (entitled 'the debt of science to darwinâ) who had died the year before.\n",
      " as he dies, quaid warns d'amour that âthe puritanâ is coming.\n",
      " the last line is from the receptionist at the bureau: â\"thank you, sir,\" said the hostess.\n",
      "\n",
      "\n",
      "Issue 5:\n",
      "\n",
      " in 1883, alfred russel wallace wrote a tribute to darwin (entitled 'the debt of science to darwinâ) who had died the year before.\n",
      " as he dies, quaid warns d'amour that âthe puritanâ is coming.\n",
      " the last line is from the receptionist at the bureau: â\"thank you, sir,\" said the hostess.\n",
      "\n",
      "\n",
      "Issue 6:\n",
      "\n",
      " as he dies, quaid warns d'amour that âthe puritanâ is coming.\n",
      " lefty teaches donnie the rules of the mafia and introduces him to several \"made men\" including dominick \"sonny black\" napolitano, and nicholas santora, as well as caporegime alphonse âsonny redâ indelicato to whom lefty owes money and is disliked by sonny black.\n",
      " lefty teaches donnie the rules of the mafia and introduces him to several \"made men\" including dominick \"sonny black\" napolitano, and nicholas santora, as well as caporegime alphonse âsonny redâ indelicato to whom lefty owes money and is disliked by sonny black.\n",
      "\n",
      "\n",
      "Issue 7:\n",
      "\n",
      " in exchange for retrieving the tesseract,â˛ a powerful energy source of unknown potential, the other promises loki an army with which he can subjugate earth.\n",
      " in exchange for retrieving the tesseract,â˛ a powerful energy source of unknown potential, the other promises loki an army with which he can subjugate earth.\n",
      " in exchange for retrieving the tesseract,â˛ a powerful energy source of unknown potential, the other promises loki an army with which he can subjugate earth.\n",
      "\n",
      "\n",
      "Issue 8:\n",
      "\n",
      " the story of the infernal rise of ăvariste gamelin, a young parisian painter, involved in the section for his neighborhood of pont-neuf, the gods are athirst describes the dark years of the reign of terror in paris, from year ii to year iii.\n",
      " he wakes aboard a yacht with the surfer, bodhi (ădgar ramă­rez), and his team roach (clemens schick), chowder (tobias santelmann), and grommet (matias varela).\n",
      " the story of the infernal rise of ăvariste gamelin, a young parisian painter, involved in the section for his neighborhood of pont-neuf, the gods are athirst describes the dark years of the reign of terror in paris, from year ii to year iii.\n",
      "\n",
      "\n",
      "Issue 9:\n",
      "\n",
      " in exchange for retrieving the tesseract,â˛ a powerful energy source of unknown potential, the other promises loki an army with which he can subjugate earth.\n",
      " with use of the potion, he lures auriol into a compact whereby he is given a magnificent mansion in st james's square and âł120,000, in exchange for a female victim whenever rougemont requires one from him.\n",
      " acheson has spent years hunting alexander pearce, a lover of elise, who owes âł744 million in back taxes, and is believed to have received plastic surgery to alter his appearance.\n",
      "\n",
      "\n",
      "Issue 10:\n",
      "\n",
      " once upon a time and a very good time it was there was a moocow coming down along the road and this moocow that was coming down along the road met a nicens little boy named baby tuckooâ .\n",
      " once upon a time and a very good time it was there was a moocow coming down along the road and this moocow that was coming down along the road met a nicens little boy named baby tuckooâ .\n",
      " once upon a time and a very good time it was there was a moocow coming down along the road and this moocow that was coming down along the road met a nicens little boy named baby tuckooâ .\n",
      "\n",
      "\n",
      "Issue 11:\n",
      "\n",
      " the saeki family rose again as ghosts due to their rage and sorrow, notably kayako, who appears as an onryĺ ghost, leaving the curse on the house.\n",
      " the saeki family rose again as ghosts due to their rage and sorrow, notably kayako, who appears as an onryĺ ghost, leaving the curse on the house.\n",
      " in the opening chapter he hurts himself jumping from the second floor of his elementary school, fights the boy next door, and tramples a neighbor's carrot patch by wrestling (sumĺ style) on the straw that covers the seedlings.\n",
      "\n",
      "\n"
     ]
    }
   ],
   "source": [
    "for i, issue in enumerate([issue_1, issue_2, issue_3, issue_4, issue_5, issue_6, issue_7, issue_8, issue_9, issue_10, issue_11]):\n",
    "    concat_dataset = concatenate_datasets(\n",
    "            [issue[\"train\"], issue[\"test\"], issue[\"validation\"]]\n",
    "        )\n",
    "    examples = concat_dataset.shuffle(seed=1).select(range(3))\n",
    "\n",
    "    print(f\"Issue {i+1}:\\n\")\n",
    "    for example in examples:\n",
    "        print([sentence + '.' for sentence in example[\"source\"].split('.') if 'â' in sentence or 'ă' in sentence or 'ĺ' in sentence][0])\n",
    "    print('\\n')\n"
   ]
  },
  {
   "cell_type": "markdown",
   "id": "b1616de4-c735-4f29-8668-80a4258ba391",
   "metadata": {},
   "source": [
    "Looking at the output of the examples for each issue, we should replace the characters with:\n",
    "\n",
    "1. ', '\n",
    "2. ' -'\n",
    "3. '-'\n",
    "4. \"'\"\n",
    "5. ''\n",
    "6. ''\n",
    "7. ''\n",
    "8. 'é'\n",
    "9. '$'\n",
    "10. ''\n",
    "11. 'ō'"
   ]
  }
 ],
 "metadata": {
  "kernelspec": {
   "display_name": "Python 3 (ipykernel)",
   "language": "python",
   "name": "python3"
  },
  "language_info": {
   "codemirror_mode": {
    "name": "ipython",
    "version": 3
   },
   "file_extension": ".py",
   "mimetype": "text/x-python",
   "name": "python",
   "nbconvert_exporter": "python",
   "pygments_lexer": "ipython3",
   "version": "3.10.13"
  }
 },
 "nbformat": 4,
 "nbformat_minor": 5
}
