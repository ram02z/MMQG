{
 "cells": [
  {
   "cell_type": "code",
   "execution_count": 6,
   "metadata": {},
   "outputs": [],
   "source": [
    "from datasets import load_dataset, concatenate_datasets, DatasetDict\n",
    "import unicodedata\n",
    "from transformers import HfArgumentParser, set_seed, T5Tokenizer, BartTokenizer\n",
    "\n",
    "\n",
    "import re\n",
    "\n",
    "def fix_encoding_errors(data):\n",
    "    # This pattern matches one or more digits followed by an accented 'a'\n",
    "    pattern = r'(\\d+)Â'\n",
    "\n",
    "    # See analysis in narrativeqa_encoding.ipynb\n",
    "    data[\"source\"] = (\n",
    "        data[\"source\"]\n",
    "        .replace(\"â\\x80\\x94\", \", \")\n",
    "        .replace(\"Â\\xa0â\\x80\\x93\", \" -\")\n",
    "        .replace(\"â\\x80\\x93\", \"-\")\n",
    "        .replace(\"â\\x80\\x99\", \"'\")\n",
    "        .replace(\"â\\x80\\x9d\", \"\")\n",
    "        .replace(\"â\\x80\\x9c\", \"\")\n",
    "        .replace(\"Ă˛\", \"\")\n",
    "        .replace(\"Ă\\x89\", \"e\")\n",
    "        .replace(\"ÂŁ\", \"$\")\n",
    "        .replace(\"â\\x80\\x89\", \"\")\n",
    "        .replace(\"Ĺ\\x8d\", \"o\")\n",
    "        .replace(\"â\\x82Ź\", \"€\")\n",
    "    )\n",
    "    data[\"source\"] = re.sub(pattern, r'\\1', data[\"source\"])\n",
    "\n",
    "    data[\"target\"] = (\n",
    "        data[\"target\"]\n",
    "        .replace(\"â\\x80\\x94\", \", \")\n",
    "        .replace(\"Â\\xa0â\\x80\\x93\", \" -\")\n",
    "        .replace(\"â\\x80\\x93\", \"-\")\n",
    "        .replace(\"â\\x80\\x99\", \"'\")\n",
    "        .replace(\"â\\x80\\x9d\", \"\")\n",
    "        .replace(\"â\\x80\\x9c\", \"\")\n",
    "        .replace(\"Ă˛\", \"\")\n",
    "        .replace(\"Ă\\x89\", \"e\")\n",
    "        .replace(\"ÂŁ\", \"$\")\n",
    "        .replace(\"â\\x80\\x89\", \"\")\n",
    "        .replace(\"Ĺ\\x8d\", \"o\")\n",
    "        .replace(\"â\\x82Ź\", \"€\")\n",
    "    )\n",
    "    data[\"target\"] = re.sub(pattern, r'\\1', data[\"target\"])\n",
    "\n",
    "    return data\n",
    "\n",
    "def contain_question_mark(data):\n",
    "    return data[\"target\"][-1].rstrip() == \"?\"\n",
    "\n",
    "\n",
    "def normalise(data):\n",
    "    # Lowercase the text\n",
    "    data[\"source\"] = data[\"source\"].lower()\n",
    "    data[\"target\"] = data[\"target\"].lower()\n",
    "\n",
    "    # Remove new line characters\n",
    "    data[\"source\"] = data[\"source\"].replace(\"\\n\", \" \")\n",
    "\n",
    "    # Resolve accented characters\n",
    "    data[\"source\"] = \"\".join(\n",
    "        c\n",
    "        for c in unicodedata.normalize(\"NFD\", data[\"source\"])\n",
    "        if unicodedata.category(c) != \"Mn\"\n",
    "    )\n",
    "    data[\"target\"] = \"\".join(\n",
    "        c\n",
    "        for c in unicodedata.normalize(\"NFD\", data[\"target\"])\n",
    "        if unicodedata.category(c) != \"Mn\"\n",
    "    )\n",
    "\n",
    "    return data\n",
    "\n",
    "def categorise_dataset(data):\n",
    "    target = data[\"target\"].lower()\n",
    "    if any(word in target for word in [\"what\"]):\n",
    "        data[\"category\"] = \"description\"\n",
    "    elif any(\n",
    "        word in target\n",
    "        for word in [\n",
    "            \"where\",\n",
    "            \"when\",\n",
    "            \"who\",\n",
    "            \"how many\",\n",
    "            \"how much\",\n",
    "            \"which\",\n",
    "            \"how long\",\n",
    "        ]\n",
    "    ):\n",
    "        data[\"category\"] = \"recall\"\n",
    "    elif any(\n",
    "        word in target\n",
    "        for word in [\"how did\", \"how does\", \"how do\", \"compute\", \"calculate\"]\n",
    "    ):\n",
    "        data[\"category\"] = \"method\"\n",
    "    elif any(word in target for word in [\"why\"]):\n",
    "        data[\"category\"] = \"explanation\"\n",
    "\n",
    "    return data\n",
    "\n",
    "def remove_na_category(data):\n",
    "    return data[\"category\"] != \"NA\""
   ]
  },
  {
   "cell_type": "code",
   "execution_count": 4,
   "metadata": {},
   "outputs": [
    {
     "data": {
      "application/vnd.jupyter.widget-view+json": {
       "model_id": "eb85d49bd39c4873b6cd39b025013050",
       "version_major": 2,
       "version_minor": 0
      },
      "text/plain": [
       "Filter:   0%|          | 0/46765 [00:00<?, ? examples/s]"
      ]
     },
     "metadata": {},
     "output_type": "display_data"
    },
    {
     "data": {
      "application/vnd.jupyter.widget-view+json": {
       "model_id": "2abf90171ba74858844527ee0a7cb9dc",
       "version_major": 2,
       "version_minor": 0
      },
      "text/plain": [
       "Map:   0%|          | 0/44548 [00:00<?, ? examples/s]"
      ]
     },
     "metadata": {},
     "output_type": "display_data"
    },
    {
     "data": {
      "application/vnd.jupyter.widget-view+json": {
       "model_id": "014da5ad6b4246cfb86d68d4257e6efb",
       "version_major": 2,
       "version_minor": 0
      },
      "text/plain": [
       "Map:   0%|          | 0/44548 [00:00<?, ? examples/s]"
      ]
     },
     "metadata": {},
     "output_type": "display_data"
    },
    {
     "data": {
      "application/vnd.jupyter.widget-view+json": {
       "model_id": "293a14bf71d945f49aeb8818c5778de3",
       "version_major": 2,
       "version_minor": 0
      },
      "text/plain": [
       "Filter:   0%|          | 0/44548 [00:00<?, ? examples/s]"
      ]
     },
     "metadata": {},
     "output_type": "display_data"
    }
   ],
   "source": [
    "narrative_data = (\n",
    "  load_dataset(\"narrativeqa\", trust_remote_code=True, split=\"train+validation+test\")\n",
    "  .select_columns([\"document\", \"question\"])\n",
    "  .map(\n",
    "      lambda x: {\n",
    "          \"document\": x[\"document\"][\"summary\"][\"text\"],\n",
    "          \"question\": x[\"question\"][\"text\"],\n",
    "      }\n",
    "  )\n",
    "  .rename_columns({\"document\": \"source\", \"question\": \"target\"})\n",
    "  .map(fix_encoding_errors)\n",
    ")\n",
    "\n",
    "narrative_data = narrative_data.add_column(\n",
    "  \"category\", [\"NA\"] * len(narrative_data)\n",
    ")\n",
    "\n",
    "narrative_data = (\n",
    "  narrative_data.filter(contain_question_mark)\n",
    "  .map(normalise)\n",
    "  .map(categorise_dataset)\n",
    "  .filter(remove_na_category)\n",
    ")"
   ]
  },
  {
   "cell_type": "code",
   "execution_count": 19,
   "metadata": {},
   "outputs": [
    {
     "data": {
      "application/vnd.jupyter.widget-view+json": {
       "model_id": "4c4d0c26bc3e48cea7f65668f94a79ee",
       "version_major": 2,
       "version_minor": 0
      },
      "text/plain": [
       "Creating CSV from Arrow format:   0%|          | 0/44 [00:00<?, ?ba/s]"
      ]
     },
     "metadata": {},
     "output_type": "display_data"
    },
    {
     "data": {
      "text/plain": [
       "150353891"
      ]
     },
     "execution_count": 19,
     "metadata": {},
     "output_type": "execute_result"
    }
   ],
   "source": [
    "narrative_data.to_csv(\"naqa.csv\")"
   ]
  },
  {
   "cell_type": "code",
   "execution_count": 8,
   "metadata": {},
   "outputs": [
    {
     "name": "stderr",
     "output_type": "stream",
     "text": [
      "Special tokens have been added in the vocabulary, make sure the associated word embeddings are fine-tuned or trained.\n"
     ]
    },
    {
     "data": {
      "application/vnd.jupyter.widget-view+json": {
       "model_id": "87b3c6addabd491da04b65cacac97105",
       "version_major": 2,
       "version_minor": 0
      },
      "text/plain": [
       "Map:   0%|          | 0/43612 [00:00<?, ? examples/s]"
      ]
     },
     "metadata": {},
     "output_type": "display_data"
    },
    {
     "name": "stderr",
     "output_type": "stream",
     "text": [
      "Token indices sequence length is longer than the specified maximum sequence length for this model (1286 > 512). Running this sequence through the model will result in indexing errors\n"
     ]
    }
   ],
   "source": [
    "tokenizer = T5Tokenizer.from_pretrained(\"t5-base\")\n",
    "\n",
    "def convert_to_features(x):\n",
    "    input_encodings = tokenizer.batch_encode_plus(\n",
    "        x[\"source\"],\n",
    "        add_special_tokens=True,\n",
    "    )\n",
    "    target_encodings = tokenizer.batch_encode_plus(\n",
    "        x[\"target\"],\n",
    "        add_special_tokens=True,\n",
    "    )\n",
    "\n",
    "    encodings = {\n",
    "        \"input_ids\": input_encodings[\"input_ids\"],\n",
    "        \"labels\": target_encodings[\"input_ids\"],\n",
    "        \"attention_mask\": input_encodings[\"attention_mask\"],\n",
    "    }\n",
    "\n",
    "    return encodings\n",
    "\n",
    "tokenized_dataset = narrative_data.map(\n",
    "    convert_to_features,\n",
    "    batched=True,\n",
    "    batch_size=2000,\n",
    "    remove_columns=[\"source\", \"target\"],\n",
    ")\n"
   ]
  },
  {
   "cell_type": "code",
   "execution_count": 9,
   "metadata": {},
   "outputs": [
    {
     "data": {
      "application/vnd.jupyter.widget-view+json": {
       "model_id": "3a3a8d0b561d488f905b76b7acfe6483",
       "version_major": 2,
       "version_minor": 0
      },
      "text/plain": [
       "Map:   0%|          | 0/43612 [00:00<?, ? examples/s]"
      ]
     },
     "metadata": {},
     "output_type": "display_data"
    }
   ],
   "source": [
    "def calculate_length(data):\n",
    "  data[\"input length\"] = len(data[\"input_ids\"])\n",
    "\n",
    "  return data\n",
    "\n",
    "\n",
    "tokenized_dataset = tokenized_dataset.add_column(\n",
    "  \"input length\", [\"NA\"] * len(tokenized_dataset)\n",
    ")\n",
    "\n",
    "tokenized_dataset = tokenized_dataset.map(calculate_length)\n",
    "\n",
    "\n"
   ]
  },
  {
   "cell_type": "code",
   "execution_count": 13,
   "metadata": {},
   "outputs": [
    {
     "data": {
      "application/vnd.jupyter.widget-view+json": {
       "model_id": "9ff03b77e69c43f6a835e5b154ad6497",
       "version_major": 2,
       "version_minor": 0
      },
      "text/plain": [
       "Creating CSV from Arrow format:   0%|          | 0/44 [00:00<?, ?ba/s]"
      ]
     },
     "metadata": {},
     "output_type": "display_data"
    },
    {
     "data": {
      "text/plain": [
       "193823"
      ]
     },
     "execution_count": 13,
     "metadata": {},
     "output_type": "execute_result"
    }
   ],
   "source": [
    "tokenized_dataset = tokenized_dataset.select_columns([\"input length\"])\n",
    "\n",
    "tokenized_dataset.to_csv(\"tokenized.csv\")"
   ]
  },
  {
   "cell_type": "code",
   "execution_count": 18,
   "metadata": {},
   "outputs": [
    {
     "data": {
      "image/png": "[encoded data removed]",
      "text/plain": [
       "<Figure size 800x600 with 1 Axes>"
      ]
     },
     "metadata": {},
     "output_type": "display_data"
    }
   ],
   "source": [
    "import numpy as np\n",
    "\n",
    "\n",
    "# Step 2: Extract features and labels\n",
    "length = tokenized_dataset['input length']\n",
    "\n",
    "# Step 3: Convert to numpy arrays\n",
    "np_array = np.array(length)\n",
    "\n",
    "import matplotlib.pyplot as plt\n",
    "\n",
    "\n",
    "# Step 1: Calculate percentiles\n",
    "percentiles = np.percentile(np_array, np.arange(0, 101, 1))  # Calculate percentiles from 0 to 100\n",
    "\n",
    "# Step 2: Plot the percentile distribution\n",
    "plt.figure(figsize=(8, 6))\n",
    "plt.plot(np.arange(0, 101, 1), percentiles, marker='o', linestyle='-')\n",
    "plt.xlabel('Percentile')\n",
    "plt.ylabel('Value')\n",
    "plt.title('Percentile Distribution')\n",
    "plt.grid(True)\n",
    "plt.show()\n"
   ]
  }
 ],
 "metadata": {
  "kernelspec": {
   "display_name": ".venv",
   "language": "python",
   "name": "python3"
  },
  "language_info": {
   "codemirror_mode": {
    "name": "ipython",
    "version": 3
   },
   "file_extension": ".py",
   "mimetype": "text/x-python",
   "name": "python",
   "nbconvert_exporter": "python",
   "pygments_lexer": "ipython3",
   "version": "3.11.5"
  }
 },
 "nbformat": 4,
 "nbformat_minor": 2
}
