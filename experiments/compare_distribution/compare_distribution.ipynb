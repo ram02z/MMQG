{
 "cells": [
  {
   "cell_type": "markdown",
   "metadata": {},
   "source": [
    "The distribution of questions-types from the generated questions using the squad_model and balanced_model"
   ]
  },
  {
   "cell_type": "code",
   "execution_count": 14,
   "metadata": {},
   "outputs": [
    {
     "data": {
      "application/vnd.jupyter.widget-view+json": {
       "model_id": "efa62ca2e0ac4271a38f1e1817a005e2",
       "version_major": 2,
       "version_minor": 0
      },
      "text/plain": [
       "Generating train split: 0 examples [00:00, ? examples/s]"
      ]
     },
     "metadata": {},
     "output_type": "display_data"
    },
    {
     "name": "stdout",
     "output_type": "stream",
     "text": [
      "Dataset({\n",
      "    features: ['source', 'target', 'dataset', 'category', 'squad_question4b', 'balanced_question4b'],\n",
      "    num_rows: 1346\n",
      "})\n"
     ]
    }
   ],
   "source": [
    "from datasets import load_dataset\n",
    "\n",
    "squad_balanced = load_dataset(\"csv\", data_files=\"../../data/compare_baseline_balanced_4b.csv\", split='train')\n",
    "print(squad_balanced)"
   ]
  },
  {
   "cell_type": "code",
   "execution_count": 15,
   "metadata": {},
   "outputs": [],
   "source": [
    "def categorise_dataset(data):\n",
    "    target = data[\"target\"].lower()\n",
    "    if any(word in target for word in [\"what\"]):\n",
    "        data[\"category\"] = \"description\"\n",
    "    elif any(\n",
    "        word in target\n",
    "        for word in [\n",
    "            \"how did\",\n",
    "            \"how does\",\n",
    "            \"how do\",\n",
    "            \"compute\",\n",
    "            \"calculate\",\n",
    "            \"how can\",\n",
    "            \"how should\",\n",
    "            \"how would\",\n",
    "            \"how will\",\n",
    "            \"how to\",\n",
    "        ]\n",
    "    ):\n",
    "        data[\"category\"] = \"method\"\n",
    "    elif any(\n",
    "        word in target\n",
    "        for word in [\n",
    "            \"where\",\n",
    "            \"when\",\n",
    "            \"who\",\n",
    "            \"how\",\n",
    "            \"which\",\n",
    "        ]\n",
    "    ):\n",
    "        data[\"category\"] = \"recall\"\n",
    "    elif any(word in target for word in [\"why\"]):\n",
    "        data[\"category\"] = \"explanation\"\n",
    "    else:\n",
    "        data[\"category\"] = \"NA\"\n",
    "\n",
    "    return data\n",
    "\n",
    "\n",
    "def print_distribution(dataset):\n",
    "    categories = [\"method\", \"description\", \"explanation\", \"recall\", \"NA\"]\n",
    "\n",
    "    distributions = []\n",
    "    for category in categories:\n",
    "        category_ds = dataset.filter(lambda data: data[\"category\"] == category)\n",
    "        distribution_str = f\"{category} distribution = {len(category_ds) / len(dataset) * 100}%, count = {len(category_ds)}\"\n",
    "        distributions.append(distribution_str)\n",
    "\n",
    "    for d in distributions:\n",
    "        print(d)"
   ]
  },
  {
   "cell_type": "code",
   "execution_count": 17,
   "metadata": {},
   "outputs": [],
   "source": [
    "squad_dataset = (\n",
    "  squad_balanced\n",
    "  .select_columns(['squad_question4b'])\n",
    "  .rename_column(\"squad_question4b\", \"target\")\n",
    "  .add_column(\"category\", [\"NA\"] * len(squad_balanced))\n",
    "  .map(categorise_dataset)\n",
    ")\n",
    "\n",
    "balanced_dataset = (\n",
    "  squad_balanced\n",
    "  .select_columns(['balanced_question4b'])\n",
    "  .rename_column(\"balanced_question4b\", \"target\")\n",
    "  .add_column(\"category\", [\"NA\"] * len(squad_balanced))\n",
    "  .map(categorise_dataset)\n",
    ")"
   ]
  },
  {
   "cell_type": "code",
   "execution_count": 18,
   "metadata": {},
   "outputs": [
    {
     "name": "stdout",
     "output_type": "stream",
     "text": [
      "method distribution = 0.8915304606240713%, count = 12\n",
      "description distribution = 50.81723625557206%, count = 684\n",
      "explanation distribution = 0.9658246656760773%, count = 13\n",
      "recall distribution = 46.95393759286775%, count = 632\n",
      "NA distribution = 0.3714710252600297%, count = 5\n"
     ]
    }
   ],
   "source": [
    "print_distribution(squad_dataset)"
   ]
  },
  {
   "cell_type": "code",
   "execution_count": 19,
   "metadata": {},
   "outputs": [
    {
     "name": "stdout",
     "output_type": "stream",
     "text": [
      "method distribution = 30.163447251114412%, count = 406\n",
      "description distribution = 26.300148588410106%, count = 354\n",
      "explanation distribution = 27.414561664190195%, count = 369\n",
      "recall distribution = 9.806835066864785%, count = 132\n",
      "NA distribution = 6.315007429420505%, count = 85\n"
     ]
    }
   ],
   "source": [
    "print_distribution(balanced_dataset)"
   ]
  },
  {
   "cell_type": "markdown",
   "metadata": {},
   "source": [
    "The distribution of question types between the balanced and balanced-resolved dataset"
   ]
  },
  {
   "cell_type": "code",
   "execution_count": 10,
   "metadata": {},
   "outputs": [],
   "source": [
    "balanced_ds = load_dataset(\"alinet/balanced_qg\", \"default\", split='train')\n",
    "balanced_resolved_ds = load_dataset(\"alinet/balanced_qg\", \"resolved\", split='train')"
   ]
  },
  {
   "cell_type": "code",
   "execution_count": 12,
   "metadata": {},
   "outputs": [
    {
     "data": {
      "application/vnd.jupyter.widget-view+json": {
       "model_id": "8515bba093b247b8b71a7964459ee185",
       "version_major": 2,
       "version_minor": 0
      },
      "text/plain": [
       "Map:   0%|          | 0/16244 [00:00<?, ? examples/s]"
      ]
     },
     "metadata": {},
     "output_type": "display_data"
    },
    {
     "data": {
      "application/vnd.jupyter.widget-view+json": {
       "model_id": "98ae1a74feea4f948f692909df0b291b",
       "version_major": 2,
       "version_minor": 0
      },
      "text/plain": [
       "Filter:   0%|          | 0/16244 [00:00<?, ? examples/s]"
      ]
     },
     "metadata": {},
     "output_type": "display_data"
    },
    {
     "data": {
      "application/vnd.jupyter.widget-view+json": {
       "model_id": "c8fb8234c97743f49a639764a4aa2584",
       "version_major": 2,
       "version_minor": 0
      },
      "text/plain": [
       "Filter:   0%|          | 0/16244 [00:00<?, ? examples/s]"
      ]
     },
     "metadata": {},
     "output_type": "display_data"
    },
    {
     "data": {
      "application/vnd.jupyter.widget-view+json": {
       "model_id": "aafde2fcd5644dc2aff8072b6209f725",
       "version_major": 2,
       "version_minor": 0
      },
      "text/plain": [
       "Filter:   0%|          | 0/16244 [00:00<?, ? examples/s]"
      ]
     },
     "metadata": {},
     "output_type": "display_data"
    },
    {
     "data": {
      "application/vnd.jupyter.widget-view+json": {
       "model_id": "90c1abb40edc4ca396b0d58a35e5515a",
       "version_major": 2,
       "version_minor": 0
      },
      "text/plain": [
       "Filter:   0%|          | 0/16244 [00:00<?, ? examples/s]"
      ]
     },
     "metadata": {},
     "output_type": "display_data"
    },
    {
     "data": {
      "application/vnd.jupyter.widget-view+json": {
       "model_id": "3af86478d2694d1193d05c566d4a5ea9",
       "version_major": 2,
       "version_minor": 0
      },
      "text/plain": [
       "Filter:   0%|          | 0/16244 [00:00<?, ? examples/s]"
      ]
     },
     "metadata": {},
     "output_type": "display_data"
    },
    {
     "name": "stdout",
     "output_type": "stream",
     "text": [
      "method distribution = 25.0%, count = 4061\n",
      "description distribution = 25.0%, count = 4061\n",
      "explanation distribution = 25.0%, count = 4061\n",
      "recall distribution = 25.0%, count = 4061\n",
      "NA distribution = 0.0%, count = 0\n"
     ]
    }
   ],
   "source": [
    "balanced_ds = balanced_ds.map(categorise_dataset)\n",
    "print_distribution(balanced_ds)"
   ]
  },
  {
   "cell_type": "code",
   "execution_count": 13,
   "metadata": {},
   "outputs": [
    {
     "data": {
      "application/vnd.jupyter.widget-view+json": {
       "model_id": "359bd5f759db4a9fb29fb65ea0d9f749",
       "version_major": 2,
       "version_minor": 0
      },
      "text/plain": [
       "Map:   0%|          | 0/16244 [00:00<?, ? examples/s]"
      ]
     },
     "metadata": {},
     "output_type": "display_data"
    },
    {
     "data": {
      "application/vnd.jupyter.widget-view+json": {
       "model_id": "0f7481f7f2b548679b122a1f018ff646",
       "version_major": 2,
       "version_minor": 0
      },
      "text/plain": [
       "Filter:   0%|          | 0/16244 [00:00<?, ? examples/s]"
      ]
     },
     "metadata": {},
     "output_type": "display_data"
    },
    {
     "data": {
      "application/vnd.jupyter.widget-view+json": {
       "model_id": "a457533a0e354581bef47cda325ad2bf",
       "version_major": 2,
       "version_minor": 0
      },
      "text/plain": [
       "Filter:   0%|          | 0/16244 [00:00<?, ? examples/s]"
      ]
     },
     "metadata": {},
     "output_type": "display_data"
    },
    {
     "data": {
      "application/vnd.jupyter.widget-view+json": {
       "model_id": "d96ec7cace1f49419ea7881a0dca028f",
       "version_major": 2,
       "version_minor": 0
      },
      "text/plain": [
       "Filter:   0%|          | 0/16244 [00:00<?, ? examples/s]"
      ]
     },
     "metadata": {},
     "output_type": "display_data"
    },
    {
     "data": {
      "application/vnd.jupyter.widget-view+json": {
       "model_id": "d17f1c28c04b4645bc94389a12cc5d31",
       "version_major": 2,
       "version_minor": 0
      },
      "text/plain": [
       "Filter:   0%|          | 0/16244 [00:00<?, ? examples/s]"
      ]
     },
     "metadata": {},
     "output_type": "display_data"
    },
    {
     "data": {
      "application/vnd.jupyter.widget-view+json": {
       "model_id": "c5793b4eb6b54f4cb666a5d05f8fe713",
       "version_major": 2,
       "version_minor": 0
      },
      "text/plain": [
       "Filter:   0%|          | 0/16244 [00:00<?, ? examples/s]"
      ]
     },
     "metadata": {},
     "output_type": "display_data"
    },
    {
     "name": "stdout",
     "output_type": "stream",
     "text": [
      "method distribution = 24.495198227037676%, count = 3979\n",
      "description distribution = 24.328983009111056%, count = 3952\n",
      "explanation distribution = 24.655257325781825%, count = 4005\n",
      "recall distribution = 26.415907411967492%, count = 4291\n",
      "NA distribution = 0.10465402610194534%, count = 17\n"
     ]
    }
   ],
   "source": [
    "balanced_resolved_ds = balanced_resolved_ds.map(categorise_dataset)\n",
    "print_distribution(balanced_resolved_ds)"
   ]
  }
 ],
 "metadata": {
  "kernelspec": {
   "display_name": ".venv",
   "language": "python",
   "name": "python3"
  },
  "language_info": {
   "codemirror_mode": {
    "name": "ipython",
    "version": 3
   },
   "file_extension": ".py",
   "mimetype": "text/x-python",
   "name": "python",
   "nbconvert_exporter": "python",
   "pygments_lexer": "ipython3",
   "version": "3.11.5"
  }
 },
 "nbformat": 4,
 "nbformat_minor": 2
}
