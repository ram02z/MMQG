{
 "cells": [
  {
   "cell_type": "code",
   "execution_count": 10,
   "metadata": {},
   "outputs": [],
   "source": [
    "from transformers import BartForConditionalGeneration, BartTokenizer\n",
    "from datasets import load_dataset\n",
    "\n",
    "model_name_1 = \"alinet/bart-base-squad-qg\"\n",
    "bart_squad_tokenizer = BartTokenizer.from_pretrained(model_name_1)\n",
    "bart_squad = BartForConditionalGeneration.from_pretrained(model_name_1)\n",
    "\n",
    "model_name_2 = \"alinet/bart-base-balanced-qg\"\n",
    "bart_balanced_ra_tokenizer= BartTokenizer.from_pretrained(model_name_2)\n",
    "bart_balanced_ra = BartForConditionalGeneration.from_pretrained(model_name_2)"
   ]
  },
  {
   "cell_type": "code",
   "execution_count": 11,
   "metadata": {},
   "outputs": [],
   "source": [
    "def run_model(input_string, model, tokenizer, **generator_args):\n",
    "  input_ids = tokenizer.encode(input_string, return_tensors=\"pt\")\n",
    "  res = model.generate(input_ids, **generator_args)\n",
    "  output = tokenizer.batch_decode(res, skip_special_tokens=True)\n",
    "  return output\n",
    "\n",
    "def generate_questions(data):\n",
    "  source = data['source']\n",
    "  \n",
    "  squad_question4b = run_model(source, bart_squad, bart_squad_tokenizer, max_length=100, num_beams=4)\n",
    "  balanced_question4b = run_model(source, bart_balanced_ra, bart_balanced_ra_tokenizer, max_length=100, num_beams=4)\n",
    "\n",
    "  data['squad_question4b'] = squad_question4b[0]\n",
    "  data['balanced_question4b'] = balanced_question4b[0]\n",
    "\n",
    "  return data\n",
    "\n",
    "def contain_unique_question_context(data, unique_sources):\n",
    "  if data['source'] in unique_sources:\n",
    "    return False\n",
    "  else:\n",
    "    unique_sources.add(data['source'])\n",
    "    return True\n",
    "  "
   ]
  },
  {
   "cell_type": "code",
   "execution_count": 12,
   "metadata": {},
   "outputs": [
    {
     "data": {
      "application/vnd.jupyter.widget-view+json": {
       "model_id": "b33b36d955d040988cdac3c55edaf141",
       "version_major": 2,
       "version_minor": 0
      },
      "text/plain": [
       "Map:   0%|          | 0/1346 [00:00<?, ? examples/s]"
      ]
     },
     "metadata": {},
     "output_type": "display_data"
    }
   ],
   "source": [
    "balanced_ds = load_dataset(\"alinet/balanced_qg\", \"default\", split='validation')\n",
    "\n",
    "unique_sources = set()\n",
    "balanced_ds = balanced_ds.filter(contain_unique_question_context, fn_kwargs={\"unique_sources\": unique_sources})\n",
    "\n",
    "balanced_ds = (\n",
    "  balanced_ds\n",
    "  .add_column(\"squad_question4b\", [None] * len(balanced_ds))\n",
    "  .add_column(\"balanced_question4b\", [None] * len(balanced_ds))\n",
    "  .map(generate_questions)\n",
    ")"
   ]
  },
  {
   "cell_type": "code",
   "execution_count": 13,
   "metadata": {},
   "outputs": [
    {
     "data": {
      "application/vnd.jupyter.widget-view+json": {
       "model_id": "e4207876f20f4a48a082a956000d25c2",
       "version_major": 2,
       "version_minor": 0
      },
      "text/plain": [
       "Creating CSV from Arrow format:   0%|          | 0/2 [00:00<?, ?ba/s]"
      ]
     },
     "metadata": {},
     "output_type": "display_data"
    },
    {
     "data": {
      "text/plain": [
       "1954505"
      ]
     },
     "execution_count": 13,
     "metadata": {},
     "output_type": "execute_result"
    }
   ],
   "source": [
    "balanced_ds.to_csv(\"../../data/compare_baseline_balanced_4b.csv\")"
   ]
  }
 ],
 "metadata": {
  "kernelspec": {
   "display_name": ".venv",
   "language": "python",
   "name": "python3"
  },
  "language_info": {
   "codemirror_mode": {
    "name": "ipython",
    "version": 3
   },
   "file_extension": ".py",
   "mimetype": "text/x-python",
   "name": "python",
   "nbconvert_exporter": "python",
   "pygments_lexer": "ipython3",
   "version": "3.11.5"
  }
 },
 "nbformat": 4,
 "nbformat_minor": 2
}
