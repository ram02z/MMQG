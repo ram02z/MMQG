{
 "cells": [
  {
   "cell_type": "code",
   "execution_count": 1,
   "metadata": {},
   "outputs": [
    {
     "name": "stderr",
     "output_type": "stream",
     "text": [
      "You are using the default legacy behaviour of the <class 'transformers.models.t5.tokenization_t5.T5Tokenizer'>. This is expected, and simply means that the `legacy` (previous) behavior will be used so nothing changes for you. If you want to use the new behaviour, set `legacy=False`. This should only be set if you understand what it means, and thouroughly read the reason why this was added as explained in https://github.com/huggingface/transformers/pull/24565\n"
     ]
    }
   ],
   "source": [
    "from transformers import T5Config, T5ForConditionalGeneration, T5Tokenizer\n",
    "from datasets import load_dataset\n",
    "\n",
    "model_name = \"alinet/t5-base-squad-qg\"\n",
    "t5_base_tokenizer = T5Tokenizer.from_pretrained(model_name)\n",
    "t5_base = T5ForConditionalGeneration.from_pretrained(model_name)\n",
    "\n",
    "model_name = \"alinet/t5-base-balanced-qg\"\n",
    "t5_balanced_tokenizer = T5Tokenizer.from_pretrained(model_name)\n",
    "t5_balanced = T5ForConditionalGeneration.from_pretrained(model_name)"
   ]
  },
  {
   "cell_type": "code",
   "execution_count": 2,
   "metadata": {},
   "outputs": [],
   "source": [
    "def generate_questions(data):\n",
    "  source = data['source']\n",
    "  \n",
    "  baseline_question1b = run_model(source, t5_base, t5_base_tokenizer, max_length=32, num_beams=1)\n",
    "  balanced_question1b = run_model(source, t5_balanced, t5_balanced_tokenizer, max_length=32, num_beams=1)\n",
    "\n",
    "  data['baseline1b'] = baseline_question1b[0]\n",
    "  data['balanced1b'] = balanced_question1b[0]\n",
    "\n",
    "  return data\n",
    "\n",
    "def contain_unique_question_context(data, unique_sources):\n",
    "  if data['source'] in unique_sources:\n",
    "    return False\n",
    "  else:\n",
    "    unique_sources.add(data['source'])\n",
    "    return True\n",
    "  \n",
    "def run_model(input_string, model, tokenizer, **generator_args):\n",
    "  input_ids = tokenizer.encode(input_string, return_tensors=\"pt\")\n",
    "  res = model.generate(input_ids, **generator_args)\n",
    "  output = tokenizer.batch_decode(res, skip_special_tokens=True)\n",
    "  return output"
   ]
  },
  {
   "cell_type": "code",
   "execution_count": 2,
   "metadata": {},
   "outputs": [
    {
     "ename": "NameError",
     "evalue": "name 'load_dataset' is not defined",
     "output_type": "error",
     "traceback": [
      "\u001b[0;31m---------------------------------------------------------------------------\u001b[0m",
      "\u001b[0;31mNameError\u001b[0m                                 Traceback (most recent call last)",
      "Cell \u001b[0;32mIn[2], line 1\u001b[0m\n\u001b[0;32m----> 1\u001b[0m compare_dataset \u001b[38;5;241m=\u001b[39m \u001b[43mload_dataset\u001b[49m(\u001b[38;5;124m\"\u001b[39m\u001b[38;5;124mcsv\u001b[39m\u001b[38;5;124m\"\u001b[39m, data_files\u001b[38;5;241m=\u001b[39m\u001b[38;5;124m\"\u001b[39m\u001b[38;5;124m../../data/validation.csv\u001b[39m\u001b[38;5;124m\"\u001b[39m, split\u001b[38;5;241m=\u001b[39m\u001b[38;5;124m'\u001b[39m\u001b[38;5;124mtrain\u001b[39m\u001b[38;5;124m'\u001b[39m)\n\u001b[1;32m      3\u001b[0m unique_sources \u001b[38;5;241m=\u001b[39m \u001b[38;5;28mset\u001b[39m()\n\u001b[1;32m      4\u001b[0m compare_dataset \u001b[38;5;241m=\u001b[39m compare_dataset\u001b[38;5;241m.\u001b[39mfilter(contain_unique_question_context, fn_kwargs\u001b[38;5;241m=\u001b[39m{\u001b[38;5;124m\"\u001b[39m\u001b[38;5;124munique_sources\u001b[39m\u001b[38;5;124m\"\u001b[39m: unique_sources})\n",
      "\u001b[0;31mNameError\u001b[0m: name 'load_dataset' is not defined"
     ]
    }
   ],
   "source": [
    "compare_dataset = load_dataset(\"csv\", data_files=\"../../data/validation.csv\", split='train')\n",
    "\n",
    "unique_sources = set()\n",
    "compare_dataset = compare_dataset.filter(contain_unique_question_context, fn_kwargs={\"unique_sources\": unique_sources})\n",
    "\n",
    "compare_dataset = (\n",
    "  compare_dataset\n",
    "  .add_column(\"baseline1b\", [None] * len(compare_dataset))\n",
    "  .add_column(\"balanced1b\", [None] * len(compare_dataset))\n",
    "  .map(generate_questions)\n",
    ")"
   ]
  },
  {
   "cell_type": "code",
   "execution_count": 1,
   "metadata": {},
   "outputs": [
    {
     "ename": "NameError",
     "evalue": "name 'compare_dataset' is not defined",
     "output_type": "error",
     "traceback": [
      "\u001b[0;31m---------------------------------------------------------------------------\u001b[0m",
      "\u001b[0;31mNameError\u001b[0m                                 Traceback (most recent call last)",
      "Cell \u001b[0;32mIn[1], line 1\u001b[0m\n\u001b[0;32m----> 1\u001b[0m \u001b[43mcompare_dataset\u001b[49m\u001b[38;5;241m.\u001b[39mto_csv(\u001b[38;5;124m\"\u001b[39m\u001b[38;5;124m../../data/compare_baseline_balanced_1b.csv\u001b[39m\u001b[38;5;124m\"\u001b[39m)\n",
      "\u001b[0;31mNameError\u001b[0m: name 'compare_dataset' is not defined"
     ]
    }
   ],
   "source": [
    "compare_dataset.to_csv(\"../../data/compare_baseline_balanced_1b.csv\")"
   ]
  }
 ],
 "metadata": {
  "kernelspec": {
   "display_name": ".venv",
   "language": "python",
   "name": "python3"
  },
  "language_info": {
   "codemirror_mode": {
    "name": "ipython",
    "version": 3
   },
   "file_extension": ".py",
   "mimetype": "text/x-python",
   "name": "python",
   "nbconvert_exporter": "python",
   "pygments_lexer": "ipython3",
   "version": "3.11.5"
  }
 },
 "nbformat": 4,
 "nbformat_minor": 2
}
