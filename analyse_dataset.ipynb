{
 "cells": [
  {
   "cell_type": "code",
   "execution_count": 84,
   "metadata": {},
   "outputs": [],
   "source": [
    "from dataclasses import dataclass, field\n",
    "import os\n",
    "from datasets import load_dataset, concatenate_datasets\n",
    "from transformers import set_seed, HfArgumentParser"
   ]
  },
  {
   "cell_type": "code",
   "execution_count": 85,
   "metadata": {},
   "outputs": [],
   "source": [
    "def contain_question_mark(data):\n",
    "    return data[\"target\"][-1].rstrip() == \"?\"\n",
    "\n",
    "def contain_unique_question_context(data, unique_sources):\n",
    "    if data[\"source\"] not in unique_sources:\n",
    "        unique_sources.add(data[\"source\"])\n",
    "        return True\n",
    "    return False\n",
    "\n",
    "def normalise(data):\n",
    "    # Lowercase the text\n",
    "    data[\"source\"] = data[\"source\"].lower()\n",
    "    data[\"target\"] = data[\"target\"].lower()\n",
    "\n",
    "    # Remove new line characters\n",
    "    data[\"source\"] = data[\"source\"].replace(\"\\n\", \" \")\n",
    "\n",
    "    return data\n",
    "\n",
    "def categorise_dataset(data):\n",
    "    if any(word in data['target'] for word in [\"what\", \"where\", \"when\", \"who\"]):\n",
    "        data['category'] = \"description\"\n",
    "    elif any(word in data['target'] for word in [\"how did\", \"how does\", \"how do\", \"compute\", \"calculate\"]):\n",
    "        data['category'] = \"method\"\n",
    "    elif any(word in data['target'] for word in [\"why\"]):\n",
    "        data['category'] = \"explanation\"\n",
    "    elif any(word in data['target'] for word in [\"compare\", \"difference\"]):\n",
    "        data['category'] = \"comparison\" \n",
    "\n",
    "    return data\n"
   ]
  },
  {
   "cell_type": "code",
   "execution_count": 86,
   "metadata": {},
   "outputs": [],
   "source": [
    "squad_data = (\n",
    "  load_dataset(\"squad\", split=\"train+validation\")\n",
    "  .select_columns([\"context\", \"question\"])\n",
    "  .rename_columns({\"context\": \"source\", \"question\": \"target\"})\n",
    ")\n",
    "\n",
    "dataset = concatenate_datasets(\n",
    "  [squad_data]\n",
    ")\n",
    "\n",
    "dataset = dataset.filter(contain_question_mark)\n",
    "unique_sources = set()\n",
    "dataset = dataset.filter(\n",
    "  contain_unique_question_context,\n",
    "  fn_kwargs={\"unique_sources\": unique_sources},\n",
    ")\n",
    "\n",
    "dataset = dataset.map(normalise)\n",
    "\n",
    "# add column to dataset for taxonomy\n",
    "dataset = dataset.add_column(\"category\", [\"NA\"] * len(dataset))\n",
    "\n",
    "dataset = dataset.map(categorise_dataset)\n"
   ]
  },
  {
   "cell_type": "code",
   "execution_count": 87,
   "metadata": {},
   "outputs": [
    {
     "data": {
      "application/vnd.jupyter.widget-view+json": {
       "model_id": "2efef407f99142db9726e8ed7a9e9aef",
       "version_major": 2,
       "version_minor": 0
      },
      "text/plain": [
       "Creating CSV from Arrow format:   0%|          | 0/21 [00:00<?, ?ba/s]"
      ]
     },
     "metadata": {},
     "output_type": "display_data"
    },
    {
     "data": {
      "text/plain": [
       "16900379"
      ]
     },
     "execution_count": 87,
     "metadata": {},
     "output_type": "execute_result"
    }
   ],
   "source": [
    "\n",
    "dataset.to_csv(\"data/dataset_tax.csv\")\n"
   ]
  },
  {
   "cell_type": "code",
   "execution_count": null,
   "metadata": {},
   "outputs": [],
   "source": [
    "\n"
   ]
  }
 ],
 "metadata": {
  "kernelspec": {
   "display_name": ".venv",
   "language": "python",
   "name": "python3"
  },
  "language_info": {
   "codemirror_mode": {
    "name": "ipython",
    "version": 3
   },
   "file_extension": ".py",
   "mimetype": "text/x-python",
   "name": "python",
   "nbconvert_exporter": "python",
   "pygments_lexer": "ipython3",
   "version": "3.11.5"
  }
 },
 "nbformat": 4,
 "nbformat_minor": 2
}
