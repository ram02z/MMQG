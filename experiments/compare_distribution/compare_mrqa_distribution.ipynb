{
 "cells": [
  {
   "cell_type": "code",
   "execution_count": 9,
   "metadata": {},
   "outputs": [],
   "source": [
    "import unicodedata\n",
    "\n",
    "def contain_question_mark(data):\n",
    "    return data[\"target\"][-1].rstrip() == \"?\"\n",
    "\n",
    "\n",
    "def normalise(data):\n",
    "    # Remove new line characters\n",
    "    data[\"source\"] = data[\"source\"].replace(\"\\n\", \" \")\n",
    "\n",
    "    # Resolve accented characters\n",
    "    data[\"source\"] = \"\".join(\n",
    "        c\n",
    "        for c in unicodedata.normalize(\"NFD\", data[\"source\"])\n",
    "        if unicodedata.category(c) != \"Mn\"\n",
    "    )\n",
    "    data[\"target\"] = \"\".join(\n",
    "        c\n",
    "        for c in unicodedata.normalize(\"NFD\", data[\"target\"])\n",
    "        if unicodedata.category(c) != \"Mn\"\n",
    "    )\n",
    "\n",
    "    return data\n",
    "\n",
    "\n",
    "def categorise_dataset(data):\n",
    "    target = data[\"target\"].lower()\n",
    "    if any(word in target for word in [\"what\"]):\n",
    "        data[\"category\"] = \"description\"\n",
    "    elif any(\n",
    "        word in target\n",
    "        for word in [\n",
    "            \"how did\",\n",
    "            \"how does\",\n",
    "            \"how do\",\n",
    "            \"compute\",\n",
    "            \"calculate\",\n",
    "            \"how can\",\n",
    "            \"how should\",\n",
    "            \"how would\",\n",
    "            \"how will\",\n",
    "            \"how to\",\n",
    "        ]\n",
    "    ):\n",
    "        data[\"category\"] = \"method\"\n",
    "    elif any(\n",
    "        word in target\n",
    "        for word in [\n",
    "            \"where\",\n",
    "            \"when\",\n",
    "            \"who\",\n",
    "            \"how\",\n",
    "            \"which\",\n",
    "        ]\n",
    "    ):\n",
    "        data[\"category\"] = \"recall\"\n",
    "    elif any(word in target for word in [\"why\"]):\n",
    "        data[\"category\"] = \"explanation\"\n",
    "    else:\n",
    "        data[\"category\"] = \"NA\"\n",
    "\n",
    "    return data\n",
    "\n",
    "\n",
    "def remove_na_category(data):\n",
    "    return data[\"category\"] != \"NA\"\n",
    "\n",
    "\n",
    "def print_distribution(dataset):\n",
    "    categories = [\"method\", \"description\", \"explanation\", \"recall\", \"NA\"]\n",
    "\n",
    "    distributions = []\n",
    "    for category in categories:\n",
    "        category_ds = dataset.filter(lambda data: data[\"category\"] == category)\n",
    "        distribution_str = f\"{category} distribution = {len(category_ds) / len(dataset) * 100}%, count = {len(category_ds)}\"\n",
    "        distributions.append(distribution_str)\n",
    "\n",
    "    for d in distributions:\n",
    "        print(d)"
   ]
  },
  {
   "cell_type": "code",
   "execution_count": 10,
   "metadata": {},
   "outputs": [],
   "source": [
    "from datasets import load_dataset\n",
    "\n",
    "mrqa_train_dataset = (\n",
    "    load_dataset(\"mrqa\", split = \"train\")\n",
    "    .select_columns([\"context\", \"question\"])\n",
    "    .rename_columns({\"context\": \"source\", \"question\": \"target\"})\n",
    ")\n"
   ]
  },
  {
   "cell_type": "code",
   "execution_count": 11,
   "metadata": {},
   "outputs": [],
   "source": [
    "mrqa_train_dataset = (\n",
    "  mrqa_train_dataset.filter(contain_question_mark)\n",
    "  .map(normalise)\n",
    "  .map(categorise_dataset)\n",
    "  .filter(remove_na_category)\n",
    ")"
   ]
  },
  {
   "cell_type": "code",
   "execution_count": 12,
   "metadata": {},
   "outputs": [
    {
     "name": "stdout",
     "output_type": "stream",
     "text": [
      "method distribution = 0.5861896936260125%, count = 1598\n",
      "description distribution = 50.007703368940014%, count = 136325\n",
      "explanation distribution = 0.46403627186289476%, count = 1265\n",
      "recall distribution = 48.94207066557107%, count = 133420\n",
      "NA distribution = 0.0%, count = 0\n"
     ]
    }
   ],
   "source": [
    "print_distribution(mrqa_train_dataset)"
   ]
  }
 ],
 "metadata": {
  "kernelspec": {
   "display_name": ".venv",
   "language": "python",
   "name": "python3"
  },
  "language_info": {
   "codemirror_mode": {
    "name": "ipython",
    "version": 3
   },
   "file_extension": ".py",
   "mimetype": "text/x-python",
   "name": "python",
   "nbconvert_exporter": "python",
   "pygments_lexer": "ipython3",
   "version": "3.11.5"
  }
 },
 "nbformat": 4,
 "nbformat_minor": 2
}
