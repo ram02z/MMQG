{
 "cells": [
  {
   "cell_type": "code",
   "execution_count": 6,
   "metadata": {},
   "outputs": [],
   "source": [
    "import chromadb\n",
    "client = chromadb.PersistentClient(path=\"./chromadb\")"
   ]
  },
  {
   "cell_type": "code",
   "execution_count": 7,
   "metadata": {},
   "outputs": [],
   "source": [
    "collection = client.get_or_create_collection(\"test_collection\")"
   ]
  },
  {
   "cell_type": "code",
   "execution_count": 8,
   "metadata": {},
   "outputs": [
    {
     "name": "stderr",
     "output_type": "stream",
     "text": [
      "/Users/jiaweihong/Desktop/mmqg/.venv/lib/python3.11/site-packages/bitsandbytes/cextension.py:34: UserWarning: The installed version of bitsandbytes was compiled without GPU support. 8-bit optimizers, 8-bit multiplication, and GPU quantization are unavailable.\n",
      "  warn(\"The installed version of bitsandbytes was compiled without GPU support. \"\n"
     ]
    },
    {
     "name": "stdout",
     "output_type": "stream",
     "text": [
      "'NoneType' object has no attribute 'cadam32bit_grad_fp32'\n"
     ]
    }
   ],
   "source": [
    "from angle_emb import AnglE\n",
    "\n",
    "angle = AnglE.from_pretrained('WhereIsAI/UAE-Large-V1', pooling_strategy='cls').cuda()"
   ]
  },
  {
   "cell_type": "code",
   "execution_count": 28,
   "metadata": {},
   "outputs": [
    {
     "name": "stderr",
     "output_type": "stream",
     "text": [
      "WARNING:chromadb.segment.impl.vector.local_persistent_hnsw:Add of existing embedding ID: idx1\n",
      "WARNING:chromadb.segment.impl.metadata.sqlite:Insert of existing embedding ID: idx1\n"
     ]
    },
    {
     "name": "stdout",
     "output_type": "stream",
     "text": [
      "[[-0.5092252   0.4191139  -0.30091575 ... -0.47825125 -0.03508169\n",
      "  -0.961101  ]]\n",
      "0\n",
      "I love to asd asd\n"
     ]
    },
    {
     "name": "stderr",
     "output_type": "stream",
     "text": [
      "WARNING:chromadb.segment.impl.vector.local_persistent_hnsw:Add of existing embedding ID: idx2\n",
      "WARNING:chromadb.segment.impl.metadata.sqlite:Insert of existing embedding ID: idx2\n"
     ]
    },
    {
     "name": "stdout",
     "output_type": "stream",
     "text": [
      "[[-0.00445997  0.11769447  0.39421436 ...  0.06481928 -0.00069234\n",
      "  -0.05599581]]\n",
      "1\n",
      "burning calo as dasd ries\n"
     ]
    }
   ],
   "source": [
    "documents = [\"I love to asd asd\", \"burning calo as dasd ries\"]\n",
    "\n",
    "for idx, doc in enumerate(documents):\n",
    "    embedding = angle.encode(doc, to_numpy=True)\n",
    "    print(embedding)\n",
    "    id = 'idx' + str(idx+1) \n",
    "    collection.add(\n",
    "        embeddings=embedding,\n",
    "        documents=doc,\n",
    "        ids=id, \n",
    "    )\n",
    "\n",
    "    print(idx)\n",
    "    print(doc)"
   ]
  },
  {
   "cell_type": "code",
   "execution_count": 10,
   "metadata": {},
   "outputs": [],
   "source": [
    "document1 = \"I like to eat cheese\"\n",
    "document2 =  \"Chicken is a nice tasting food\"\n",
    "\n",
    "embedding1 = angle.encode(document1, to_numpy=True)\n",
    "embedding2 = angle.encode(document2, to_numpy=True)\n",
    "\n",
    "collection.add(\n",
    "    embeddings=embedding1,\n",
    "    documents=document1,\n",
    "    ids=\"id1\", \n",
    ")\n",
    "\n",
    "collection.add(\n",
    "    embeddings=embedding2,\n",
    "    documents=document2,\n",
    "    ids=\"id2\", \n",
    ")\n"
   ]
  },
  {
   "cell_type": "code",
   "execution_count": 11,
   "metadata": {},
   "outputs": [
    {
     "data": {
      "text/plain": [
       "{'ids': ['id1', 'id2'],\n",
       " 'embeddings': None,\n",
       " 'metadatas': [None, None],\n",
       " 'documents': ['I like to eat cheese', 'Chicken is a nice tasting food'],\n",
       " 'uris': None,\n",
       " 'data': None}"
      ]
     },
     "execution_count": 11,
     "metadata": {},
     "output_type": "execute_result"
    }
   ],
   "source": [
    "collection.get()"
   ]
  },
  {
   "cell_type": "code",
   "execution_count": 30,
   "metadata": {},
   "outputs": [],
   "source": [
    "\n",
    "client.delete_collection(\"test_collection\")"
   ]
  },
  {
   "cell_type": "code",
   "execution_count": 20,
   "metadata": {},
   "outputs": [
    {
     "name": "stdout",
     "output_type": "stream",
     "text": [
      "I like to eat cheese\n"
     ]
    }
   ],
   "source": [
    "query = \"I like to eat cheesy food\"\n",
    "embedding = angle.encode(query, to_numpy=True)\n",
    "\n",
    "res = collection.query(\n",
    "    query_embeddings=embedding,\n",
    "    n_results=1,\n",
    ")\n",
    "\n",
    "print(res['documents'][0][0])"
   ]
  }
 ],
 "metadata": {
  "kernelspec": {
   "display_name": ".venv",
   "language": "python",
   "name": "python3"
  },
  "language_info": {
   "codemirror_mode": {
    "name": "ipython",
    "version": 3
   },
   "file_extension": ".py",
   "mimetype": "text/x-python",
   "name": "python",
   "nbconvert_exporter": "python",
   "pygments_lexer": "ipython3",
   "version": "3.11.5"
  }
 },
 "nbformat": 4,
 "nbformat_minor": 2
}
