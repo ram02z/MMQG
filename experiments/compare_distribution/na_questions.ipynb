{
 "cells": [
  {
   "cell_type": "code",
   "execution_count": 6,
   "metadata": {},
   "outputs": [
    {
     "name": "stdout",
     "output_type": "stream",
     "text": [
      "Dataset({\n",
      "    features: ['source', 'target', 'dataset', 'category', 'squad_question4b', 'balanced_question4b'],\n",
      "    num_rows: 1346\n",
      "})\n"
     ]
    }
   ],
   "source": [
    "from datasets import load_dataset\n",
    "\n",
    "squad_balanced = load_dataset(\"csv\", data_files=\"../../data/compare_baseline_balanced_4b.csv\", split='train')\n",
    "print(squad_balanced)"
   ]
  },
  {
   "cell_type": "code",
   "execution_count": 9,
   "metadata": {},
   "outputs": [
    {
     "data": {
      "application/vnd.jupyter.widget-view+json": {
       "model_id": "f0261486191a421f9c78a5ce8ac36743",
       "version_major": 2,
       "version_minor": 0
      },
      "text/plain": [
       "Creating CSV from Arrow format:   0%|          | 0/1 [00:00<?, ?ba/s]"
      ]
     },
     "metadata": {},
     "output_type": "display_data"
    },
    {
     "data": {
      "text/plain": [
       "3362"
      ]
     },
     "execution_count": 9,
     "metadata": {},
     "output_type": "execute_result"
    }
   ],
   "source": [
    "def filter_to_retain_na(data):\n",
    "    return data[\"category\"] == \"NA\"\n",
    "\n",
    "def categorise_dataset(data):\n",
    "    target = data[\"target\"].lower()\n",
    "    if any(word in target for word in [\"what\"]):\n",
    "        data[\"category\"] = \"description\"\n",
    "    elif any(\n",
    "        word in target\n",
    "        for word in [\n",
    "            \"how did\",\n",
    "            \"how does\",\n",
    "            \"how do\",\n",
    "            \"compute\",\n",
    "            \"calculate\",\n",
    "            \"how can\",\n",
    "            \"how should\",\n",
    "            \"how would\",\n",
    "            \"how will\",\n",
    "            \"how to\",\n",
    "        ]\n",
    "    ):\n",
    "        data[\"category\"] = \"method\"\n",
    "    elif any(\n",
    "        word in target\n",
    "        for word in [\n",
    "            \"where\",\n",
    "            \"when\",\n",
    "            \"who\",\n",
    "            \"how\",\n",
    "            \"which\",\n",
    "        ]\n",
    "    ):\n",
    "        data[\"category\"] = \"recall\"\n",
    "    elif any(word in target for word in [\"why\"]):\n",
    "        data[\"category\"] = \"explanation\"\n",
    "    else:\n",
    "        data[\"category\"] = \"NA\"\n",
    "\n",
    "    return data\n",
    "\n",
    "balanced_dataset_filtered_na = (\n",
    "  squad_balanced\n",
    "  .select_columns(['balanced_question4b'])\n",
    "  .rename_column(\"balanced_question4b\", \"target\")\n",
    "  .add_column(\"category\", [\"NA\"] * len(squad_balanced))\n",
    "  .map(categorise_dataset)\n",
    "  .filter(filter_to_retain_na)\n",
    ")\n",
    "\n",
    "balanced_dataset_filtered_na.to_csv(\"../../data/balanced_dataset_na.csv\")\n"
   ]
  }
 ],
 "metadata": {
  "kernelspec": {
   "display_name": ".venv",
   "language": "python",
   "name": "python3"
  },
  "language_info": {
   "codemirror_mode": {
    "name": "ipython",
    "version": 3
   },
   "file_extension": ".py",
   "mimetype": "text/x-python",
   "name": "python",
   "nbconvert_exporter": "python",
   "pygments_lexer": "ipython3",
   "version": "3.11.5"
  }
 },
 "nbformat": 4,
 "nbformat_minor": 2
}
