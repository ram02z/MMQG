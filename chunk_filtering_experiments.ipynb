{
 "cells": [
  {
   "cell_type": "code",
   "execution_count": 26,
   "metadata": {},
   "outputs": [],
   "source": [
    "import pickle\n",
    "import qg\n",
    "from chunking import ChunkPipeline\n",
    "from fitz import fitz\n",
    "from sklearn.feature_extraction.text import TfidfVectorizer\n",
    "from sklearn.metrics.pairwise import cosine_similarity\n",
    "\n",
    "def compute_cosine_similarity(text1, text2):\n",
    "    vectorizer = TfidfVectorizer()\n",
    "    vectors = vectorizer.fit_transform([text1, text2])\n",
    "    cosine_sim = cosine_similarity(vectors)\n",
    "    return cosine_sim[0, 1]\n"
   ]
  },
  {
   "cell_type": "code",
   "execution_count": 27,
   "metadata": {},
   "outputs": [],
   "source": [
    "# get the whisper chunks\n",
    "with open(\"experiments/qg/comp3074_lecture_2.pkl\", \"rb\") as file:\n",
    "    whisper_chunks = pickle.load(file)['chunks']\n",
    "\n",
    "# get the slide chunks with timestamps\n",
    "with open('slide_chunks.pkl', 'rb') as file:\n",
    "    slide_chunks = pickle.load(file)\n",
    "\n",
    "# generate trasncript chunks\n",
    "qg_model = qg.Model.DISCORD\n",
    "chunk_pipe = ChunkPipeline(qg_model)\n",
    "transcript_chunks = chunk_pipe(whisper_chunks,2301)\n",
    "\n",
    "# get last endtime in the slide chunkss\n",
    "endtime = slide_chunks[-1][2]"
   ]
  },
  {
   "cell_type": "code",
   "execution_count": null,
   "metadata": {},
   "outputs": [],
   "source": [
    "i=0\n",
    "# a list of the indices of the relevant chunks\n",
    "relevant_chunks = []\n",
    "for j, chunk in enumerate(transcript_chunks):\n",
    "    # ensure we only process transcript chunks that correspond to the slide chunks\n",
    "    if chunk['timestamp'][0] < endtime:\n",
    "        list_of_slide_indices = []\n",
    "        while i < len(slide_chunks):\n",
    "            list_of_slide_indices.append(i)\n",
    "            if chunk['timestamp'][1] <= slide_chunks[i][2]:\n",
    "                # print(\"FITS\")\n",
    "                # print(f\"current chunks start time is: {chunk['timestamp'][0]} and the end time is: {chunk['timestamp'][1]}\", i)\n",
    "                # print(f\"The slide chunk currently as an end time of: {slide_chunks[i][2]}\")\n",
    "                # print(f\"the slide indices that need to be combined are: {list_of_slide_indices}\")\n",
    "                # print(\"===============================================================\")\n",
    "                \n",
    "                transcript_chunk_text = chunk['text']\n",
    "                print(f\"The text on the chunk is: {transcript_chunk_text}\")\n",
    "                print(\"-------------------------------------------------------------------------------\")\n",
    "\n",
    "                slide_text = \"\"\n",
    "                for index in list_of_slide_indices:\n",
    "                    slide_text += slide_chunks[index][0]\n",
    "\n",
    "                print(f\"The text on the relevant slides is: {slide_text}\")\n",
    "                # compute similarity between the transcript text and the relevant slides\n",
    "                cosine_sim = compute_cosine_similarity(transcript_chunk_text, slide_text)\n",
    "                print(f\"the 2 have a similarity score of: {cosine_sim}\")\n",
    "                print(\"================================================================================\")\n",
    "\n",
    "                relevant_chunks.append(cosine_sim)\n",
    "                break\n",
    "            i += 1\n",
    "\n",
    "print(relevant_chunks)"
   ]
  },
  {
   "cell_type": "code",
   "execution_count": null,
   "metadata": {},
   "outputs": [],
   "source": []
  }
 ],
 "metadata": {
  "kernelspec": {
   "display_name": "Python 3.10.7 ('.venv': poetry)",
   "language": "python",
   "name": "python3"
  },
  "language_info": {
   "codemirror_mode": {
    "name": "ipython",
    "version": 3
   },
   "file_extension": ".py",
   "mimetype": "text/x-python",
   "name": "python",
   "nbconvert_exporter": "python",
   "pygments_lexer": "ipython3",
   "version": "3.10.7"
  },
  "orig_nbformat": 4,
  "vscode": {
   "interpreter": {
    "hash": "07286029c4efa9b37c544460c5fa52c864476e2690f0f794bd6d9982a0a601a0"
   }
  }
 },
 "nbformat": 4,
 "nbformat_minor": 2
}
