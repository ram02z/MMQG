{
 "cells": [
  {
   "cell_type": "code",
   "execution_count": 7,
   "metadata": {},
   "outputs": [
    {
     "data": {
      "application/vnd.jupyter.widget-view+json": {
       "model_id": "f8d615eddda24e7b8751343a40e053fe",
       "version_major": 2,
       "version_minor": 0
      },
      "text/plain": [
       "Generating train split: 0 examples [00:00, ? examples/s]"
      ]
     },
     "metadata": {},
     "output_type": "display_data"
    },
    {
     "name": "stdout",
     "output_type": "stream",
     "text": [
      "Dataset({\n",
      "    features: ['source', 'target', 'category', 'baseline1b', 'balanced1b'],\n",
      "    num_rows: 2558\n",
      "})\n"
     ]
    }
   ],
   "source": [
    "from datasets import load_dataset\n",
    "\n",
    "baseline_balanced = load_dataset(\"csv\", data_files=\"../../data/compare_baseline_balanced_1b.csv\", split='train')\n",
    "print(baseline_balanced)"
   ]
  },
  {
   "cell_type": "code",
   "execution_count": 8,
   "metadata": {},
   "outputs": [],
   "source": [
    "def categorise_dataset(data):\n",
    "    if any(word in data[\"target\"] for word in [\"what\"]):\n",
    "        data[\"category\"] = \"description\"\n",
    "    elif any(\n",
    "        word in data[\"target\"]\n",
    "        for word in [\n",
    "            \"where\",\n",
    "            \"when\",\n",
    "            \"who\",\n",
    "            \"how many\",\n",
    "            \"how much\",\n",
    "            \"which\",\n",
    "            \"how long\",\n",
    "        ]\n",
    "    ):\n",
    "        data[\"category\"] = \"recall\"\n",
    "    elif any(\n",
    "        word in data[\"target\"]\n",
    "        for word in [\"how did\", \"how does\", \"how do\", \"compute\", \"calculate\"]\n",
    "    ):\n",
    "        data[\"category\"] = \"method\"\n",
    "    elif any(word in data[\"target\"] for word in [\"why\"]):\n",
    "        data[\"category\"] = \"explanation\"\n",
    "    elif any(word in data[\"target\"] for word in [\"compare\", \"difference\"]):\n",
    "        data[\"category\"] = \"comparison\"\n",
    "\n",
    "    return data\n",
    "\n",
    "def print_distribution(dataset):\n",
    "    categories = [\"method\", \"description\", \"explanation\", \"comparison\", \"recall\", \"NA\"]\n",
    "\n",
    "    distributions = []\n",
    "    for category in categories:\n",
    "        category_ds = dataset.filter(lambda data: data[\"category\"] == category)\n",
    "        distribution_str = f\"{category} distribution = {len(category_ds) / len(dataset) * 100}%, count = {len(category_ds)}\"\n",
    "        distributions.append(distribution_str)\n",
    "\n",
    "    for d in distributions:\n",
    "        print(d)"
   ]
  },
  {
   "cell_type": "code",
   "execution_count": 27,
   "metadata": {},
   "outputs": [
    {
     "name": "stdout",
     "output_type": "stream",
     "text": [
      "Dataset({\n",
      "    features: ['source', 'target', 'category', 'baseline1b', 'balanced1b'],\n",
      "    num_rows: 2558\n",
      "})\n"
     ]
    },
    {
     "data": {
      "application/vnd.jupyter.widget-view+json": {
       "model_id": "b4e53231229343a5b583e0b11813b330",
       "version_major": 2,
       "version_minor": 0
      },
      "text/plain": [
       "Filter:   0%|          | 0/2558 [00:00<?, ? examples/s]"
      ]
     },
     "metadata": {},
     "output_type": "display_data"
    },
    {
     "data": {
      "application/vnd.jupyter.widget-view+json": {
       "model_id": "b470923fb0984b218e2a4a4ed79c1a24",
       "version_major": 2,
       "version_minor": 0
      },
      "text/plain": [
       "Filter:   0%|          | 0/2558 [00:00<?, ? examples/s]"
      ]
     },
     "metadata": {},
     "output_type": "display_data"
    },
    {
     "data": {
      "application/vnd.jupyter.widget-view+json": {
       "model_id": "f52931fa8b3d4425a13526ff41b7fe36",
       "version_major": 2,
       "version_minor": 0
      },
      "text/plain": [
       "Filter:   0%|          | 0/2558 [00:00<?, ? examples/s]"
      ]
     },
     "metadata": {},
     "output_type": "display_data"
    },
    {
     "data": {
      "application/vnd.jupyter.widget-view+json": {
       "model_id": "08b08b93804b47b1b179570c6928d8cd",
       "version_major": 2,
       "version_minor": 0
      },
      "text/plain": [
       "Filter:   0%|          | 0/2558 [00:00<?, ? examples/s]"
      ]
     },
     "metadata": {},
     "output_type": "display_data"
    },
    {
     "data": {
      "application/vnd.jupyter.widget-view+json": {
       "model_id": "3b6276e3b40b48b19b677fb26d87a749",
       "version_major": 2,
       "version_minor": 0
      },
      "text/plain": [
       "Filter:   0%|          | 0/2558 [00:00<?, ? examples/s]"
      ]
     },
     "metadata": {},
     "output_type": "display_data"
    },
    {
     "data": {
      "application/vnd.jupyter.widget-view+json": {
       "model_id": "513c41e039974ed388bab737f7300ceb",
       "version_major": 2,
       "version_minor": 0
      },
      "text/plain": [
       "Filter:   0%|          | 0/2558 [00:00<?, ? examples/s]"
      ]
     },
     "metadata": {},
     "output_type": "display_data"
    },
    {
     "name": "stdout",
     "output_type": "stream",
     "text": [
      "method distribution = 0.0%, count = 0\n",
      "description distribution = 82.32994526974198%, count = 2106\n",
      "explanation distribution = 0.0%, count = 0\n",
      "comparison distribution = 0.0%, count = 0\n",
      "recall distribution = 17.63096168881939%, count = 451\n",
      "NA distribution = 0.039093041438623924%, count = 1\n"
     ]
    },
    {
     "data": {
      "application/vnd.jupyter.widget-view+json": {
       "model_id": "3934eac4af104496bfdaf2f42859f531",
       "version_major": 2,
       "version_minor": 0
      },
      "text/plain": [
       "Filter:   0%|          | 0/2558 [00:00<?, ? examples/s]"
      ]
     },
     "metadata": {},
     "output_type": "display_data"
    },
    {
     "data": {
      "application/vnd.jupyter.widget-view+json": {
       "model_id": "6a4c4e729fab46a19fe70aaf826ad5af",
       "version_major": 2,
       "version_minor": 0
      },
      "text/plain": [
       "Filter:   0%|          | 0/2558 [00:00<?, ? examples/s]"
      ]
     },
     "metadata": {},
     "output_type": "display_data"
    },
    {
     "data": {
      "application/vnd.jupyter.widget-view+json": {
       "model_id": "d74fb234256b400da605fa3168ac9691",
       "version_major": 2,
       "version_minor": 0
      },
      "text/plain": [
       "Filter:   0%|          | 0/2558 [00:00<?, ? examples/s]"
      ]
     },
     "metadata": {},
     "output_type": "display_data"
    },
    {
     "data": {
      "application/vnd.jupyter.widget-view+json": {
       "model_id": "ab2a40c5e5f34644a281fac338ec270d",
       "version_major": 2,
       "version_minor": 0
      },
      "text/plain": [
       "Filter:   0%|          | 0/2558 [00:00<?, ? examples/s]"
      ]
     },
     "metadata": {},
     "output_type": "display_data"
    },
    {
     "data": {
      "application/vnd.jupyter.widget-view+json": {
       "model_id": "cfd8b1323e4c4005849495ff6def78ab",
       "version_major": 2,
       "version_minor": 0
      },
      "text/plain": [
       "Filter:   0%|          | 0/2558 [00:00<?, ? examples/s]"
      ]
     },
     "metadata": {},
     "output_type": "display_data"
    },
    {
     "data": {
      "application/vnd.jupyter.widget-view+json": {
       "model_id": "09ef565bfe41400dbff11a46e6bf6e71",
       "version_major": 2,
       "version_minor": 0
      },
      "text/plain": [
       "Filter:   0%|          | 0/2558 [00:00<?, ? examples/s]"
      ]
     },
     "metadata": {},
     "output_type": "display_data"
    },
    {
     "name": "stdout",
     "output_type": "stream",
     "text": [
      "method distribution = 4.495699765441751%, count = 115\n",
      "description distribution = 41.243158717748244%, count = 1055\n",
      "explanation distribution = 30.688037529319782%, count = 785\n",
      "comparison distribution = 0.0%, count = 0\n",
      "recall distribution = 23.49491790461298%, count = 601\n",
      "NA distribution = 0.07818608287724785%, count = 2\n"
     ]
    }
   ],
   "source": [
    "print(baseline_balanced)\n",
    "baseline = baseline_balanced.select_columns(['baseline1b']).rename_column(\"baseline1b\", \"target\").add_column(\"category\", [\"NA\"] * len(baseline_balanced)).map(categorise_dataset)\n",
    "\n",
    "balanced = baseline_balanced.select_columns(['balanced1b']).rename_column(\"balanced1b\", \"target\").add_column(\"category\", [\"NA\"] * len(baseline_balanced)).map(categorise_dataset)\n",
    "\n",
    "\n",
    "print_distribution(baseline)\n",
    "print_distribution(balanced)\n",
    "\n",
    "\n"
   ]
  },
  {
   "cell_type": "code",
   "execution_count": 28,
   "metadata": {},
   "outputs": [
    {
     "name": "stdout",
     "output_type": "stream",
     "text": [
      "Dataset({\n",
      "    features: ['source', 'target', 'category'],\n",
      "    num_rows: 9783\n",
      "})\n"
     ]
    }
   ],
   "source": [
    "validation = load_dataset(\"csv\", data_files=\"../../data/validation.csv\", split='train')\n",
    "\n",
    "print(validation)\n",
    "\n",
    "print_distribution(validation.map(categorise_dataset))"
   ]
  }
 ],
 "metadata": {
  "kernelspec": {
   "display_name": ".venv",
   "language": "python",
   "name": "python3"
  },
  "language_info": {
   "codemirror_mode": {
    "name": "ipython",
    "version": 3
   },
   "file_extension": ".py",
   "mimetype": "text/x-python",
   "name": "python",
   "nbconvert_exporter": "python",
   "pygments_lexer": "ipython3",
   "version": "3.11.5"
  }
 },
 "nbformat": 4,
 "nbformat_minor": 2
}
