{
 "cells": [
  {
   "cell_type": "code",
   "execution_count": 52,
   "id": "f956d759-d50d-4028-8b48-609805a52c6d",
   "metadata": {},
   "outputs": [],
   "source": [
    "from datasets import load_dataset, concatenate_datasets"
   ]
  },
  {
   "cell_type": "code",
   "execution_count": 53,
   "id": "1a628e51-99f4-48ff-9754-6a55a51ccb8b",
   "metadata": {},
   "outputs": [],
   "source": [
    "def normalise(data):\n",
    "    # Lowercase the text\n",
    "    data[\"source\"] = data[\"source\"].lower()\n",
    "    data[\"target\"] = data[\"target\"].lower()\n",
    "\n",
    "    # Remove new line characters\n",
    "    data[\"source\"] = data[\"source\"].replace(\"\\n\", \" \")\n",
    "\n",
    "    return data\n"
   ]
  },
  {
   "cell_type": "code",
   "execution_count": 54,
   "id": "89718f8e-6e23-4e12-9791-7f8b0244ffa4",
   "metadata": {},
   "outputs": [
    {
     "data": {
      "application/vnd.jupyter.widget-view+json": {
       "model_id": "5cf2549d6f684cb7a902ad1486ec1c01",
       "version_major": 2,
       "version_minor": 0
      },
      "text/plain": [
       "Downloading builder script:   0%|          | 0.00/8.23k [00:00<?, ?B/s]"
      ]
     },
     "metadata": {},
     "output_type": "display_data"
    },
    {
     "data": {
      "application/vnd.jupyter.widget-view+json": {
       "model_id": "09329340a34346aeb613dbf1fa7e623f",
       "version_major": 2,
       "version_minor": 0
      },
      "text/plain": [
       "Downloading readme:   0%|          | 0.00/10.4k [00:00<?, ?B/s]"
      ]
     },
     "metadata": {},
     "output_type": "display_data"
    },
    {
     "data": {
      "application/vnd.jupyter.widget-view+json": {
       "model_id": "71a3ce9cbb784fa2a7dcc55c9a059915",
       "version_major": 2,
       "version_minor": 0
      },
      "text/plain": [
       "Downloading data:   0%|          | 0.00/187M [00:00<?, ?B/s]"
      ]
     },
     "metadata": {},
     "output_type": "display_data"
    },
    {
     "data": {
      "application/vnd.jupyter.widget-view+json": {
       "model_id": "99f2ca966a394646bb7173a5f948679a",
       "version_major": 2,
       "version_minor": 0
      },
      "text/plain": [
       "Downloading data:   0%|          | 0.00/5.11M [00:00<?, ?B/s]"
      ]
     },
     "metadata": {},
     "output_type": "display_data"
    },
    {
     "data": {
      "application/vnd.jupyter.widget-view+json": {
       "model_id": "56b30b989e6b45f0bc8f98210f21f34d",
       "version_major": 2,
       "version_minor": 0
      },
      "text/plain": [
       "Generating train split:   0%|          | 0/32747 [00:00<?, ? examples/s]"
      ]
     },
     "metadata": {},
     "output_type": "display_data"
    },
    {
     "data": {
      "application/vnd.jupyter.widget-view+json": {
       "model_id": "6e6c543706af49cea69788d37ee65af1",
       "version_major": 2,
       "version_minor": 0
      },
      "text/plain": [
       "Generating test split:   0%|          | 0/10557 [00:00<?, ? examples/s]"
      ]
     },
     "metadata": {},
     "output_type": "display_data"
    },
    {
     "data": {
      "application/vnd.jupyter.widget-view+json": {
       "model_id": "ce6a71e430cc4239b4d20fc538c4911b",
       "version_major": 2,
       "version_minor": 0
      },
      "text/plain": [
       "Generating validation split:   0%|          | 0/3461 [00:00<?, ? examples/s]"
      ]
     },
     "metadata": {},
     "output_type": "display_data"
    },
    {
     "data": {
      "application/vnd.jupyter.widget-view+json": {
       "model_id": "a1b7c36e297f4bf9aec20bf1fa816f31",
       "version_major": 2,
       "version_minor": 0
      },
      "text/plain": [
       "Map:   0%|          | 0/32747 [00:00<?, ? examples/s]"
      ]
     },
     "metadata": {},
     "output_type": "display_data"
    },
    {
     "data": {
      "application/vnd.jupyter.widget-view+json": {
       "model_id": "914365836073467cbb580aca63e68257",
       "version_major": 2,
       "version_minor": 0
      },
      "text/plain": [
       "Map:   0%|          | 0/10557 [00:00<?, ? examples/s]"
      ]
     },
     "metadata": {},
     "output_type": "display_data"
    },
    {
     "data": {
      "application/vnd.jupyter.widget-view+json": {
       "model_id": "3fe4b7d923c9401596f1dd7de395b1a7",
       "version_major": 2,
       "version_minor": 0
      },
      "text/plain": [
       "Map:   0%|          | 0/3461 [00:00<?, ? examples/s]"
      ]
     },
     "metadata": {},
     "output_type": "display_data"
    },
    {
     "data": {
      "application/vnd.jupyter.widget-view+json": {
       "model_id": "eb1f922bb028455aa3ae90ea22f88d62",
       "version_major": 2,
       "version_minor": 0
      },
      "text/plain": [
       "Map:   0%|          | 0/32747 [00:00<?, ? examples/s]"
      ]
     },
     "metadata": {},
     "output_type": "display_data"
    },
    {
     "data": {
      "application/vnd.jupyter.widget-view+json": {
       "model_id": "2343c70db3044d38978a675b65cc1248",
       "version_major": 2,
       "version_minor": 0
      },
      "text/plain": [
       "Map:   0%|          | 0/10557 [00:00<?, ? examples/s]"
      ]
     },
     "metadata": {},
     "output_type": "display_data"
    },
    {
     "data": {
      "application/vnd.jupyter.widget-view+json": {
       "model_id": "eff5b5060d464f24a5bdbdee76955d57",
       "version_major": 2,
       "version_minor": 0
      },
      "text/plain": [
       "Map:   0%|          | 0/3461 [00:00<?, ? examples/s]"
      ]
     },
     "metadata": {},
     "output_type": "display_data"
    }
   ],
   "source": [
    "narrative_data = (\n",
    "    load_dataset(\"narrativeqa\", trust_remote_code=True)\n",
    "    .select_columns([\"document\", \"question\"])\n",
    "    .map(\n",
    "        lambda x: {\n",
    "            \"document\": x[\"document\"][\"summary\"][\"text\"],\n",
    "            \"question\": x[\"question\"][\"text\"],\n",
    "        }\n",
    "    )\n",
    "    .rename_columns({\"document\": \"source\", \"question\": \"target\"})\n",
    "    .map(normalise)\n",
    ")"
   ]
  },
  {
   "cell_type": "markdown",
   "id": "c59b44f1-83af-4111-b1df-9259c0efc1f0",
   "metadata": {},
   "source": [
    "## Observed character encoding issues\n",
    "- â\n",
    "- â â\n",
    "- â\n",
    "- â\n",
    "- â\n",
    "- â\n",
    "- â˛\n",
    "- ă\n",
    "- âł\n",
    "- â\n",
    "- ĺ\n",
    "- âź\n",
    "- (num)â \n",
    "\n",
    "In total, there are 13 instances of encoding issues in the NarrativeQA summaries."
   ]
  },
  {
   "cell_type": "code",
   "execution_count": 55,
   "id": "e2f9190f-4c0e-4830-ab5d-7fea2bccdf1d",
   "metadata": {},
   "outputs": [
    {
     "data": {
      "application/vnd.jupyter.widget-view+json": {
       "model_id": "a7d9900966614b6aaaf0b3ffd6430c6e",
       "version_major": 2,
       "version_minor": 0
      },
      "text/plain": [
       "Filter:   0%|          | 0/32747 [00:00<?, ? examples/s]"
      ]
     },
     "metadata": {},
     "output_type": "display_data"
    },
    {
     "data": {
      "application/vnd.jupyter.widget-view+json": {
       "model_id": "d6ea125c264f483abcd05b09c82f3a2a",
       "version_major": 2,
       "version_minor": 0
      },
      "text/plain": [
       "Filter:   0%|          | 0/10557 [00:00<?, ? examples/s]"
      ]
     },
     "metadata": {},
     "output_type": "display_data"
    },
    {
     "data": {
      "application/vnd.jupyter.widget-view+json": {
       "model_id": "b1346042cf754d64a1265ffe4bc1a954",
       "version_major": 2,
       "version_minor": 0
      },
      "text/plain": [
       "Filter:   0%|          | 0/3461 [00:00<?, ? examples/s]"
      ]
     },
     "metadata": {},
     "output_type": "display_data"
    },
    {
     "data": {
      "text/plain": [
       "DatasetDict({\n",
       "    train: Dataset({\n",
       "        features: ['source', 'target'],\n",
       "        num_rows: 3371\n",
       "    })\n",
       "    test: Dataset({\n",
       "        features: ['source', 'target'],\n",
       "        num_rows: 1085\n",
       "    })\n",
       "    validation: Dataset({\n",
       "        features: ['source', 'target'],\n",
       "        num_rows: 276\n",
       "    })\n",
       "})"
      ]
     },
     "execution_count": 55,
     "metadata": {},
     "output_type": "execute_result"
    }
   ],
   "source": [
    "issue_1 = narrative_data.filter(lambda x: \"â\" in x[\"source\"])\n",
    "issue_1"
   ]
  },
  {
   "cell_type": "code",
   "execution_count": 56,
   "id": "972f91dc-c38e-42f9-83ce-641bf03566af",
   "metadata": {},
   "outputs": [
    {
     "data": {
      "application/vnd.jupyter.widget-view+json": {
       "model_id": "c28502fe781844ea875e80109e117fb5",
       "version_major": 2,
       "version_minor": 0
      },
      "text/plain": [
       "Filter:   0%|          | 0/32747 [00:00<?, ? examples/s]"
      ]
     },
     "metadata": {},
     "output_type": "display_data"
    },
    {
     "data": {
      "application/vnd.jupyter.widget-view+json": {
       "model_id": "7d91527b724d438f9c4d0cc41650c4e5",
       "version_major": 2,
       "version_minor": 0
      },
      "text/plain": [
       "Filter:   0%|          | 0/10557 [00:00<?, ? examples/s]"
      ]
     },
     "metadata": {},
     "output_type": "display_data"
    },
    {
     "data": {
      "application/vnd.jupyter.widget-view+json": {
       "model_id": "4341a84cf35b4587be34e1f1ef3bea0e",
       "version_major": 2,
       "version_minor": 0
      },
      "text/plain": [
       "Filter:   0%|          | 0/3461 [00:00<?, ? examples/s]"
      ]
     },
     "metadata": {},
     "output_type": "display_data"
    },
    {
     "data": {
      "text/plain": [
       "DatasetDict({\n",
       "    train: Dataset({\n",
       "        features: ['source', 'target'],\n",
       "        num_rows: 89\n",
       "    })\n",
       "    test: Dataset({\n",
       "        features: ['source', 'target'],\n",
       "        num_rows: 58\n",
       "    })\n",
       "    validation: Dataset({\n",
       "        features: ['source', 'target'],\n",
       "        num_rows: 0\n",
       "    })\n",
       "})"
      ]
     },
     "execution_count": 56,
     "metadata": {},
     "output_type": "execute_result"
    }
   ],
   "source": [
    "issue_2 = narrative_data.filter(lambda x: \"â â\" in x[\"source\"])\n",
    "issue_2"
   ]
  },
  {
   "cell_type": "code",
   "execution_count": 57,
   "id": "c57bb3e4-6622-4baf-a9dc-a77f4b435b9a",
   "metadata": {},
   "outputs": [
    {
     "data": {
      "application/vnd.jupyter.widget-view+json": {
       "model_id": "948e7e79882e4f9a9daa9f3d9dd916bf",
       "version_major": 2,
       "version_minor": 0
      },
      "text/plain": [
       "Filter:   0%|          | 0/32747 [00:00<?, ? examples/s]"
      ]
     },
     "metadata": {},
     "output_type": "display_data"
    },
    {
     "data": {
      "application/vnd.jupyter.widget-view+json": {
       "model_id": "b11f6994ef274330bde20291a09920f3",
       "version_major": 2,
       "version_minor": 0
      },
      "text/plain": [
       "Filter:   0%|          | 0/10557 [00:00<?, ? examples/s]"
      ]
     },
     "metadata": {},
     "output_type": "display_data"
    },
    {
     "data": {
      "application/vnd.jupyter.widget-view+json": {
       "model_id": "7c8da5f70895437690c6e9cdeff611fe",
       "version_major": 2,
       "version_minor": 0
      },
      "text/plain": [
       "Filter:   0%|          | 0/3461 [00:00<?, ? examples/s]"
      ]
     },
     "metadata": {},
     "output_type": "display_data"
    },
    {
     "data": {
      "text/plain": [
       "DatasetDict({\n",
       "    train: Dataset({\n",
       "        features: ['source', 'target'],\n",
       "        num_rows: 1932\n",
       "    })\n",
       "    test: Dataset({\n",
       "        features: ['source', 'target'],\n",
       "        num_rows: 627\n",
       "    })\n",
       "    validation: Dataset({\n",
       "        features: ['source', 'target'],\n",
       "        num_rows: 235\n",
       "    })\n",
       "})"
      ]
     },
     "execution_count": 57,
     "metadata": {},
     "output_type": "execute_result"
    }
   ],
   "source": [
    "issue_3 = narrative_data.filter(lambda x: \"â\" in x[\"source\"])\n",
    "issue_3"
   ]
  },
  {
   "cell_type": "code",
   "execution_count": 58,
   "id": "5d9748ee-869d-44b9-9b79-5b965572f747",
   "metadata": {},
   "outputs": [
    {
     "data": {
      "application/vnd.jupyter.widget-view+json": {
       "model_id": "109b4b244edc423e8109697c199ec108",
       "version_major": 2,
       "version_minor": 0
      },
      "text/plain": [
       "Filter:   0%|          | 0/32747 [00:00<?, ? examples/s]"
      ]
     },
     "metadata": {},
     "output_type": "display_data"
    },
    {
     "data": {
      "application/vnd.jupyter.widget-view+json": {
       "model_id": "459ec2f43c66436a813f28e2cd9d37d5",
       "version_major": 2,
       "version_minor": 0
      },
      "text/plain": [
       "Filter:   0%|          | 0/10557 [00:00<?, ? examples/s]"
      ]
     },
     "metadata": {},
     "output_type": "display_data"
    },
    {
     "data": {
      "application/vnd.jupyter.widget-view+json": {
       "model_id": "9aa79c5cce674de18b5e48c74c40fc6a",
       "version_major": 2,
       "version_minor": 0
      },
      "text/plain": [
       "Filter:   0%|          | 0/3461 [00:00<?, ? examples/s]"
      ]
     },
     "metadata": {},
     "output_type": "display_data"
    },
    {
     "data": {
      "text/plain": [
       "DatasetDict({\n",
       "    train: Dataset({\n",
       "        features: ['source', 'target'],\n",
       "        num_rows: 1088\n",
       "    })\n",
       "    test: Dataset({\n",
       "        features: ['source', 'target'],\n",
       "        num_rows: 233\n",
       "    })\n",
       "    validation: Dataset({\n",
       "        features: ['source', 'target'],\n",
       "        num_rows: 59\n",
       "    })\n",
       "})"
      ]
     },
     "execution_count": 58,
     "metadata": {},
     "output_type": "execute_result"
    }
   ],
   "source": [
    "issue_4 = narrative_data.filter(lambda x: \"â\" in x[\"source\"])\n",
    "issue_4"
   ]
  },
  {
   "cell_type": "code",
   "execution_count": 59,
   "id": "983fdba3-1747-4e9e-b440-1235cb99bd1c",
   "metadata": {},
   "outputs": [
    {
     "data": {
      "application/vnd.jupyter.widget-view+json": {
       "model_id": "8c5e3c45a471498c9f49c18c2c439aaf",
       "version_major": 2,
       "version_minor": 0
      },
      "text/plain": [
       "Filter:   0%|          | 0/32747 [00:00<?, ? examples/s]"
      ]
     },
     "metadata": {},
     "output_type": "display_data"
    },
    {
     "data": {
      "application/vnd.jupyter.widget-view+json": {
       "model_id": "a95b867ca0c74bc1a195cbdb348fb77c",
       "version_major": 2,
       "version_minor": 0
      },
      "text/plain": [
       "Filter:   0%|          | 0/10557 [00:00<?, ? examples/s]"
      ]
     },
     "metadata": {},
     "output_type": "display_data"
    },
    {
     "data": {
      "application/vnd.jupyter.widget-view+json": {
       "model_id": "ff7501720c9241a785bf9eeae5c52949",
       "version_major": 2,
       "version_minor": 0
      },
      "text/plain": [
       "Filter:   0%|          | 0/3461 [00:00<?, ? examples/s]"
      ]
     },
     "metadata": {},
     "output_type": "display_data"
    },
    {
     "data": {
      "text/plain": [
       "DatasetDict({\n",
       "    train: Dataset({\n",
       "        features: ['source', 'target'],\n",
       "        num_rows: 148\n",
       "    })\n",
       "    test: Dataset({\n",
       "        features: ['source', 'target'],\n",
       "        num_rows: 119\n",
       "    })\n",
       "    validation: Dataset({\n",
       "        features: ['source', 'target'],\n",
       "        num_rows: 0\n",
       "    })\n",
       "})"
      ]
     },
     "execution_count": 59,
     "metadata": {},
     "output_type": "execute_result"
    }
   ],
   "source": [
    "issue_5 = narrative_data.filter(lambda x: \"â\" in x[\"source\"])\n",
    "issue_5"
   ]
  },
  {
   "cell_type": "code",
   "execution_count": 60,
   "id": "75e8da66-0874-46f4-832c-1c9545eaf703",
   "metadata": {},
   "outputs": [
    {
     "data": {
      "application/vnd.jupyter.widget-view+json": {
       "model_id": "d00646f1791143c9926ce007a37bb1af",
       "version_major": 2,
       "version_minor": 0
      },
      "text/plain": [
       "Filter:   0%|          | 0/32747 [00:00<?, ? examples/s]"
      ]
     },
     "metadata": {},
     "output_type": "display_data"
    },
    {
     "data": {
      "application/vnd.jupyter.widget-view+json": {
       "model_id": "7bb707d3dfb44c6b9a94f6dab9497bac",
       "version_major": 2,
       "version_minor": 0
      },
      "text/plain": [
       "Filter:   0%|          | 0/10557 [00:00<?, ? examples/s]"
      ]
     },
     "metadata": {},
     "output_type": "display_data"
    },
    {
     "data": {
      "application/vnd.jupyter.widget-view+json": {
       "model_id": "e6a1e94a6a1c473c91166f2eb7ff07e0",
       "version_major": 2,
       "version_minor": 0
      },
      "text/plain": [
       "Filter:   0%|          | 0/3461 [00:00<?, ? examples/s]"
      ]
     },
     "metadata": {},
     "output_type": "display_data"
    },
    {
     "data": {
      "text/plain": [
       "DatasetDict({\n",
       "    train: Dataset({\n",
       "        features: ['source', 'target'],\n",
       "        num_rows: 145\n",
       "    })\n",
       "    test: Dataset({\n",
       "        features: ['source', 'target'],\n",
       "        num_rows: 90\n",
       "    })\n",
       "    validation: Dataset({\n",
       "        features: ['source', 'target'],\n",
       "        num_rows: 0\n",
       "    })\n",
       "})"
      ]
     },
     "execution_count": 60,
     "metadata": {},
     "output_type": "execute_result"
    }
   ],
   "source": [
    "issue_6 = narrative_data.filter(lambda x: \"â\" in x[\"source\"])\n",
    "issue_6"
   ]
  },
  {
   "cell_type": "code",
   "execution_count": 61,
   "id": "ceac47a7-905b-40a2-a83c-03eacd57f46c",
   "metadata": {},
   "outputs": [
    {
     "data": {
      "application/vnd.jupyter.widget-view+json": {
       "model_id": "657afd83523d4e648a79438f24121eb1",
       "version_major": 2,
       "version_minor": 0
      },
      "text/plain": [
       "Filter:   0%|          | 0/32747 [00:00<?, ? examples/s]"
      ]
     },
     "metadata": {},
     "output_type": "display_data"
    },
    {
     "data": {
      "application/vnd.jupyter.widget-view+json": {
       "model_id": "8ee5b72f324244bcbfc2f1f2f52ebfa1",
       "version_major": 2,
       "version_minor": 0
      },
      "text/plain": [
       "Filter:   0%|          | 0/10557 [00:00<?, ? examples/s]"
      ]
     },
     "metadata": {},
     "output_type": "display_data"
    },
    {
     "data": {
      "application/vnd.jupyter.widget-view+json": {
       "model_id": "16164fda43c14d9097e435d2156c6c07",
       "version_major": 2,
       "version_minor": 0
      },
      "text/plain": [
       "Filter:   0%|          | 0/3461 [00:00<?, ? examples/s]"
      ]
     },
     "metadata": {},
     "output_type": "display_data"
    },
    {
     "data": {
      "text/plain": [
       "DatasetDict({\n",
       "    train: Dataset({\n",
       "        features: ['source', 'target'],\n",
       "        num_rows: 30\n",
       "    })\n",
       "    test: Dataset({\n",
       "        features: ['source', 'target'],\n",
       "        num_rows: 0\n",
       "    })\n",
       "    validation: Dataset({\n",
       "        features: ['source', 'target'],\n",
       "        num_rows: 0\n",
       "    })\n",
       "})"
      ]
     },
     "execution_count": 61,
     "metadata": {},
     "output_type": "execute_result"
    }
   ],
   "source": [
    "issue_7 = narrative_data.filter(lambda x: \"â˛\" in x[\"source\"])\n",
    "issue_7"
   ]
  },
  {
   "cell_type": "code",
   "execution_count": 62,
   "id": "6dee4974-03cf-4572-8a50-f374f69f3c06",
   "metadata": {},
   "outputs": [
    {
     "data": {
      "application/vnd.jupyter.widget-view+json": {
       "model_id": "e500bf8250394263a7da0666224a0041",
       "version_major": 2,
       "version_minor": 0
      },
      "text/plain": [
       "Filter:   0%|          | 0/32747 [00:00<?, ? examples/s]"
      ]
     },
     "metadata": {},
     "output_type": "display_data"
    },
    {
     "data": {
      "application/vnd.jupyter.widget-view+json": {
       "model_id": "6d5cd5b5b96b40aa82abae92aff26e85",
       "version_major": 2,
       "version_minor": 0
      },
      "text/plain": [
       "Filter:   0%|          | 0/10557 [00:00<?, ? examples/s]"
      ]
     },
     "metadata": {},
     "output_type": "display_data"
    },
    {
     "data": {
      "application/vnd.jupyter.widget-view+json": {
       "model_id": "5a9daf3e68e3463099f977fa927c512a",
       "version_major": 2,
       "version_minor": 0
      },
      "text/plain": [
       "Filter:   0%|          | 0/3461 [00:00<?, ? examples/s]"
      ]
     },
     "metadata": {},
     "output_type": "display_data"
    },
    {
     "data": {
      "text/plain": [
       "DatasetDict({\n",
       "    train: Dataset({\n",
       "        features: ['source', 'target'],\n",
       "        num_rows: 0\n",
       "    })\n",
       "    test: Dataset({\n",
       "        features: ['source', 'target'],\n",
       "        num_rows: 60\n",
       "    })\n",
       "    validation: Dataset({\n",
       "        features: ['source', 'target'],\n",
       "        num_rows: 0\n",
       "    })\n",
       "})"
      ]
     },
     "execution_count": 62,
     "metadata": {},
     "output_type": "execute_result"
    }
   ],
   "source": [
    "issue_8 = narrative_data.filter(lambda x: \"ă\" in x[\"source\"])\n",
    "issue_8"
   ]
  },
  {
   "cell_type": "code",
   "execution_count": 63,
   "id": "8a68ac68-c445-4c45-8f9d-1786262ff303",
   "metadata": {},
   "outputs": [
    {
     "data": {
      "application/vnd.jupyter.widget-view+json": {
       "model_id": "5dac485c858b41388e0a759fa010b5f9",
       "version_major": 2,
       "version_minor": 0
      },
      "text/plain": [
       "Filter:   0%|          | 0/32747 [00:00<?, ? examples/s]"
      ]
     },
     "metadata": {},
     "output_type": "display_data"
    },
    {
     "data": {
      "application/vnd.jupyter.widget-view+json": {
       "model_id": "32377458929b4c3da4feb4e95916ba64",
       "version_major": 2,
       "version_minor": 0
      },
      "text/plain": [
       "Filter:   0%|          | 0/10557 [00:00<?, ? examples/s]"
      ]
     },
     "metadata": {},
     "output_type": "display_data"
    },
    {
     "data": {
      "application/vnd.jupyter.widget-view+json": {
       "model_id": "a9b52c1541384485b939bc8e38884119",
       "version_major": 2,
       "version_minor": 0
      },
      "text/plain": [
       "Filter:   0%|          | 0/3461 [00:00<?, ? examples/s]"
      ]
     },
     "metadata": {},
     "output_type": "display_data"
    },
    {
     "data": {
      "text/plain": [
       "DatasetDict({\n",
       "    train: Dataset({\n",
       "        features: ['source', 'target'],\n",
       "        num_rows: 491\n",
       "    })\n",
       "    test: Dataset({\n",
       "        features: ['source', 'target'],\n",
       "        num_rows: 89\n",
       "    })\n",
       "    validation: Dataset({\n",
       "        features: ['source', 'target'],\n",
       "        num_rows: 60\n",
       "    })\n",
       "})"
      ]
     },
     "execution_count": 63,
     "metadata": {},
     "output_type": "execute_result"
    }
   ],
   "source": [
    "issue_9 = narrative_data.filter(lambda x: \"âł\" in x[\"source\"])\n",
    "issue_9"
   ]
  },
  {
   "cell_type": "code",
   "execution_count": 64,
   "id": "67cd5356-8f9e-406e-9ef5-86c4d1cefc1f",
   "metadata": {},
   "outputs": [
    {
     "data": {
      "application/vnd.jupyter.widget-view+json": {
       "model_id": "d17634e919824ec98b1b8f6892348838",
       "version_major": 2,
       "version_minor": 0
      },
      "text/plain": [
       "Filter:   0%|          | 0/32747 [00:00<?, ? examples/s]"
      ]
     },
     "metadata": {},
     "output_type": "display_data"
    },
    {
     "data": {
      "application/vnd.jupyter.widget-view+json": {
       "model_id": "6c2b5631bb1645e9bb9b0d1657dcea7a",
       "version_major": 2,
       "version_minor": 0
      },
      "text/plain": [
       "Filter:   0%|          | 0/10557 [00:00<?, ? examples/s]"
      ]
     },
     "metadata": {},
     "output_type": "display_data"
    },
    {
     "data": {
      "application/vnd.jupyter.widget-view+json": {
       "model_id": "6a65cd20dff1412587f548cc3c4071c6",
       "version_major": 2,
       "version_minor": 0
      },
      "text/plain": [
       "Filter:   0%|          | 0/3461 [00:00<?, ? examples/s]"
      ]
     },
     "metadata": {},
     "output_type": "display_data"
    },
    {
     "data": {
      "text/plain": [
       "DatasetDict({\n",
       "    train: Dataset({\n",
       "        features: ['source', 'target'],\n",
       "        num_rows: 0\n",
       "    })\n",
       "    test: Dataset({\n",
       "        features: ['source', 'target'],\n",
       "        num_rows: 30\n",
       "    })\n",
       "    validation: Dataset({\n",
       "        features: ['source', 'target'],\n",
       "        num_rows: 0\n",
       "    })\n",
       "})"
      ]
     },
     "execution_count": 64,
     "metadata": {},
     "output_type": "execute_result"
    }
   ],
   "source": [
    "issue_10 = narrative_data.filter(lambda x: \"â\" in x[\"source\"])\n",
    "issue_10"
   ]
  },
  {
   "cell_type": "code",
   "execution_count": 65,
   "id": "bb8f2bd6-d384-4cb4-8a93-e1796b226a5f",
   "metadata": {},
   "outputs": [
    {
     "data": {
      "application/vnd.jupyter.widget-view+json": {
       "model_id": "fb1f89d545c34ee09e4c863f9bdaf0e2",
       "version_major": 2,
       "version_minor": 0
      },
      "text/plain": [
       "Filter:   0%|          | 0/32747 [00:00<?, ? examples/s]"
      ]
     },
     "metadata": {},
     "output_type": "display_data"
    },
    {
     "data": {
      "application/vnd.jupyter.widget-view+json": {
       "model_id": "7be40135aa2a4e1ba6f504ca06cc5bdc",
       "version_major": 2,
       "version_minor": 0
      },
      "text/plain": [
       "Filter:   0%|          | 0/10557 [00:00<?, ? examples/s]"
      ]
     },
     "metadata": {},
     "output_type": "display_data"
    },
    {
     "data": {
      "application/vnd.jupyter.widget-view+json": {
       "model_id": "b593ce08b35c4626afa6073926ec480a",
       "version_major": 2,
       "version_minor": 0
      },
      "text/plain": [
       "Filter:   0%|          | 0/3461 [00:00<?, ? examples/s]"
      ]
     },
     "metadata": {},
     "output_type": "display_data"
    },
    {
     "data": {
      "text/plain": [
       "DatasetDict({\n",
       "    train: Dataset({\n",
       "        features: ['source', 'target'],\n",
       "        num_rows: 60\n",
       "    })\n",
       "    test: Dataset({\n",
       "        features: ['source', 'target'],\n",
       "        num_rows: 29\n",
       "    })\n",
       "    validation: Dataset({\n",
       "        features: ['source', 'target'],\n",
       "        num_rows: 0\n",
       "    })\n",
       "})"
      ]
     },
     "execution_count": 65,
     "metadata": {},
     "output_type": "execute_result"
    }
   ],
   "source": [
    "issue_11 = narrative_data.filter(lambda x: \"ĺ\" in x[\"source\"])\n",
    "issue_11"
   ]
  },
  {
   "cell_type": "code",
   "execution_count": 66,
   "id": "a8b13153-9a37-424f-b6ea-aa6030adb4ee",
   "metadata": {},
   "outputs": [
    {
     "data": {
      "application/vnd.jupyter.widget-view+json": {
       "model_id": "b0d9d5ebfcc54df8bcfc42b7242fb3f3",
       "version_major": 2,
       "version_minor": 0
      },
      "text/plain": [
       "Filter:   0%|          | 0/32747 [00:00<?, ? examples/s]"
      ]
     },
     "metadata": {},
     "output_type": "display_data"
    },
    {
     "data": {
      "application/vnd.jupyter.widget-view+json": {
       "model_id": "cea0a3e0d95a457a88559ff00fce085d",
       "version_major": 2,
       "version_minor": 0
      },
      "text/plain": [
       "Filter:   0%|          | 0/10557 [00:00<?, ? examples/s]"
      ]
     },
     "metadata": {},
     "output_type": "display_data"
    },
    {
     "data": {
      "application/vnd.jupyter.widget-view+json": {
       "model_id": "bdbb203efabb480bb03f70e7440208f7",
       "version_major": 2,
       "version_minor": 0
      },
      "text/plain": [
       "Filter:   0%|          | 0/3461 [00:00<?, ? examples/s]"
      ]
     },
     "metadata": {},
     "output_type": "display_data"
    },
    {
     "data": {
      "text/plain": [
       "DatasetDict({\n",
       "    train: Dataset({\n",
       "        features: ['source', 'target'],\n",
       "        num_rows: 30\n",
       "    })\n",
       "    test: Dataset({\n",
       "        features: ['source', 'target'],\n",
       "        num_rows: 29\n",
       "    })\n",
       "    validation: Dataset({\n",
       "        features: ['source', 'target'],\n",
       "        num_rows: 0\n",
       "    })\n",
       "})"
      ]
     },
     "execution_count": 66,
     "metadata": {},
     "output_type": "execute_result"
    }
   ],
   "source": [
    "issue_12 = narrative_data.filter(lambda x: \"âź\" in x[\"source\"])\n",
    "issue_12"
   ]
  },
  {
   "cell_type": "code",
   "execution_count": 67,
   "id": "07af8d96-bac1-467d-ac67-e690edd175b5",
   "metadata": {},
   "outputs": [
    {
     "data": {
      "application/vnd.jupyter.widget-view+json": {
       "model_id": "587819c1978a4733bc20d850f9c781e0",
       "version_major": 2,
       "version_minor": 0
      },
      "text/plain": [
       "Filter:   0%|          | 0/32747 [00:00<?, ? examples/s]"
      ]
     },
     "metadata": {},
     "output_type": "display_data"
    },
    {
     "data": {
      "application/vnd.jupyter.widget-view+json": {
       "model_id": "b743cd8b7d324560bcd218b79c44d862",
       "version_major": 2,
       "version_minor": 0
      },
      "text/plain": [
       "Filter:   0%|          | 0/10557 [00:00<?, ? examples/s]"
      ]
     },
     "metadata": {},
     "output_type": "display_data"
    },
    {
     "data": {
      "application/vnd.jupyter.widget-view+json": {
       "model_id": "3195385209f6452db1f972471a953d88",
       "version_major": 2,
       "version_minor": 0
      },
      "text/plain": [
       "Filter:   0%|          | 0/3461 [00:00<?, ? examples/s]"
      ]
     },
     "metadata": {},
     "output_type": "display_data"
    },
    {
     "data": {
      "text/plain": [
       "DatasetDict({\n",
       "    train: Dataset({\n",
       "        features: ['source', 'target'],\n",
       "        num_rows: 499\n",
       "    })\n",
       "    test: Dataset({\n",
       "        features: ['source', 'target'],\n",
       "        num_rows: 245\n",
       "    })\n",
       "    validation: Dataset({\n",
       "        features: ['source', 'target'],\n",
       "        num_rows: 60\n",
       "    })\n",
       "})"
      ]
     },
     "execution_count": 67,
     "metadata": {},
     "output_type": "execute_result"
    }
   ],
   "source": [
    "issue_13 = narrative_data.filter(lambda x: \"â \" in x[\"source\"])\n",
    "issue_13"
   ]
  },
  {
   "cell_type": "code",
   "execution_count": 69,
   "id": "70220243-3de2-4830-8460-794ca39840e3",
   "metadata": {},
   "outputs": [
    {
     "name": "stdout",
     "output_type": "stream",
     "text": [
      "Issue 1:\n",
      "\n",
      " he assembles six men from his companyât/sgt.\n",
      " mason contacts o'malley, who supplies him with weapons and tells him that his son is still aliveâo'malley adopted mason's son and sent him to a private school so that he would be out of danger.\n",
      " working for different companies, the \"tin men\" are prepared to do almost anythingâlegal or illegalâto close a sale.\n",
      "\n",
      "\n",
      "Issue 2:\n",
      "\n",
      " ash eventually finds the real one and attempts to say the magic phrase that will allow him to remove the book safelyâ â \"klaatu barada nikto\".\n",
      " there is still left the consolation that a happy end would come for humanity as a wholeâ â though hundreds of years too late for avis and ernest as individuals; the cruel oligarchy would fall, and the two will be vindicated and respected by posterity as pioneers and martyrs.\n",
      " ash eventually finds the real one and attempts to say the magic phrase that will allow him to remove the book safelyâ â \"klaatu barada nikto\".\n",
      "\n",
      "\n",
      "Issue 3:\n",
      "\n",
      " a group of college friends consisted of harvey, nikki, rob, skip, nan, chaz, kit, and archâgather, celebrate spring break by spending the weekend at the island mansion of their friend and skip's sister muffy st.\n",
      " the weylandâyutani commando team arrives, including a man who looks identical to bishop and explains that he is bishop's creator.\n",
      " the narrator devotes many journal entries to describing the wallpaper in the room â its \"yellow\" smell, its \"breakneck\" pattern, the missing patches, and the way it leaves yellow smears on the skin and clothing of anyone who touches it.\n",
      "\n",
      "\n",
      "Issue 4:\n",
      "\n",
      "\" beth replies, \"buck would have never been in the hospital!\" beth and calvin take a trip to see bethâs brother in houston, where calvin confronts beth, calling her out on her attitude.\n",
      " learning the location of the familyâs residence from a hotel porter, he finds the house, only to realize that it would be futile to intrude.\n",
      " brown comes to ask for phoebeâs hand and is turned down without explanation.\n",
      "\n",
      "\n",
      "Issue 5:\n",
      "\n",
      " in 1883, alfred russel wallace wrote a tribute to darwin (entitled 'the debt of science to darwinâ) who had died the year before.\n",
      " as he dies, quaid warns d'amour that âthe puritanâ is coming.\n",
      " the last line is from the receptionist at the bureau: â\"thank you, sir,\" said the hostess.\n",
      "\n",
      "\n",
      "Issue 6:\n",
      "\n",
      " as he dies, quaid warns d'amour that âthe puritanâ is coming.\n",
      " lefty teaches donnie the rules of the mafia and introduces him to several \"made men\" including dominick \"sonny black\" napolitano, and nicholas santora, as well as caporegime alphonse âsonny redâ indelicato to whom lefty owes money and is disliked by sonny black.\n",
      " lefty teaches donnie the rules of the mafia and introduces him to several \"made men\" including dominick \"sonny black\" napolitano, and nicholas santora, as well as caporegime alphonse âsonny redâ indelicato to whom lefty owes money and is disliked by sonny black.\n",
      "\n",
      "\n",
      "Issue 7:\n",
      "\n",
      " in exchange for retrieving the tesseract,â˛ a powerful energy source of unknown potential, the other promises loki an army with which he can subjugate earth.\n",
      " in exchange for retrieving the tesseract,â˛ a powerful energy source of unknown potential, the other promises loki an army with which he can subjugate earth.\n",
      " in exchange for retrieving the tesseract,â˛ a powerful energy source of unknown potential, the other promises loki an army with which he can subjugate earth.\n",
      "\n",
      "\n",
      "Issue 8:\n",
      "\n",
      " the story of the infernal rise of ăvariste gamelin, a young parisian painter, involved in the section for his neighborhood of pont-neuf, the gods are athirst describes the dark years of the reign of terror in paris, from year ii to year iii.\n",
      " he wakes aboard a yacht with the surfer, bodhi (ădgar ramă­rez), and his team roach (clemens schick), chowder (tobias santelmann), and grommet (matias varela).\n",
      " the story of the infernal rise of ăvariste gamelin, a young parisian painter, involved in the section for his neighborhood of pont-neuf, the gods are athirst describes the dark years of the reign of terror in paris, from year ii to year iii.\n",
      "\n",
      "\n",
      "Issue 9:\n",
      "\n",
      " in exchange for retrieving the tesseract,â˛ a powerful energy source of unknown potential, the other promises loki an army with which he can subjugate earth.\n",
      " with use of the potion, he lures auriol into a compact whereby he is given a magnificent mansion in st james's square and âł120,000, in exchange for a female victim whenever rougemont requires one from him.\n",
      " acheson has spent years hunting alexander pearce, a lover of elise, who owes âł744 million in back taxes, and is believed to have received plastic surgery to alter his appearance.\n",
      "\n",
      "\n",
      "Issue 10:\n",
      "\n",
      " once upon a time and a very good time it was there was a moocow coming down along the road and this moocow that was coming down along the road met a nicens little boy named baby tuckooâ .\n",
      " once upon a time and a very good time it was there was a moocow coming down along the road and this moocow that was coming down along the road met a nicens little boy named baby tuckooâ .\n",
      " once upon a time and a very good time it was there was a moocow coming down along the road and this moocow that was coming down along the road met a nicens little boy named baby tuckooâ .\n",
      "\n",
      "\n",
      "Issue 11:\n",
      "\n",
      " the saeki family rose again as ghosts due to their rage and sorrow, notably kayako, who appears as an onryĺ ghost, leaving the curse on the house.\n",
      " the saeki family rose again as ghosts due to their rage and sorrow, notably kayako, who appears as an onryĺ ghost, leaving the curse on the house.\n",
      " in the opening chapter he hurts himself jumping from the second floor of his elementary school, fights the boy next door, and tramples a neighbor's carrot patch by wrestling (sumĺ style) on the straw that covers the seedlings.\n",
      "\n",
      "\n",
      "Issue 12:\n",
      "\n",
      " lenny charges uri âź7,000,000 for the crooked deal; uri has his accountant stella find funds.\n",
      " lenny charges uri âź7,000,000 for the crooked deal; uri has his accountant stella find funds.\n",
      " funding is raised by selling tickets at âź1â billion per person.\n",
      "\n",
      "\n",
      "Issue 13:\n",
      "\n",
      " a 50-foot (15â m) containment wall surrounds the island and routes out of manhattan have been dismantled or mined, while armed helicopters patrol the rivers.\n",
      " buck is then sold to a pair of french-canadian dispatchers from the canadian government, frană§ois and perrault, who take him with them to the klondike region of canada.\n",
      " successful, gabriel offers stanley $10â million to program multi-headed worm, a \"hydra\", to siphon $9.\n",
      "\n",
      "\n"
     ]
    }
   ],
   "source": [
    "for i, issue in enumerate([issue_1, issue_2, issue_3, issue_4, issue_5, issue_6, issue_7, issue_8, issue_9, issue_10, issue_11, issue_12, issue_13]):\n",
    "    concat_dataset = concatenate_datasets(\n",
    "            [issue[\"train\"], issue[\"test\"], issue[\"validation\"]]\n",
    "        )\n",
    "    examples = concat_dataset.shuffle(seed=1).select(range(3))\n",
    "\n",
    "    print(f\"Issue {i+1}:\\n\")\n",
    "    for example in examples:\n",
    "        print([sentence + '.' for sentence in example[\"source\"].split('.') if 'â' in sentence or 'ă' in sentence or 'ĺ' in sentence][0])\n",
    "    print('\\n')\n"
   ]
  },
  {
   "cell_type": "markdown",
   "id": "b1616de4-c735-4f29-8668-80a4258ba391",
   "metadata": {},
   "source": [
    "Looking at the output of the examples for each issue, we should replace the characters with:\n",
    "\n",
    "1. ', '\n",
    "2. ' -'\n",
    "3. '-'\n",
    "4. \"'\"\n",
    "5. ''\n",
    "6. ''\n",
    "7. ''\n",
    "8. 'é'\n",
    "9. '$'\n",
    "10. ''\n",
    "11. 'ō'\n",
    "12. '€'\n",
    "13. '(num)'"
   ]
  },
  {
   "cell_type": "code",
   "execution_count": 8,
   "id": "2124c093-59d8-4d42-9613-3d0ff27efb21",
   "metadata": {},
   "outputs": [
    {
     "ename": "error",
     "evalue": "invalid group reference 2 at position 1",
     "output_type": "error",
     "traceback": [
      "\u001b[0;31m---------------------------------------------------------------------------\u001b[0m",
      "\u001b[0;31merror\u001b[0m                                     Traceback (most recent call last)",
      "Cell \u001b[0;32mIn[8], line 13\u001b[0m\n\u001b[1;32m     10\u001b[0m pattern \u001b[38;5;241m=\u001b[39m \u001b[38;5;124mr\u001b[39m\u001b[38;5;124m'\u001b[39m\u001b[38;5;124m(\u001b[39m\u001b[38;5;124m\\\u001b[39m\u001b[38;5;124md+)â\u001b[39m\u001b[38;5;124m'\u001b[39m  \u001b[38;5;66;03m# This pattern matches one or more digits followed by an accented 'a'\u001b[39;00m\n\u001b[1;32m     12\u001b[0m \u001b[38;5;66;03m# Use re.sub() to perform the replacement\u001b[39;00m\n\u001b[0;32m---> 13\u001b[0m new_text \u001b[38;5;241m=\u001b[39m \u001b[43mre\u001b[49m\u001b[38;5;241;43m.\u001b[39;49m\u001b[43msub\u001b[49m\u001b[43m(\u001b[49m\u001b[43mpattern\u001b[49m\u001b[43m,\u001b[49m\u001b[43m \u001b[49m\u001b[38;5;124;43mr\u001b[39;49m\u001b[38;5;124;43m'\u001b[39;49m\u001b[38;5;124;43m\\\u001b[39;49m\u001b[38;5;124;43m2\u001b[39;49m\u001b[38;5;124;43m'\u001b[39;49m\u001b[43m,\u001b[49m\u001b[43m \u001b[49m\u001b[43mtext\u001b[49m\u001b[43m)\u001b[49m\n\u001b[1;32m     15\u001b[0m \u001b[38;5;28mprint\u001b[39m(new_text)\n",
      "File \u001b[0;32m~/anaconda3/lib/python3.11/re/__init__.py:185\u001b[0m, in \u001b[0;36msub\u001b[0;34m(pattern, repl, string, count, flags)\u001b[0m\n\u001b[1;32m    178\u001b[0m \u001b[38;5;28;01mdef\u001b[39;00m \u001b[38;5;21msub\u001b[39m(pattern, repl, string, count\u001b[38;5;241m=\u001b[39m\u001b[38;5;241m0\u001b[39m, flags\u001b[38;5;241m=\u001b[39m\u001b[38;5;241m0\u001b[39m):\n\u001b[1;32m    179\u001b[0m \u001b[38;5;250m    \u001b[39m\u001b[38;5;124;03m\"\"\"Return the string obtained by replacing the leftmost\u001b[39;00m\n\u001b[1;32m    180\u001b[0m \u001b[38;5;124;03m    non-overlapping occurrences of the pattern in string by the\u001b[39;00m\n\u001b[1;32m    181\u001b[0m \u001b[38;5;124;03m    replacement repl.  repl can be either a string or a callable;\u001b[39;00m\n\u001b[1;32m    182\u001b[0m \u001b[38;5;124;03m    if a string, backslash escapes in it are processed.  If it is\u001b[39;00m\n\u001b[1;32m    183\u001b[0m \u001b[38;5;124;03m    a callable, it's passed the Match object and must return\u001b[39;00m\n\u001b[1;32m    184\u001b[0m \u001b[38;5;124;03m    a replacement string to be used.\"\"\"\u001b[39;00m\n\u001b[0;32m--> 185\u001b[0m     \u001b[38;5;28;01mreturn\u001b[39;00m \u001b[43m_compile\u001b[49m\u001b[43m(\u001b[49m\u001b[43mpattern\u001b[49m\u001b[43m,\u001b[49m\u001b[43m \u001b[49m\u001b[43mflags\u001b[49m\u001b[43m)\u001b[49m\u001b[38;5;241;43m.\u001b[39;49m\u001b[43msub\u001b[49m\u001b[43m(\u001b[49m\u001b[43mrepl\u001b[49m\u001b[43m,\u001b[49m\u001b[43m \u001b[49m\u001b[43mstring\u001b[49m\u001b[43m,\u001b[49m\u001b[43m \u001b[49m\u001b[43mcount\u001b[49m\u001b[43m)\u001b[49m\n",
      "File \u001b[0;32m~/anaconda3/lib/python3.11/re/__init__.py:317\u001b[0m, in \u001b[0;36m_subx\u001b[0;34m(pattern, template)\u001b[0m\n\u001b[1;32m    315\u001b[0m \u001b[38;5;28;01mdef\u001b[39;00m \u001b[38;5;21m_subx\u001b[39m(pattern, template):\n\u001b[1;32m    316\u001b[0m     \u001b[38;5;66;03m# internal: Pattern.sub/subn implementation helper\u001b[39;00m\n\u001b[0;32m--> 317\u001b[0m     template \u001b[38;5;241m=\u001b[39m \u001b[43m_compile_repl\u001b[49m\u001b[43m(\u001b[49m\u001b[43mtemplate\u001b[49m\u001b[43m,\u001b[49m\u001b[43m \u001b[49m\u001b[43mpattern\u001b[49m\u001b[43m)\u001b[49m\n\u001b[1;32m    318\u001b[0m     \u001b[38;5;28;01mif\u001b[39;00m \u001b[38;5;129;01mnot\u001b[39;00m template[\u001b[38;5;241m0\u001b[39m] \u001b[38;5;129;01mand\u001b[39;00m \u001b[38;5;28mlen\u001b[39m(template[\u001b[38;5;241m1\u001b[39m]) \u001b[38;5;241m==\u001b[39m \u001b[38;5;241m1\u001b[39m:\n\u001b[1;32m    319\u001b[0m         \u001b[38;5;66;03m# literal replacement\u001b[39;00m\n\u001b[1;32m    320\u001b[0m         \u001b[38;5;28;01mreturn\u001b[39;00m template[\u001b[38;5;241m1\u001b[39m][\u001b[38;5;241m0\u001b[39m]\n",
      "File \u001b[0;32m~/anaconda3/lib/python3.11/re/__init__.py:308\u001b[0m, in \u001b[0;36m_compile_repl\u001b[0;34m(repl, pattern)\u001b[0m\n\u001b[1;32m    305\u001b[0m \u001b[38;5;129m@functools\u001b[39m\u001b[38;5;241m.\u001b[39mlru_cache(_MAXCACHE)\n\u001b[1;32m    306\u001b[0m \u001b[38;5;28;01mdef\u001b[39;00m \u001b[38;5;21m_compile_repl\u001b[39m(repl, pattern):\n\u001b[1;32m    307\u001b[0m     \u001b[38;5;66;03m# internal: compile replacement pattern\u001b[39;00m\n\u001b[0;32m--> 308\u001b[0m     \u001b[38;5;28;01mreturn\u001b[39;00m \u001b[43m_parser\u001b[49m\u001b[38;5;241;43m.\u001b[39;49m\u001b[43mparse_template\u001b[49m\u001b[43m(\u001b[49m\u001b[43mrepl\u001b[49m\u001b[43m,\u001b[49m\u001b[43m \u001b[49m\u001b[43mpattern\u001b[49m\u001b[43m)\u001b[49m\n",
      "File \u001b[0;32m~/anaconda3/lib/python3.11/re/_parser.py:1074\u001b[0m, in \u001b[0;36mparse_template\u001b[0;34m(source, state)\u001b[0m\n\u001b[1;32m   1072\u001b[0m             lappend(\u001b[38;5;28mchr\u001b[39m(c))\n\u001b[1;32m   1073\u001b[0m     \u001b[38;5;28;01mif\u001b[39;00m \u001b[38;5;129;01mnot\u001b[39;00m isoctal:\n\u001b[0;32m-> 1074\u001b[0m         \u001b[43maddgroup\u001b[49m\u001b[43m(\u001b[49m\u001b[38;5;28;43mint\u001b[39;49m\u001b[43m(\u001b[49m\u001b[43mthis\u001b[49m\u001b[43m[\u001b[49m\u001b[38;5;241;43m1\u001b[39;49m\u001b[43m:\u001b[49m\u001b[43m]\u001b[49m\u001b[43m)\u001b[49m\u001b[43m,\u001b[49m\u001b[43m \u001b[49m\u001b[38;5;28;43mlen\u001b[39;49m\u001b[43m(\u001b[49m\u001b[43mthis\u001b[49m\u001b[43m)\u001b[49m\u001b[43m \u001b[49m\u001b[38;5;241;43m-\u001b[39;49m\u001b[43m \u001b[49m\u001b[38;5;241;43m1\u001b[39;49m\u001b[43m)\u001b[49m\n\u001b[1;32m   1075\u001b[0m \u001b[38;5;28;01melse\u001b[39;00m:\n\u001b[1;32m   1076\u001b[0m     \u001b[38;5;28;01mtry\u001b[39;00m:\n",
      "File \u001b[0;32m~/anaconda3/lib/python3.11/re/_parser.py:1010\u001b[0m, in \u001b[0;36mparse_template.<locals>.addgroup\u001b[0;34m(index, pos)\u001b[0m\n\u001b[1;32m   1008\u001b[0m \u001b[38;5;28;01mdef\u001b[39;00m \u001b[38;5;21maddgroup\u001b[39m(index, pos):\n\u001b[1;32m   1009\u001b[0m     \u001b[38;5;28;01mif\u001b[39;00m index \u001b[38;5;241m>\u001b[39m state\u001b[38;5;241m.\u001b[39mgroups:\n\u001b[0;32m-> 1010\u001b[0m         \u001b[38;5;28;01mraise\u001b[39;00m s\u001b[38;5;241m.\u001b[39merror(\u001b[38;5;124m\"\u001b[39m\u001b[38;5;124minvalid group reference \u001b[39m\u001b[38;5;132;01m%d\u001b[39;00m\u001b[38;5;124m\"\u001b[39m \u001b[38;5;241m%\u001b[39m index, pos)\n\u001b[1;32m   1011\u001b[0m     \u001b[38;5;28;01mif\u001b[39;00m literal:\n\u001b[1;32m   1012\u001b[0m         literals\u001b[38;5;241m.\u001b[39mappend(\u001b[38;5;124m'\u001b[39m\u001b[38;5;124m'\u001b[39m\u001b[38;5;241m.\u001b[39mjoin(literal))\n",
      "\u001b[0;31merror\u001b[0m: invalid group reference 2 at position 1"
     ]
    }
   ],
   "source": [
    "text = \"\"\"\n",
    "a 50-foot (asd15â m) containment wall surrounds the island and routes out of manhattan have been dismantled or mined, while armed helicopters patrol the rivers.\n",
    " buck is then sold to a pair of french-canadian dispatchers from the canadian government, frană§ois and perrault, who take him with them to the klondike region of canada.\n",
    " successful, gabriel offers stanley $10â million to program multi-headed worm, a \"hydra\", to siphon $9.\n",
    "\"\"\"\n",
    "\n",
    "import re\n",
    "\n",
    "# Define the regular expression pattern\n",
    "pattern = r'(\\d+)â'  # This pattern matches one or more digits followed by an accented 'a'\n",
    "\n",
    "# Use re.sub() to perform the replacement\n",
    "new_text = re.sub(pattern, r'\\1', text)\n",
    "\n",
    "print(new_text)"
   ]
  }
 ],
 "metadata": {
  "kernelspec": {
   "display_name": "Python 3 (ipykernel)",
   "language": "python",
   "name": "python3"
  },
  "language_info": {
   "codemirror_mode": {
    "name": "ipython",
    "version": 3
   },
   "file_extension": ".py",
   "mimetype": "text/x-python",
   "name": "python",
   "nbconvert_exporter": "python",
   "pygments_lexer": "ipython3",
   "version": "3.11.5"
  }
 },
 "nbformat": 4,
 "nbformat_minor": 5
}
