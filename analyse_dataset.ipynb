{
 "cells": [
  {
   "cell_type": "code",
   "execution_count": 56,
   "metadata": {},
   "outputs": [],
   "source": [
    "from dataclasses import dataclass, field\n",
    "import os\n",
    "from datasets import load_dataset, concatenate_datasets\n",
    "from transformers import set_seed, HfArgumentParser"
   ]
  },
  {
   "cell_type": "code",
   "execution_count": 57,
   "metadata": {},
   "outputs": [],
   "source": [
    "def contain_question_mark(data):\n",
    "    return data[\"target\"][-1].rstrip() == \"?\"\n",
    "\n",
    "def contain_unique_question_context(data, unique_sources):\n",
    "    if data[\"source\"] not in unique_sources:\n",
    "        unique_sources.add(data[\"source\"])\n",
    "        return True\n",
    "    return False\n",
    "\n",
    "def normalise(data):\n",
    "    # Lowercase the text\n",
    "    data[\"source\"] = data[\"source\"].lower()\n",
    "    data[\"target\"] = data[\"target\"].lower()\n",
    "\n",
    "    # Remove new line characters\n",
    "    data[\"source\"] = data[\"source\"].replace(\"\\n\", \" \")\n",
    "\n",
    "    return data\n",
    "\n",
    "def categorise_dataset(data):\n",
    "    if any(word in data['target'] for word in [\"what\"]):\n",
    "        data['category'] = \"description\"\n",
    "    elif any(word in data['target'] for word in [\"where\", \"when\", \"who\", \"how many\", \"how much\", \"which\", \"how long\"]):\n",
    "        data['category'] = \"recall\" \n",
    "    elif any(word in data['target'] for word in [\"how did\", \"how does\", \"how do\", \"compute\", \"calculate\"]):\n",
    "        data['category'] = \"method\"\n",
    "    elif any(word in data['target'] for word in [\"why\"]):\n",
    "        data['category'] = \"explanation\"\n",
    "    elif any(word in data['target'] for word in [\"compare\", \"difference\"]):\n",
    "        data['category'] = \"comparison\" \n",
    "    \n",
    "\n",
    "    return data\n",
    "\n",
    "def print_distribution(dataset):\n",
    "    method_ds = dataset.filter(lambda data: data[\"category\"] == \"method\")\n",
    "    description_ds = dataset.filter(lambda data: data[\"category\"] == \"description\")\n",
    "    explanation_ds = dataset.filter(lambda data: data[\"category\"] == \"explanation\")\n",
    "    comparison_ds = dataset.filter(lambda data: data[\"category\"] == \"comparison\")\n",
    "    recall_ds = dataset.filter(lambda data: data[\"category\"] == \"recall\")\n",
    "\n",
    "    na_ds = dataset.filter(lambda data: data[\"category\"] == \"NA\")\n",
    "\n",
    "\n",
    "    print(\"description distribution =\" + str( len(description_ds) / len(dataset) * 100) + \"%, count = \" + str(len(description_ds)))\n",
    "    print(\"recall distribution = \" + str( len(recall_ds) / len(dataset) * 100) + \"%, count = \" + str(len(recall_ds)))\n",
    "    print(\"explanation distribution = \" + str( len(explanation_ds) / len(dataset) * 100) + \"%, count = \" + str(len(explanation_ds)))\n",
    "    print(\"method distribution = \" + str( len(method_ds) / len(dataset) * 100) + \"%, count = \" + str(len(method_ds)))\n",
    "    print(\"comparison distribution = \" + str( len(comparison_ds) / len(dataset) * 100) + \"%, count = \" + str(len(comparison_ds)))\n",
    "    print(\"na distribution = \" + str( len(na_ds) / len(dataset) * 100) + \"%, count = \" + str(len(na_ds)))\n",
    "\n",
    "    comparison_ds.to_csv(\"data/comparison.csv\")\n",
    "    description_ds.to_csv(\"data/description.csv\")\n",
    "    recall_ds.to_csv(\"data/recall.csv\")\n",
    "    na_ds.to_csv(\"data/na.csv\")\n",
    "\n",
    "\n",
    "\n",
    "\n"
   ]
  },
  {
   "cell_type": "code",
   "execution_count": 58,
   "metadata": {},
   "outputs": [
    {
     "data": {
      "application/vnd.jupyter.widget-view+json": {
       "model_id": "42ce811e07a34394a24804667d8014b1",
       "version_major": 2,
       "version_minor": 0
      },
      "text/plain": [
       "Downloading readme:   0%|          | 0.00/7.02k [00:00<?, ?B/s]"
      ]
     },
     "metadata": {},
     "output_type": "display_data"
    },
    {
     "data": {
      "application/vnd.jupyter.widget-view+json": {
       "model_id": "259989e54507434ab885d07568652f10",
       "version_major": 2,
       "version_minor": 0
      },
      "text/plain": [
       "Downloading data:   0%|          | 0.00/3.99M [00:00<?, ?B/s]"
      ]
     },
     "metadata": {},
     "output_type": "display_data"
    },
    {
     "data": {
      "application/vnd.jupyter.widget-view+json": {
       "model_id": "d80cd732ee104fd69c71074e2aaf55c8",
       "version_major": 2,
       "version_minor": 0
      },
      "text/plain": [
       "Downloading data:   0%|          | 0.00/339k [00:00<?, ?B/s]"
      ]
     },
     "metadata": {},
     "output_type": "display_data"
    },
    {
     "data": {
      "application/vnd.jupyter.widget-view+json": {
       "model_id": "f18214a85f5b4f79b8257d810e2d6e14",
       "version_major": 2,
       "version_minor": 0
      },
      "text/plain": [
       "Downloading data:   0%|          | 0.00/343k [00:00<?, ?B/s]"
      ]
     },
     "metadata": {},
     "output_type": "display_data"
    },
    {
     "data": {
      "application/vnd.jupyter.widget-view+json": {
       "model_id": "dafe38e47ac94a71a35d3601bad75ab5",
       "version_major": 2,
       "version_minor": 0
      },
      "text/plain": [
       "Generating train split:   0%|          | 0/11679 [00:00<?, ? examples/s]"
      ]
     },
     "metadata": {},
     "output_type": "display_data"
    },
    {
     "data": {
      "application/vnd.jupyter.widget-view+json": {
       "model_id": "320c9c8aa67645818ea2919a826d0101",
       "version_major": 2,
       "version_minor": 0
      },
      "text/plain": [
       "Generating validation split:   0%|          | 0/1000 [00:00<?, ? examples/s]"
      ]
     },
     "metadata": {},
     "output_type": "display_data"
    },
    {
     "data": {
      "application/vnd.jupyter.widget-view+json": {
       "model_id": "b16192ef6461489cbd12ab0fdf48e60d",
       "version_major": 2,
       "version_minor": 0
      },
      "text/plain": [
       "Generating test split:   0%|          | 0/1000 [00:00<?, ? examples/s]"
      ]
     },
     "metadata": {},
     "output_type": "display_data"
    },
    {
     "data": {
      "application/vnd.jupyter.widget-view+json": {
       "model_id": "3e39920ca38e472e9a1aa41091fe2480",
       "version_major": 2,
       "version_minor": 0
      },
      "text/plain": [
       "Filter:   0%|          | 0/13679 [00:00<?, ? examples/s]"
      ]
     },
     "metadata": {},
     "output_type": "display_data"
    },
    {
     "data": {
      "application/vnd.jupyter.widget-view+json": {
       "model_id": "d1a5865f56ef49a7bc9a8b093707379b",
       "version_major": 2,
       "version_minor": 0
      },
      "text/plain": [
       "Map:   0%|          | 0/13525 [00:00<?, ? examples/s]"
      ]
     },
     "metadata": {},
     "output_type": "display_data"
    },
    {
     "data": {
      "application/vnd.jupyter.widget-view+json": {
       "model_id": "06a663d82afd4f718c6e397632242209",
       "version_major": 2,
       "version_minor": 0
      },
      "text/plain": [
       "Map:   0%|          | 0/13525 [00:00<?, ? examples/s]"
      ]
     },
     "metadata": {},
     "output_type": "display_data"
    }
   ],
   "source": [
    "sciq_data = (\n",
    "        load_dataset(\"sciq\", split=\"train+validation+test\")\n",
    "        .select_columns([\"support\", \"question\"])\n",
    "        .rename_columns({\"support\": \"source\", \"question\": \"target\"})\n",
    "    )\n",
    "\n",
    "dataset = concatenate_datasets(\n",
    "  [sciq_data]\n",
    ")\n",
    "\n",
    "dataset = dataset.filter(contain_question_mark)\n",
    "unique_sources = set()\n",
    "\n",
    "dataset = dataset.map(normalise)\n",
    "\n",
    "# add column to dataset for taxonomy\n",
    "dataset = dataset.add_column(\"category\", [\"NA\"] * len(dataset))\n",
    "\n",
    "dataset = dataset.map(categorise_dataset)\n"
   ]
  },
  {
   "cell_type": "code",
   "execution_count": 59,
   "metadata": {},
   "outputs": [
    {
     "data": {
      "application/vnd.jupyter.widget-view+json": {
       "model_id": "07a0a215ce2247209d8bdcd83f1b7955",
       "version_major": 2,
       "version_minor": 0
      },
      "text/plain": [
       "Filter:   0%|          | 0/13525 [00:00<?, ? examples/s]"
      ]
     },
     "metadata": {},
     "output_type": "display_data"
    },
    {
     "data": {
      "application/vnd.jupyter.widget-view+json": {
       "model_id": "cfacd6d2422b4fec9cdccfa169a0ff38",
       "version_major": 2,
       "version_minor": 0
      },
      "text/plain": [
       "Filter:   0%|          | 0/13525 [00:00<?, ? examples/s]"
      ]
     },
     "metadata": {},
     "output_type": "display_data"
    },
    {
     "data": {
      "application/vnd.jupyter.widget-view+json": {
       "model_id": "13e4ac77744d45abb229fc860ff8a14c",
       "version_major": 2,
       "version_minor": 0
      },
      "text/plain": [
       "Filter:   0%|          | 0/13525 [00:00<?, ? examples/s]"
      ]
     },
     "metadata": {},
     "output_type": "display_data"
    },
    {
     "data": {
      "application/vnd.jupyter.widget-view+json": {
       "model_id": "396cc4a7609d4f7cb25366380b7e5e29",
       "version_major": 2,
       "version_minor": 0
      },
      "text/plain": [
       "Filter:   0%|          | 0/13525 [00:00<?, ? examples/s]"
      ]
     },
     "metadata": {},
     "output_type": "display_data"
    },
    {
     "data": {
      "application/vnd.jupyter.widget-view+json": {
       "model_id": "e69c0067bb6843fd86465c050355cfa7",
       "version_major": 2,
       "version_minor": 0
      },
      "text/plain": [
       "Filter:   0%|          | 0/13525 [00:00<?, ? examples/s]"
      ]
     },
     "metadata": {},
     "output_type": "display_data"
    },
    {
     "data": {
      "application/vnd.jupyter.widget-view+json": {
       "model_id": "256956027eec428da37388bb56cd2dbd",
       "version_major": 2,
       "version_minor": 0
      },
      "text/plain": [
       "Filter:   0%|          | 0/13525 [00:00<?, ? examples/s]"
      ]
     },
     "metadata": {},
     "output_type": "display_data"
    },
    {
     "name": "stdout",
     "output_type": "stream",
     "text": [
      "description distribution =84.06654343807763%, count = 11370\n",
      "recall distribution = 10.402957486136783%, count = 1407\n",
      "explanation distribution = 0.48798521256931615%, count = 66\n",
      "method distribution = 0.7837338262476895%, count = 106\n",
      "comparison distribution = 0.04436229205175601%, count = 6\n",
      "na distribution = 4.214417744916821%, count = 570\n"
     ]
    },
    {
     "data": {
      "application/vnd.jupyter.widget-view+json": {
       "model_id": "d355f28aaf384f509caea27257960256",
       "version_major": 2,
       "version_minor": 0
      },
      "text/plain": [
       "Creating CSV from Arrow format:   0%|          | 0/1 [00:00<?, ?ba/s]"
      ]
     },
     "metadata": {},
     "output_type": "display_data"
    },
    {
     "data": {
      "application/vnd.jupyter.widget-view+json": {
       "model_id": "dae43de34dd446cf83a98dcc6ddb71f7",
       "version_major": 2,
       "version_minor": 0
      },
      "text/plain": [
       "Creating CSV from Arrow format:   0%|          | 0/12 [00:00<?, ?ba/s]"
      ]
     },
     "metadata": {},
     "output_type": "display_data"
    },
    {
     "data": {
      "application/vnd.jupyter.widget-view+json": {
       "model_id": "cae8e11777754ee1900e939809156e6a",
       "version_major": 2,
       "version_minor": 0
      },
      "text/plain": [
       "Creating CSV from Arrow format:   0%|          | 0/2 [00:00<?, ?ba/s]"
      ]
     },
     "metadata": {},
     "output_type": "display_data"
    },
    {
     "data": {
      "application/vnd.jupyter.widget-view+json": {
       "model_id": "928a7d98f95948cf836de477f2999e55",
       "version_major": 2,
       "version_minor": 0
      },
      "text/plain": [
       "Creating CSV from Arrow format:   0%|          | 0/1 [00:00<?, ?ba/s]"
      ]
     },
     "metadata": {},
     "output_type": "display_data"
    },
    {
     "data": {
      "application/vnd.jupyter.widget-view+json": {
       "model_id": "38fed1665ff14954becceb0e7714f2bb",
       "version_major": 2,
       "version_minor": 0
      },
      "text/plain": [
       "Creating CSV from Arrow format:   0%|          | 0/14 [00:00<?, ?ba/s]"
      ]
     },
     "metadata": {},
     "output_type": "display_data"
    },
    {
     "data": {
      "text/plain": [
       "6883171"
      ]
     },
     "execution_count": 59,
     "metadata": {},
     "output_type": "execute_result"
    }
   ],
   "source": [
    "print_distribution(dataset)\n",
    "\n",
    "\n",
    "\n",
    "dataset.to_csv(\"data/dataset_tax.csv\")\n"
   ]
  },
  {
   "cell_type": "code",
   "execution_count": null,
   "metadata": {},
   "outputs": [],
   "source": [
    "\n"
   ]
  }
 ],
 "metadata": {
  "kernelspec": {
   "display_name": ".venv",
   "language": "python",
   "name": "python3"
  },
  "language_info": {
   "codemirror_mode": {
    "name": "ipython",
    "version": 3
   },
   "file_extension": ".py",
   "mimetype": "text/x-python",
   "name": "python",
   "nbconvert_exporter": "python",
   "pygments_lexer": "ipython3",
   "version": "3.11.5"
  }
 },
 "nbformat": 4,
 "nbformat_minor": 2
}
