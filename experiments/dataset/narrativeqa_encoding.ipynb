{
 "cells": [
  {
   "cell_type": "code",
   "execution_count": 1,
   "id": "f956d759-d50d-4028-8b48-609805a52c6d",
   "metadata": {},
   "outputs": [],
   "source": [
    "from datasets import load_dataset, concatenate_datasets"
   ]
  },
  {
   "cell_type": "code",
   "execution_count": 2,
   "id": "89718f8e-6e23-4e12-9791-7f8b0244ffa4",
   "metadata": {},
   "outputs": [],
   "source": [
    "narrative_data = (\n",
    "    load_dataset(\"narrativeqa\", trust_remote_code=True)\n",
    "    .select_columns([\"document\", \"question\"])\n",
    "    .map(\n",
    "        lambda x: {\n",
    "            \"document\": x[\"document\"][\"summary\"][\"text\"],\n",
    "            \"question\": x[\"question\"][\"text\"],\n",
    "        }\n",
    "    )\n",
    "    .rename_columns({\"document\": \"source\", \"question\": \"target\"})\n",
    ")"
   ]
  },
  {
   "cell_type": "code",
   "execution_count": 19,
   "id": "e2f9190f-4c0e-4830-ab5d-7fea2bccdf1d",
   "metadata": {},
   "outputs": [
    {
     "data": {
      "text/plain": [
       "DatasetDict({\n",
       "    train: Dataset({\n",
       "        features: ['source', 'target'],\n",
       "        num_rows: 3371\n",
       "    })\n",
       "    test: Dataset({\n",
       "        features: ['source', 'target'],\n",
       "        num_rows: 1085\n",
       "    })\n",
       "    validation: Dataset({\n",
       "        features: ['source', 'target'],\n",
       "        num_rows: 276\n",
       "    })\n",
       "})"
      ]
     },
     "execution_count": 19,
     "metadata": {},
     "output_type": "execute_result"
    }
   ],
   "source": [
    "issue_1 = narrative_data.filter(lambda x: \"â\\x80\\x94\" in x[\"source\"])\n",
    "issue_1"
   ]
  },
  {
   "cell_type": "code",
   "execution_count": 28,
   "id": "972f91dc-c38e-42f9-83ce-641bf03566af",
   "metadata": {},
   "outputs": [
    {
     "data": {
      "application/vnd.jupyter.widget-view+json": {
       "model_id": "73756067fa114e4d9a828621cc45fc87",
       "version_major": 2,
       "version_minor": 0
      },
      "text/plain": [
       "Filter:   0%|          | 0/32747 [00:00<?, ? examples/s]"
      ]
     },
     "metadata": {},
     "output_type": "display_data"
    },
    {
     "data": {
      "application/vnd.jupyter.widget-view+json": {
       "model_id": "a50ca26e02034cbc9a502ff3831adf88",
       "version_major": 2,
       "version_minor": 0
      },
      "text/plain": [
       "Filter:   0%|          | 0/10557 [00:00<?, ? examples/s]"
      ]
     },
     "metadata": {},
     "output_type": "display_data"
    },
    {
     "data": {
      "application/vnd.jupyter.widget-view+json": {
       "model_id": "e90131fb26be47a2a0675cc739b79706",
       "version_major": 2,
       "version_minor": 0
      },
      "text/plain": [
       "Filter:   0%|          | 0/3461 [00:00<?, ? examples/s]"
      ]
     },
     "metadata": {},
     "output_type": "display_data"
    },
    {
     "data": {
      "text/plain": [
       "DatasetDict({\n",
       "    train: Dataset({\n",
       "        features: ['source', 'target'],\n",
       "        num_rows: 89\n",
       "    })\n",
       "    test: Dataset({\n",
       "        features: ['source', 'target'],\n",
       "        num_rows: 58\n",
       "    })\n",
       "    validation: Dataset({\n",
       "        features: ['source', 'target'],\n",
       "        num_rows: 0\n",
       "    })\n",
       "})"
      ]
     },
     "execution_count": 28,
     "metadata": {},
     "output_type": "execute_result"
    }
   ],
   "source": [
    "issue_2 = narrative_data.filter(lambda x: \"Â\\xa0â\\x80\\x93\" in x[\"source\"])\n",
    "issue_2"
   ]
  },
  {
   "cell_type": "code",
   "execution_count": 31,
   "id": "c57bb3e4-6622-4baf-a9dc-a77f4b435b9a",
   "metadata": {},
   "outputs": [
    {
     "data": {
      "application/vnd.jupyter.widget-view+json": {
       "model_id": "09ed1a1ef7a84f45b36518141e1453cd",
       "version_major": 2,
       "version_minor": 0
      },
      "text/plain": [
       "Filter:   0%|          | 0/32747 [00:00<?, ? examples/s]"
      ]
     },
     "metadata": {},
     "output_type": "display_data"
    },
    {
     "data": {
      "application/vnd.jupyter.widget-view+json": {
       "model_id": "1f7a86c9a1144235aaa3737be71d8ed7",
       "version_major": 2,
       "version_minor": 0
      },
      "text/plain": [
       "Filter:   0%|          | 0/10557 [00:00<?, ? examples/s]"
      ]
     },
     "metadata": {},
     "output_type": "display_data"
    },
    {
     "data": {
      "application/vnd.jupyter.widget-view+json": {
       "model_id": "3ba5882bcc71413e8282817e88c43049",
       "version_major": 2,
       "version_minor": 0
      },
      "text/plain": [
       "Filter:   0%|          | 0/3461 [00:00<?, ? examples/s]"
      ]
     },
     "metadata": {},
     "output_type": "display_data"
    },
    {
     "data": {
      "text/plain": [
       "DatasetDict({\n",
       "    train: Dataset({\n",
       "        features: ['source', 'target'],\n",
       "        num_rows: 1932\n",
       "    })\n",
       "    test: Dataset({\n",
       "        features: ['source', 'target'],\n",
       "        num_rows: 627\n",
       "    })\n",
       "    validation: Dataset({\n",
       "        features: ['source', 'target'],\n",
       "        num_rows: 235\n",
       "    })\n",
       "})"
      ]
     },
     "execution_count": 31,
     "metadata": {},
     "output_type": "execute_result"
    }
   ],
   "source": [
    "issue_3 = narrative_data.filter(lambda x: \"â\\x80\\x93\" in x[\"source\"])\n",
    "issue_3"
   ]
  },
  {
   "cell_type": "code",
   "execution_count": 30,
   "id": "5d9748ee-869d-44b9-9b79-5b965572f747",
   "metadata": {},
   "outputs": [
    {
     "data": {
      "application/vnd.jupyter.widget-view+json": {
       "model_id": "46f1b6e0386e4754831e041cca32091b",
       "version_major": 2,
       "version_minor": 0
      },
      "text/plain": [
       "Filter:   0%|          | 0/32747 [00:00<?, ? examples/s]"
      ]
     },
     "metadata": {},
     "output_type": "display_data"
    },
    {
     "data": {
      "application/vnd.jupyter.widget-view+json": {
       "model_id": "021b97935a1d4128befca25c514af322",
       "version_major": 2,
       "version_minor": 0
      },
      "text/plain": [
       "Filter:   0%|          | 0/10557 [00:00<?, ? examples/s]"
      ]
     },
     "metadata": {},
     "output_type": "display_data"
    },
    {
     "data": {
      "application/vnd.jupyter.widget-view+json": {
       "model_id": "11dcfd3f352943fc94f749e08e2d6f22",
       "version_major": 2,
       "version_minor": 0
      },
      "text/plain": [
       "Filter:   0%|          | 0/3461 [00:00<?, ? examples/s]"
      ]
     },
     "metadata": {},
     "output_type": "display_data"
    },
    {
     "data": {
      "text/plain": [
       "DatasetDict({\n",
       "    train: Dataset({\n",
       "        features: ['source', 'target'],\n",
       "        num_rows: 1088\n",
       "    })\n",
       "    test: Dataset({\n",
       "        features: ['source', 'target'],\n",
       "        num_rows: 233\n",
       "    })\n",
       "    validation: Dataset({\n",
       "        features: ['source', 'target'],\n",
       "        num_rows: 59\n",
       "    })\n",
       "})"
      ]
     },
     "execution_count": 30,
     "metadata": {},
     "output_type": "execute_result"
    }
   ],
   "source": [
    "issue_4 = narrative_data.filter(lambda x: \"â\\x80\\x99\" in x[\"source\"])\n",
    "issue_4"
   ]
  },
  {
   "cell_type": "code",
   "execution_count": 29,
   "id": "983fdba3-1747-4e9e-b440-1235cb99bd1c",
   "metadata": {},
   "outputs": [
    {
     "data": {
      "application/vnd.jupyter.widget-view+json": {
       "model_id": "778fd3acf77b4939bcf69004007f2853",
       "version_major": 2,
       "version_minor": 0
      },
      "text/plain": [
       "Filter:   0%|          | 0/32747 [00:00<?, ? examples/s]"
      ]
     },
     "metadata": {},
     "output_type": "display_data"
    },
    {
     "data": {
      "application/vnd.jupyter.widget-view+json": {
       "model_id": "b217235551864f8097329fd5c6ae4516",
       "version_major": 2,
       "version_minor": 0
      },
      "text/plain": [
       "Filter:   0%|          | 0/10557 [00:00<?, ? examples/s]"
      ]
     },
     "metadata": {},
     "output_type": "display_data"
    },
    {
     "data": {
      "application/vnd.jupyter.widget-view+json": {
       "model_id": "ab7281c721c043b59423adb6de4eb340",
       "version_major": 2,
       "version_minor": 0
      },
      "text/plain": [
       "Filter:   0%|          | 0/3461 [00:00<?, ? examples/s]"
      ]
     },
     "metadata": {},
     "output_type": "display_data"
    },
    {
     "data": {
      "text/plain": [
       "DatasetDict({\n",
       "    train: Dataset({\n",
       "        features: ['source', 'target'],\n",
       "        num_rows: 148\n",
       "    })\n",
       "    test: Dataset({\n",
       "        features: ['source', 'target'],\n",
       "        num_rows: 119\n",
       "    })\n",
       "    validation: Dataset({\n",
       "        features: ['source', 'target'],\n",
       "        num_rows: 0\n",
       "    })\n",
       "})"
      ]
     },
     "execution_count": 29,
     "metadata": {},
     "output_type": "execute_result"
    }
   ],
   "source": [
    "issue_5 = narrative_data.filter(lambda x: \"â\\x80\\x9d\" in x[\"source\"])\n",
    "issue_5"
   ]
  },
  {
   "cell_type": "code",
   "execution_count": 8,
   "id": "75e8da66-0874-46f4-832c-1c9545eaf703",
   "metadata": {},
   "outputs": [
    {
     "data": {
      "application/vnd.jupyter.widget-view+json": {
       "model_id": "618bfed0b0b94b809bc6e3aed912a8df",
       "version_major": 2,
       "version_minor": 0
      },
      "text/plain": [
       "Filter:   0%|          | 0/32747 [00:00<?, ? examples/s]"
      ]
     },
     "metadata": {},
     "output_type": "display_data"
    },
    {
     "data": {
      "application/vnd.jupyter.widget-view+json": {
       "model_id": "9326476d6cfc4b66833b42da6ace0167",
       "version_major": 2,
       "version_minor": 0
      },
      "text/plain": [
       "Filter:   0%|          | 0/10557 [00:00<?, ? examples/s]"
      ]
     },
     "metadata": {},
     "output_type": "display_data"
    },
    {
     "data": {
      "application/vnd.jupyter.widget-view+json": {
       "model_id": "1db1887dbdac4cf8a248730140e37946",
       "version_major": 2,
       "version_minor": 0
      },
      "text/plain": [
       "Filter:   0%|          | 0/3461 [00:00<?, ? examples/s]"
      ]
     },
     "metadata": {},
     "output_type": "display_data"
    },
    {
     "data": {
      "text/plain": [
       "DatasetDict({\n",
       "    train: Dataset({\n",
       "        features: ['source', 'target'],\n",
       "        num_rows: 145\n",
       "    })\n",
       "    test: Dataset({\n",
       "        features: ['source', 'target'],\n",
       "        num_rows: 90\n",
       "    })\n",
       "    validation: Dataset({\n",
       "        features: ['source', 'target'],\n",
       "        num_rows: 0\n",
       "    })\n",
       "})"
      ]
     },
     "execution_count": 8,
     "metadata": {},
     "output_type": "execute_result"
    }
   ],
   "source": [
    "issue_6 = narrative_data.filter(lambda x: \"â\\x80\\x9c\" in x[\"source\"])\n",
    "issue_6"
   ]
  },
  {
   "cell_type": "code",
   "execution_count": 27,
   "id": "ceac47a7-905b-40a2-a83c-03eacd57f46c",
   "metadata": {},
   "outputs": [
    {
     "data": {
      "application/vnd.jupyter.widget-view+json": {
       "model_id": "4845ab05eac844b18d64e4e30ae4bf31",
       "version_major": 2,
       "version_minor": 0
      },
      "text/plain": [
       "Filter:   0%|          | 0/32747 [00:00<?, ? examples/s]"
      ]
     },
     "metadata": {},
     "output_type": "display_data"
    },
    {
     "data": {
      "application/vnd.jupyter.widget-view+json": {
       "model_id": "862e8febd5714db484ad30769aa235e5",
       "version_major": 2,
       "version_minor": 0
      },
      "text/plain": [
       "Filter:   0%|          | 0/10557 [00:00<?, ? examples/s]"
      ]
     },
     "metadata": {},
     "output_type": "display_data"
    },
    {
     "data": {
      "application/vnd.jupyter.widget-view+json": {
       "model_id": "a2f06feca14848f4844289c7eb4bb17c",
       "version_major": 2,
       "version_minor": 0
      },
      "text/plain": [
       "Filter:   0%|          | 0/3461 [00:00<?, ? examples/s]"
      ]
     },
     "metadata": {},
     "output_type": "display_data"
    },
    {
     "data": {
      "text/plain": [
       "DatasetDict({\n",
       "    train: Dataset({\n",
       "        features: ['source', 'target'],\n",
       "        num_rows: 0\n",
       "    })\n",
       "    test: Dataset({\n",
       "        features: ['source', 'target'],\n",
       "        num_rows: 0\n",
       "    })\n",
       "    validation: Dataset({\n",
       "        features: ['source', 'target'],\n",
       "        num_rows: 30\n",
       "    })\n",
       "})"
      ]
     },
     "execution_count": 27,
     "metadata": {},
     "output_type": "execute_result"
    }
   ],
   "source": [
    "issue_7 = narrative_data.filter(lambda x: \"Ă˛\" in x[\"source\"])\n",
    "issue_7"
   ]
  },
  {
   "cell_type": "code",
   "execution_count": 26,
   "id": "6dee4974-03cf-4572-8a50-f374f69f3c06",
   "metadata": {},
   "outputs": [
    {
     "data": {
      "application/vnd.jupyter.widget-view+json": {
       "model_id": "6146215532f54071b348fd7869307570",
       "version_major": 2,
       "version_minor": 0
      },
      "text/plain": [
       "Filter:   0%|          | 0/32747 [00:00<?, ? examples/s]"
      ]
     },
     "metadata": {},
     "output_type": "display_data"
    },
    {
     "data": {
      "application/vnd.jupyter.widget-view+json": {
       "model_id": "3e568e8b85114a3faed290d0cb50f10e",
       "version_major": 2,
       "version_minor": 0
      },
      "text/plain": [
       "Filter:   0%|          | 0/10557 [00:00<?, ? examples/s]"
      ]
     },
     "metadata": {},
     "output_type": "display_data"
    },
    {
     "data": {
      "application/vnd.jupyter.widget-view+json": {
       "model_id": "3fc849bbafb94a83ab119355114b1f60",
       "version_major": 2,
       "version_minor": 0
      },
      "text/plain": [
       "Filter:   0%|          | 0/3461 [00:00<?, ? examples/s]"
      ]
     },
     "metadata": {},
     "output_type": "display_data"
    },
    {
     "data": {
      "text/plain": [
       "DatasetDict({\n",
       "    train: Dataset({\n",
       "        features: ['source', 'target'],\n",
       "        num_rows: 0\n",
       "    })\n",
       "    test: Dataset({\n",
       "        features: ['source', 'target'],\n",
       "        num_rows: 60\n",
       "    })\n",
       "    validation: Dataset({\n",
       "        features: ['source', 'target'],\n",
       "        num_rows: 0\n",
       "    })\n",
       "})"
      ]
     },
     "execution_count": 26,
     "metadata": {},
     "output_type": "execute_result"
    }
   ],
   "source": [
    "issue_8 = narrative_data.filter(lambda x: \"Ă\\x89\" in x[\"source\"])\n",
    "issue_8"
   ]
  },
  {
   "cell_type": "code",
   "execution_count": 20,
   "id": "8a68ac68-c445-4c45-8f9d-1786262ff303",
   "metadata": {},
   "outputs": [
    {
     "data": {
      "application/vnd.jupyter.widget-view+json": {
       "model_id": "2d4115f16d054c58a77204d578141f4b",
       "version_major": 2,
       "version_minor": 0
      },
      "text/plain": [
       "Filter:   0%|          | 0/32747 [00:00<?, ? examples/s]"
      ]
     },
     "metadata": {},
     "output_type": "display_data"
    },
    {
     "data": {
      "application/vnd.jupyter.widget-view+json": {
       "model_id": "9743b1db34214ba19e9e124704ea3695",
       "version_major": 2,
       "version_minor": 0
      },
      "text/plain": [
       "Filter:   0%|          | 0/10557 [00:00<?, ? examples/s]"
      ]
     },
     "metadata": {},
     "output_type": "display_data"
    },
    {
     "data": {
      "application/vnd.jupyter.widget-view+json": {
       "model_id": "74ce46f3b2d84e0285915d2f18fab3ca",
       "version_major": 2,
       "version_minor": 0
      },
      "text/plain": [
       "Filter:   0%|          | 0/3461 [00:00<?, ? examples/s]"
      ]
     },
     "metadata": {},
     "output_type": "display_data"
    },
    {
     "data": {
      "text/plain": [
       "DatasetDict({\n",
       "    train: Dataset({\n",
       "        features: ['source', 'target'],\n",
       "        num_rows: 461\n",
       "    })\n",
       "    test: Dataset({\n",
       "        features: ['source', 'target'],\n",
       "        num_rows: 89\n",
       "    })\n",
       "    validation: Dataset({\n",
       "        features: ['source', 'target'],\n",
       "        num_rows: 60\n",
       "    })\n",
       "})"
      ]
     },
     "execution_count": 20,
     "metadata": {},
     "output_type": "execute_result"
    }
   ],
   "source": [
    "issue_9 = narrative_data.filter(lambda x: \"ÂŁ\" in x[\"source\"])\n",
    "issue_9"
   ]
  },
  {
   "cell_type": "code",
   "execution_count": 23,
   "id": "67cd5356-8f9e-406e-9ef5-86c4d1cefc1f",
   "metadata": {},
   "outputs": [
    {
     "data": {
      "application/vnd.jupyter.widget-view+json": {
       "model_id": "dc7e522bb8d6431787b99a8e6dc1bdb0",
       "version_major": 2,
       "version_minor": 0
      },
      "text/plain": [
       "Filter:   0%|          | 0/32747 [00:00<?, ? examples/s]"
      ]
     },
     "metadata": {},
     "output_type": "display_data"
    },
    {
     "data": {
      "application/vnd.jupyter.widget-view+json": {
       "model_id": "7d9aac9ff71f4874a13686bd7c758f52",
       "version_major": 2,
       "version_minor": 0
      },
      "text/plain": [
       "Filter:   0%|          | 0/10557 [00:00<?, ? examples/s]"
      ]
     },
     "metadata": {},
     "output_type": "display_data"
    },
    {
     "data": {
      "application/vnd.jupyter.widget-view+json": {
       "model_id": "a119a901564340e9abaf90f74e6c8e36",
       "version_major": 2,
       "version_minor": 0
      },
      "text/plain": [
       "Filter:   0%|          | 0/3461 [00:00<?, ? examples/s]"
      ]
     },
     "metadata": {},
     "output_type": "display_data"
    },
    {
     "data": {
      "text/plain": [
       "DatasetDict({\n",
       "    train: Dataset({\n",
       "        features: ['source', 'target'],\n",
       "        num_rows: 0\n",
       "    })\n",
       "    test: Dataset({\n",
       "        features: ['source', 'target'],\n",
       "        num_rows: 30\n",
       "    })\n",
       "    validation: Dataset({\n",
       "        features: ['source', 'target'],\n",
       "        num_rows: 0\n",
       "    })\n",
       "})"
      ]
     },
     "execution_count": 23,
     "metadata": {},
     "output_type": "execute_result"
    }
   ],
   "source": [
    "issue_10 = narrative_data.filter(lambda x: \"â\\x80\\x89\" in x[\"source\"])\n",
    "issue_10"
   ]
  },
  {
   "cell_type": "code",
   "execution_count": 22,
   "id": "bb8f2bd6-d384-4cb4-8a93-e1796b226a5f",
   "metadata": {},
   "outputs": [
    {
     "data": {
      "application/vnd.jupyter.widget-view+json": {
       "model_id": "3cf439df88d44c3a8069cd60f028f91f",
       "version_major": 2,
       "version_minor": 0
      },
      "text/plain": [
       "Filter:   0%|          | 0/32747 [00:00<?, ? examples/s]"
      ]
     },
     "metadata": {},
     "output_type": "display_data"
    },
    {
     "data": {
      "application/vnd.jupyter.widget-view+json": {
       "model_id": "28bacba6bee740d3b876b24a5a779216",
       "version_major": 2,
       "version_minor": 0
      },
      "text/plain": [
       "Filter:   0%|          | 0/10557 [00:00<?, ? examples/s]"
      ]
     },
     "metadata": {},
     "output_type": "display_data"
    },
    {
     "data": {
      "application/vnd.jupyter.widget-view+json": {
       "model_id": "1ceefa080db0471fb10cc9f03a248792",
       "version_major": 2,
       "version_minor": 0
      },
      "text/plain": [
       "Filter:   0%|          | 0/3461 [00:00<?, ? examples/s]"
      ]
     },
     "metadata": {},
     "output_type": "display_data"
    },
    {
     "data": {
      "text/plain": [
       "DatasetDict({\n",
       "    train: Dataset({\n",
       "        features: ['source', 'target'],\n",
       "        num_rows: 60\n",
       "    })\n",
       "    test: Dataset({\n",
       "        features: ['source', 'target'],\n",
       "        num_rows: 29\n",
       "    })\n",
       "    validation: Dataset({\n",
       "        features: ['source', 'target'],\n",
       "        num_rows: 0\n",
       "    })\n",
       "})"
      ]
     },
     "execution_count": 22,
     "metadata": {},
     "output_type": "execute_result"
    }
   ],
   "source": [
    "issue_11 = narrative_data.filter(lambda x: \"Ĺ\\x8d\" in x[\"source\"])\n",
    "issue_11"
   ]
  },
  {
   "cell_type": "code",
   "execution_count": 24,
   "id": "a8b13153-9a37-424f-b6ea-aa6030adb4ee",
   "metadata": {},
   "outputs": [
    {
     "data": {
      "application/vnd.jupyter.widget-view+json": {
       "model_id": "5b83ee043e8a4d1893bd26f48c9d897d",
       "version_major": 2,
       "version_minor": 0
      },
      "text/plain": [
       "Filter:   0%|          | 0/32747 [00:00<?, ? examples/s]"
      ]
     },
     "metadata": {},
     "output_type": "display_data"
    },
    {
     "data": {
      "application/vnd.jupyter.widget-view+json": {
       "model_id": "151461826c144afe8e7ed6af432cb8aa",
       "version_major": 2,
       "version_minor": 0
      },
      "text/plain": [
       "Filter:   0%|          | 0/10557 [00:00<?, ? examples/s]"
      ]
     },
     "metadata": {},
     "output_type": "display_data"
    },
    {
     "data": {
      "application/vnd.jupyter.widget-view+json": {
       "model_id": "019b5511ca2a40b9a288b0d1002f5266",
       "version_major": 2,
       "version_minor": 0
      },
      "text/plain": [
       "Filter:   0%|          | 0/3461 [00:00<?, ? examples/s]"
      ]
     },
     "metadata": {},
     "output_type": "display_data"
    },
    {
     "data": {
      "text/plain": [
       "DatasetDict({\n",
       "    train: Dataset({\n",
       "        features: ['source', 'target'],\n",
       "        num_rows: 30\n",
       "    })\n",
       "    test: Dataset({\n",
       "        features: ['source', 'target'],\n",
       "        num_rows: 29\n",
       "    })\n",
       "    validation: Dataset({\n",
       "        features: ['source', 'target'],\n",
       "        num_rows: 0\n",
       "    })\n",
       "})"
      ]
     },
     "execution_count": 24,
     "metadata": {},
     "output_type": "execute_result"
    }
   ],
   "source": [
    "issue_12 = narrative_data.filter(lambda x: \"â\\x82Ź\" in x[\"source\"])\n",
    "issue_12"
   ]
  },
  {
   "cell_type": "code",
   "execution_count": 25,
   "id": "07af8d96-bac1-467d-ac67-e690edd175b5",
   "metadata": {},
   "outputs": [
    {
     "data": {
      "text/plain": [
       "DatasetDict({\n",
       "    train: Dataset({\n",
       "        features: ['source', 'target'],\n",
       "        num_rows: 499\n",
       "    })\n",
       "    test: Dataset({\n",
       "        features: ['source', 'target'],\n",
       "        num_rows: 245\n",
       "    })\n",
       "    validation: Dataset({\n",
       "        features: ['source', 'target'],\n",
       "        num_rows: 60\n",
       "    })\n",
       "})"
      ]
     },
     "execution_count": 25,
     "metadata": {},
     "output_type": "execute_result"
    }
   ],
   "source": [
    "issue_13 = narrative_data.filter(lambda x: \"Â\\xa0\" in x[\"source\"])\n",
    "issue_13"
   ]
  },
  {
   "cell_type": "code",
   "execution_count": 69,
   "id": "70220243-3de2-4830-8460-794ca39840e3",
   "metadata": {},
   "outputs": [
    {
     "name": "stdout",
     "output_type": "stream",
     "text": [
      "Issue 1:\n",
      "\n",
      " he assembles six men from his companyât/sgt.\n",
      " mason contacts o'malley, who supplies him with weapons and tells him that his son is still aliveâo'malley adopted mason's son and sent him to a private school so that he would be out of danger.\n",
      " working for different companies, the \"tin men\" are prepared to do almost anythingâlegal or illegalâto close a sale.\n",
      "\n",
      "\n",
      "Issue 2:\n",
      "\n",
      " ash eventually finds the real one and attempts to say the magic phrase that will allow him to remove the book safelyâ â \"klaatu barada nikto\".\n",
      " there is still left the consolation that a happy end would come for humanity as a wholeâ â though hundreds of years too late for avis and ernest as individuals; the cruel oligarchy would fall, and the two will be vindicated and respected by posterity as pioneers and martyrs.\n",
      " ash eventually finds the real one and attempts to say the magic phrase that will allow him to remove the book safelyâ â \"klaatu barada nikto\".\n",
      "\n",
      "\n",
      "Issue 3:\n",
      "\n",
      " a group of college friends consisted of harvey, nikki, rob, skip, nan, chaz, kit, and archâgather, celebrate spring break by spending the weekend at the island mansion of their friend and skip's sister muffy st.\n",
      " the weylandâyutani commando team arrives, including a man who looks identical to bishop and explains that he is bishop's creator.\n",
      " the narrator devotes many journal entries to describing the wallpaper in the room â its \"yellow\" smell, its \"breakneck\" pattern, the missing patches, and the way it leaves yellow smears on the skin and clothing of anyone who touches it.\n",
      "\n",
      "\n",
      "Issue 4:\n",
      "\n",
      "\" beth replies, \"buck would have never been in the hospital!\" beth and calvin take a trip to see bethâs brother in houston, where calvin confronts beth, calling her out on her attitude.\n",
      " learning the location of the familyâs residence from a hotel porter, he finds the house, only to realize that it would be futile to intrude.\n",
      " brown comes to ask for phoebeâs hand and is turned down without explanation.\n",
      "\n",
      "\n",
      "Issue 5:\n",
      "\n",
      " in 1883, alfred russel wallace wrote a tribute to darwin (entitled 'the debt of science to darwinâ) who had died the year before.\n",
      " as he dies, quaid warns d'amour that âthe puritanâ is coming.\n",
      " the last line is from the receptionist at the bureau: â\"thank you, sir,\" said the hostess.\n",
      "\n",
      "\n",
      "Issue 6:\n",
      "\n",
      " as he dies, quaid warns d'amour that âthe puritanâ is coming.\n",
      " lefty teaches donnie the rules of the mafia and introduces him to several \"made men\" including dominick \"sonny black\" napolitano, and nicholas santora, as well as caporegime alphonse âsonny redâ indelicato to whom lefty owes money and is disliked by sonny black.\n",
      " lefty teaches donnie the rules of the mafia and introduces him to several \"made men\" including dominick \"sonny black\" napolitano, and nicholas santora, as well as caporegime alphonse âsonny redâ indelicato to whom lefty owes money and is disliked by sonny black.\n",
      "\n",
      "\n",
      "Issue 7:\n",
      "\n",
      " in exchange for retrieving the tesseract,â˛ a powerful energy source of unknown potential, the other promises loki an army with which he can subjugate earth.\n",
      " in exchange for retrieving the tesseract,â˛ a powerful energy source of unknown potential, the other promises loki an army with which he can subjugate earth.\n",
      " in exchange for retrieving the tesseract,â˛ a powerful energy source of unknown potential, the other promises loki an army with which he can subjugate earth.\n",
      "\n",
      "\n",
      "Issue 8:\n",
      "\n",
      " the story of the infernal rise of ăvariste gamelin, a young parisian painter, involved in the section for his neighborhood of pont-neuf, the gods are athirst describes the dark years of the reign of terror in paris, from year ii to year iii.\n",
      " he wakes aboard a yacht with the surfer, bodhi (ădgar ramă­rez), and his team roach (clemens schick), chowder (tobias santelmann), and grommet (matias varela).\n",
      " the story of the infernal rise of ăvariste gamelin, a young parisian painter, involved in the section for his neighborhood of pont-neuf, the gods are athirst describes the dark years of the reign of terror in paris, from year ii to year iii.\n",
      "\n",
      "\n",
      "Issue 9:\n",
      "\n",
      " in exchange for retrieving the tesseract,â˛ a powerful energy source of unknown potential, the other promises loki an army with which he can subjugate earth.\n",
      " with use of the potion, he lures auriol into a compact whereby he is given a magnificent mansion in st james's square and âł120,000, in exchange for a female victim whenever rougemont requires one from him.\n",
      " acheson has spent years hunting alexander pearce, a lover of elise, who owes âł744 million in back taxes, and is believed to have received plastic surgery to alter his appearance.\n",
      "\n",
      "\n",
      "Issue 10:\n",
      "\n",
      " once upon a time and a very good time it was there was a moocow coming down along the road and this moocow that was coming down along the road met a nicens little boy named baby tuckooâ .\n",
      " once upon a time and a very good time it was there was a moocow coming down along the road and this moocow that was coming down along the road met a nicens little boy named baby tuckooâ .\n",
      " once upon a time and a very good time it was there was a moocow coming down along the road and this moocow that was coming down along the road met a nicens little boy named baby tuckooâ .\n",
      "\n",
      "\n",
      "Issue 11:\n",
      "\n",
      " the saeki family rose again as ghosts due to their rage and sorrow, notably kayako, who appears as an onryĺ ghost, leaving the curse on the house.\n",
      " the saeki family rose again as ghosts due to their rage and sorrow, notably kayako, who appears as an onryĺ ghost, leaving the curse on the house.\n",
      " in the opening chapter he hurts himself jumping from the second floor of his elementary school, fights the boy next door, and tramples a neighbor's carrot patch by wrestling (sumĺ style) on the straw that covers the seedlings.\n",
      "\n",
      "\n",
      "Issue 12:\n",
      "\n",
      " lenny charges uri âź7,000,000 for the crooked deal; uri has his accountant stella find funds.\n",
      " lenny charges uri âź7,000,000 for the crooked deal; uri has his accountant stella find funds.\n",
      " funding is raised by selling tickets at âź1â billion per person.\n",
      "\n",
      "\n",
      "Issue 13:\n",
      "\n",
      " a 50-foot (15â m) containment wall surrounds the island and routes out of manhattan have been dismantled or mined, while armed helicopters patrol the rivers.\n",
      " buck is then sold to a pair of french-canadian dispatchers from the canadian government, frană§ois and perrault, who take him with them to the klondike region of canada.\n",
      " successful, gabriel offers stanley $10â million to program multi-headed worm, a \"hydra\", to siphon $9.\n",
      "\n",
      "\n"
     ]
    }
   ],
   "source": [
    "for i, issue in enumerate([issue_1, issue_2, issue_3, issue_4, issue_5, issue_6, issue_7, issue_8, issue_9, issue_10, issue_11, issue_12, issue_13]):\n",
    "    concat_dataset = concatenate_datasets(\n",
    "            [issue[\"train\"], issue[\"test\"], issue[\"validation\"]]\n",
    "        )\n",
    "    examples = concat_dataset.shuffle(seed=1).select(range(3))\n",
    "\n",
    "    print(f\"Issue {i+1}:\\n\")\n",
    "    for example in examples:\n",
    "        print([sentence + '.' for sentence in example[\"source\"].split('.') if 'â' in sentence or 'ă' in sentence or 'ĺ' in sentence][0])\n",
    "    print('\\n')\n"
   ]
  },
  {
   "cell_type": "markdown",
   "id": "b1616de4-c735-4f29-8668-80a4258ba391",
   "metadata": {},
   "source": [
    "Looking at the output of the examples for each issue, we should replace the characters with:\n",
    "\n",
    "1. ', '\n",
    "2. ' -'\n",
    "3. '-'\n",
    "4. \"'\"\n",
    "5. ''\n",
    "6. ''\n",
    "7. 'o'\n",
    "8. 'é'\n",
    "9. '$'\n",
    "10. ''\n",
    "11. 'ō'\n",
    "12. '€'\n",
    "13. ''"
   ]
  },
  {
   "cell_type": "code",
   "execution_count": null,
   "id": "2124c093-59d8-4d42-9613-3d0ff27efb21",
   "metadata": {},
   "outputs": [],
   "source": []
  }
 ],
 "metadata": {
  "kernelspec": {
   "display_name": "Python 3 (ipykernel)",
   "language": "python",
   "name": "python3"
  },
  "language_info": {
   "codemirror_mode": {
    "name": "ipython",
    "version": 3
   },
   "file_extension": ".py",
   "mimetype": "text/x-python",
   "name": "python",
   "nbconvert_exporter": "python",
   "pygments_lexer": "ipython3",
   "version": "3.10.13"
  }
 },
 "nbformat": 4,
 "nbformat_minor": 5
}
